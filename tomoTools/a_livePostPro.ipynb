{
 "cells": [
  {
   "cell_type": "code",
   "execution_count": 1,
   "outputs": [],
   "source": [
    "%reset -f"
   ],
   "metadata": {
    "collapsed": false,
    "pycharm": {
     "name": "#%%  Clear memory\n"
    }
   }
  },
  {
   "cell_type": "code",
   "execution_count": 2,
   "id": "781d037d",
   "metadata": {
    "pycharm": {
     "name": "#%% Setup\n"
    }
   },
   "outputs": [
    {
     "data": {
      "text/plain": "<IPython.core.display.HTML object>",
      "text/html": "<style>.container { width:90% !important; }</style>"
     },
     "metadata": {},
     "output_type": "display_data"
    }
   ],
   "source": [
    "# Close all widgets\n",
    "import ipywidgets\n",
    "ipywidgets.Widget.close_all()\n",
    "\n",
    "# Widden display of notebook\n",
    "from IPython.core.display import display, HTML\n",
    "display(HTML(\"<style>.container { width:90% !important; }</style>\"))\n",
    "\n",
    "%load_ext autoreload\n",
    "%autoreload 2\n",
    "import gc # Garbage collected\n",
    "import numpy as np\n",
    "import sys, os\n",
    "import time\n",
    "import tifffile\n",
    "import matplotlib.pyplot as plt\n",
    "import scipy\n",
    "from tkinter import Tk\n",
    "from tkinter.filedialog import askopenfilename, askopenfilenames\n",
    "import torch"
   ]
  },
  {
   "cell_type": "code",
   "execution_count": 3,
   "outputs": [
    {
     "name": "stdout",
     "output_type": "stream",
     "text": [
      "['/Documents/tools/anaconda3/envs/als/lib/python36.zip', '/Documents/tools/anaconda3/envs/als/lib/python3.6', '/Documents/tools/anaconda3/envs/als/lib/python3.6/lib-dynload', '', '/home/eboigne/.local/lib/python3.6/site-packages', '/Documents/tools/anaconda3/envs/als/lib/python3.6/site-packages', '/Documents/tools/anaconda3/envs/als/lib/python3.6/site-packages/IPython/extensions', '/home/eboigne/.ipython', '/home/eboigne/.local/share/JetBrains/Toolbox/apps/PyCharm-P/ch-0/212.5284.44/plugins/python/helpers/pydev', '/home/eboigne/.local/share/JetBrains/Toolbox/apps/PyCharm-P/ch-0/212.5284.44/plugins/python/helpers-pro/jupyter_debug']\n"
     ]
    }
   ],
   "source": [
    "print(sys.path)\n",
    "from scripts import *"
   ],
   "metadata": {
    "collapsed": false,
    "pycharm": {
     "name": "#%%\n"
    }
   }
  },
  {
   "cell_type": "code",
   "execution_count": 5,
   "outputs": [
    {
     "data": {
      "text/plain": "0"
     },
     "execution_count": 5,
     "metadata": {},
     "output_type": "execute_result"
    }
   ],
   "source": [
    "torch.cuda.empty_cache()\n",
    "gc.collect()"
   ],
   "metadata": {
    "collapsed": false,
    "pycharm": {
     "name": "#%% Clear data\n"
    }
   }
  },
  {
   "cell_type": "code",
   "execution_count": 6,
   "id": "1470a344",
   "metadata": {
    "pycharm": {
     "name": "#%% Check PyTorch has access to CUDA on GPU\n"
    }
   },
   "outputs": [
    {
     "name": "stdout",
     "output_type": "stream",
     "text": [
      "0\n"
     ]
    }
   ],
   "source": [
    "assert torch._C._cuda_getDeviceCount() > 0, 'No GPU detected'\n",
    "print(torch.cuda.current_device())"
   ]
  },
  {
   "cell_type": "code",
   "execution_count": 7,
   "id": "0db59c69",
   "metadata": {
    "pycharm": {
     "name": "#%% Set a path\n"
    }
   },
   "outputs": [],
   "source": [
    "path_save = '/Documents/nersc_als/2022_wood/'"
   ]
  },
  {
   "cell_type": "code",
   "execution_count": 8,
   "id": "06aa4f55",
   "metadata": {
    "pycharm": {
     "name": "#%% Choose dark\n"
    }
   },
   "outputs": [
    {
     "name": "stdout",
     "output_type": "stream",
     "text": [
      "Using file: /Documents/nersc_als/2022_wood/20220501_094201_21_dark_2560x1396.h5\n",
      "\t- 10 dark fields\n",
      "\t- 0 white fields\n",
      "\t- 385 projections\n",
      "\t- Image size: (1396, 2560)\n"
     ]
    }
   ],
   "source": [
    "use_dark_from_scan = False\n",
    "if not use_dark_from_scan:\n",
    "    h5py_file_dark = read_h5_file(path_save)[0]"
   ]
  },
  {
   "cell_type": "code",
   "execution_count": 9,
   "id": "f111d6df",
   "metadata": {
    "pycharm": {
     "name": "#%% Choose flat file\n"
    }
   },
   "outputs": [],
   "source": [
    "use_flat_from_scan = True\n",
    "if not use_flat_from_scan:\n",
    "    h5py_file_flat = read_h5_file(path_save)[0]"
   ]
  },
  {
   "cell_type": "code",
   "execution_count": 10,
   "id": "09c52bf7",
   "metadata": {
    "code_folding": [],
    "scrolled": true,
    "pycharm": {
     "name": "#%% Choose proj file\n"
    }
   },
   "outputs": [
    {
     "name": "stdout",
     "output_type": "stream",
     "text": [
      "Using file: /Documents/nersc_als/2022_wood/20220501_172426_24_SampleB2_2xLens_01_pre_2625.h5\n",
      "\t- 10 dark fields\n",
      "\t- 100 white fields\n",
      "\t- 5249 projections\n",
      "\t- Image size: (1396, 2560)\n"
     ]
    }
   ],
   "source": [
    "h5py_file = read_h5_file(path_save)[0]"
   ]
  },
  {
   "cell_type": "code",
   "execution_count": 19,
   "id": "cec53deb",
   "metadata": {
    "pycharm": {
     "name": "#%% Parameters for pre-processing sinogram data\n"
    }
   },
   "outputs": [],
   "source": [
    "# Acquisition parameters\n",
    "pixel_size_microns = 3.24 # [microns]\n",
    "N_angles_per_half_circle = 1313\n",
    "N_half_circles = 2 # With half-circles, and 0-180 range: the 180 angle is repeated (acquired twice)\n",
    "\n",
    "# Pre-processing parameters\n",
    "bin_factor = 2 # Bin projection, flat & dark images by this factor\n",
    "bin_factor_angle = 1 # Bin projection images along the angle direction by this factor\n",
    "bin_gpu_chunk_size = 10 * bin_factor * bin_factor + 3 # Max number of slices simultaneously processed on the GPU\n",
    "filter_type = 'ram-lak' # FBP filter. Note from ram-lak, apply Gaussian blur with radius sigma = 1 yields results really close to Parzen.\n",
    "skip_first_flats = 20 # Skip the first few N flats, usually not as good quality.\n",
    "\n",
    "# Double normalization parameters:\n",
    "# normalize out fluctuations in photon counts between successive projection images\n",
    "# using mean value in a window at the left and right of the FOV (where no sample is)\n",
    "boolean_use_DN = True # Whether to use the double normalization\n",
    "window_width_DN = 25 // bin_factor # Width of the window [in pixels]\n",
    "window_cutEdge_DN = 10 // bin_factor # How far the window is from the left and right edges of the FOV [in pixels]\n",
    "ind_range_DN = np.concatenate((np.arange(window_cutEdge_DN, window_width_DN,1),np.arange(h5py_file.width//bin_factor-(window_width_DN),2560//bin_factor-window_cutEdge_DN,1)))\n",
    "\n",
    "# Outlier correction\n",
    "use_outlier_correction = True\n",
    "gpu_median_filter_chunk_size = 10 * bin_factor * bin_factor + 3 # Avoid divider of Nangles and Nflats. Even smaller because median filter requires large memory use. Check nvidia-smi\n",
    "outlier_kernel_half_width = 2 # Make it at least bin_factor, otherwise can miss zinglers on first/last slices\n",
    "outlier_zinger_threshold = 0.3\n",
    "\n",
    "# Saving parameters:\n",
    "proj_save_every = 31\n",
    "save_sinogram = False\n",
    "sino_save_every = 1\n",
    "\n",
    "# For fast post-processing\n",
    "crop_image = True\n",
    "ind_image_crop_bottom = 690\n",
    "ind_image_crop_top = 710\n",
    "\n",
    "# Not recommended unless necessary\n",
    "boolean_use_TN = False # True"
   ]
  },
  {
   "cell_type": "code",
   "execution_count": null,
   "outputs": [
    {
     "name": "stdout",
     "output_type": "stream",
     "text": [
      "\tImporting dark -- Done\n",
      "\tBinning dark data .......... Done\n",
      "Processing file: /Documents/nersc_als/2022_wood/20220501_172426_24_SampleB2_2xLens_01_pre_2625.h5\n",
      "\tImporting flat -- Done\n",
      "\tImporting projections -- "
     ]
    }
   ],
   "source": [
    "height = h5py_file.height\n",
    "\n",
    "# Reconstruction\n",
    "if N_half_circles == 2:\n",
    "# For N_half_circles = 2, use ind_last_angle = 1 as last angle is the same as the first angle, and should thus be discarded\n",
    "    ind_last_angle = 1 # Counting backwards. 0: using all angles, 1: Skip last angle, ...\n",
    "else:\n",
    "# For N_half_circles = 1, unsure since acquisition scheme changed in 2021.\n",
    "    ind_last_angle = 0\n",
    "\n",
    "N_avg = 1\n",
    "angles_all = np.linspace(0, 2*np.pi, 2*(N_angles_per_half_circle*N_avg-(N_avg-1))-1)\n",
    "angles_to_use = angles_all\n",
    "angles_to_use1 = angles_to_use[:N_angles_per_half_circle-1]\n",
    "if ind_last_angle > 0:\n",
    "    angles_to_use2 = angles_to_use[N_angles_per_half_circle-1:-ind_last_angle]\n",
    "else:\n",
    "    angles_to_use2 = angles_to_use[N_angles_per_half_circle-1:]\n",
    "\n",
    "pixel_size_cm = pixel_size_microns / 1.0e4 * bin_factor\n",
    "\n",
    "ind_save_PMDOF_DN = np.concatenate((np.arange(0, (N_angles_per_half_circle-ind_last_angle)//bin_factor_angle, proj_save_every), np.arange((N_angles_per_half_circle-ind_last_angle)//bin_factor_angle-4,(N_angles_per_half_circle-ind_last_angle)//bin_factor_angle,1))).astype('int')\n",
    "ind_save_sinogram = np.arange(0, h5py_file.height, sino_save_every).astype('int')\n",
    "\n",
    "# ======================================== #\n",
    "\n",
    "print2('\\tImporting dark -- ',end='')\n",
    "if use_dark_from_scan:\n",
    "    dark = np.array(h5py_file['exchange']['data_dark']).astype('float32')\n",
    "else:\n",
    "    dark = np.array(h5py_file_dark['exchange']['data']).astype('float32')\n",
    "print2('Done')\n",
    "\n",
    "if crop_image:\n",
    "    dark = dark[:,ind_image_crop_bottom:ind_image_crop_top,:]\n",
    "\n",
    "if bin_factor>1:\n",
    "    print2('\\tBinning dark data ',end='')\n",
    "    dark = fast_pytorch_bin_chunk(dark,bin_factor, chunk_size = bin_gpu_chunk_size)\n",
    "    print2(' Done')\n",
    "dark_avg = np.mean(dark,axis = 0)\n",
    "\n",
    "ind_save_sinogram = ind_save_sinogram[ind_save_sinogram < dark.shape[1]]\n",
    "\n",
    "tic = time.time()\n",
    "print2('Processing file: '+str(h5py_file.path_file))\n",
    "\n",
    "print2('\\tImporting flat -- ',end='')\n",
    "if use_flat_from_scan:\n",
    "    flat = h5py_file['exchange']['data_white']\n",
    "else:\n",
    "    flat = h5py_file_flat['exchange']['data']\n",
    "print2('Done')\n",
    "\n",
    "flat = flat[skip_first_flats:]\n",
    "if crop_image:\n",
    "    flat = flat[:,ind_image_crop_bottom:ind_image_crop_top,:]\n",
    "\n",
    "print2('\\tImporting projections -- ',end='')\n",
    "proj = h5py_file['exchange']['data']\n",
    "print2('Done')\n",
    "\n",
    "if crop_image:\n",
    "    proj = proj[:,ind_image_crop_bottom:ind_image_crop_top,:]\n",
    "bin_str = str(bin_factor_angle)+'x'+str(bin_factor)+'x'+str(bin_factor)\n",
    "\n",
    "if bin_factor>1:\n",
    "    print2('\\tBinning data ',end='')\n",
    "    flat = fast_pytorch_bin_chunk(flat,bin_factor, chunk_size = bin_gpu_chunk_size)\n",
    "    if N_half_circles == 1:\n",
    "        if ind_last_angle > 0:\n",
    "            proj = proj[:-ind_last_angle]\n",
    "        proj = fast_pytorch_bin_chunk(proj,bin_factor, bin_factor_angle = bin_factor_angle, chunk_size = bin_gpu_chunk_size)\n",
    "    elif N_half_circles == 2:\n",
    "        if ind_last_angle > 0:\n",
    "            proj1 = fast_pytorch_bin_chunk(proj[:N_angles_per_half_circle-1],bin_factor, bin_factor_angle = bin_factor_angle, chunk_size = bin_gpu_chunk_size)\n",
    "            proj2 = fast_pytorch_bin_chunk(proj[N_angles_per_half_circle-1:-ind_last_angle],bin_factor, bin_factor_angle = bin_factor_angle, chunk_size = bin_gpu_chunk_size)\n",
    "        else:\n",
    "            proj1 = fast_pytorch_bin_chunk(proj[:N_angles_per_half_circle-1],bin_factor, bin_factor_angle = bin_factor_angle, chunk_size = bin_gpu_chunk_size)\n",
    "            proj2 = fast_pytorch_bin_chunk(proj[N_angles_per_half_circle-1:],bin_factor, bin_factor_angle = bin_factor_angle, chunk_size = bin_gpu_chunk_size)\n",
    "    print2(' Done')\n",
    "    ind_save_PMDOF_DN = ind_save_PMDOF_DN[ind_save_PMDOF_DN<proj2.shape[0]]\n",
    "else:\n",
    "    if N_half_circles == 2:\n",
    "        if ind_last_angle > 0:\n",
    "            proj1 = proj[:N_angles_per_half_circle-1]\n",
    "            proj2 = proj[N_angles_per_half_circle-1:-ind_last_angle]\n",
    "        else:\n",
    "            proj1 = proj[:N_angles_per_half_circle-1]\n",
    "            proj2 = proj[N_angles_per_half_circle-1:]\n",
    "\n",
    "if use_outlier_correction:\n",
    "    print2('\\tRemoving outliers (zingers) for flats ',end='')\n",
    "    flat = fast_pytorch_remove_zingers_chunk(flat, outlier_kernel_half_width, outlier_zinger_threshold, chunk_size = gpu_median_filter_chunk_size).astype('float32')\n",
    "    print2(' Done')\n",
    "\n",
    "    print2('\\tRemoving outliers (zingers) for proj ',end='')\n",
    "    if N_half_circles == 1:\n",
    "        proj = fast_pytorch_remove_zingers_chunk(proj, outlier_kernel_half_width, outlier_zinger_threshold, chunk_size = gpu_median_filter_chunk_size).astype('float32')\n",
    "    elif N_half_circles == 2:\n",
    "        proj1 = fast_pytorch_remove_zingers_chunk(proj1, outlier_kernel_half_width, outlier_zinger_threshold, chunk_size = gpu_median_filter_chunk_size).astype('float32')\n",
    "        proj2 = fast_pytorch_remove_zingers_chunk(proj2, outlier_kernel_half_width, outlier_zinger_threshold, chunk_size = gpu_median_filter_chunk_size).astype('float32')\n",
    "    print2(' Done')\n",
    "\n",
    "print2('\\tComputing transmission -- ',end='')\n",
    "flat += -dark_avg\n",
    "flat_avg = np.mean(flat,axis = 0).astype('float32')\n",
    "File.File(h5py_file.path_folder+h5py_file.file_name_noExtension+'/'+h5py_file.file_name_noExtension+'_bin'+bin_str+'_flat_avg', clear = True).saveTiff(flat_avg)\n",
    "if N_half_circles == 1:\n",
    "    proj += -dark_avg\n",
    "    proj /= flat_avg\n",
    "elif N_half_circles == 2:\n",
    "    proj1 += -dark_avg\n",
    "    proj2 += -dark_avg\n",
    "    N_flat = flat.shape[0]\n",
    "    proj1 /= flat_avg\n",
    "    proj2 /= flat_avg\n",
    "print2('Done')\n",
    "\n",
    "if boolean_use_DN:\n",
    "    print2('\\tComputing double normalization -- ',end='')\n",
    "    if N_half_circles == 1:\n",
    "        double_norm = np.reshape(np.mean(proj[:,:,ind_range_DN], axis=(1,2)), [proj.shape[0], 1,1]) # One coeff per angle\n",
    "        proj /= double_norm\n",
    "\n",
    "        if boolean_use_TN:\n",
    "            triple_norm = np.reshape(np.mean(proj[:,:,ind_range_DN], axis=(0,2)), [1, proj.shape[1],1]) # One coeff per slice (y-axis)\n",
    "            triple_normB = np.copy(triple_norm)\n",
    "            triple_normB[triple_normB<0.985] = 0.985\n",
    "            triple_normB[triple_normB>1.015] = 1.015\n",
    "            proj /= triple_normB\n",
    "\n",
    "    elif N_half_circles == 2:\n",
    "        double_norm1 = np.reshape(np.mean(proj1[:,:,ind_range_DN], axis=(1,2)), [proj1.shape[0], 1,1])\n",
    "        double_norm2 = np.reshape(np.mean(proj2[:,:,ind_range_DN], axis=(1,2)), [proj2.shape[0], 1,1])\n",
    "\n",
    "        proj1 /= double_norm1\n",
    "        proj2 /= double_norm2\n",
    "\n",
    "        if boolean_use_TN:\n",
    "            triple_norm1 = np.reshape(np.mean(proj1[:,:,ind_range_DN], axis=(0,2)), [1, proj1.shape[1],1])\n",
    "            triple_norm2 = np.reshape(np.mean(proj2[:,:,ind_range_DN], axis=(0,2)), [1, proj2.shape[1],1])\n",
    "\n",
    "            triple_norm1B = np.copy(triple_norm1)\n",
    "            triple_norm1B[triple_norm1B<0.985] = 0.985\n",
    "            triple_norm1B[triple_norm1B>1.015] = 1.015\n",
    "\n",
    "            triple_norm2B = np.copy(triple_norm2)\n",
    "            triple_norm2B[triple_norm2B<0.985] = 0.985\n",
    "            triple_norm2B[triple_norm2B>1.015] = 1.015\n",
    "\n",
    "            proj1 /= triple_norm1B\n",
    "            proj2 /= triple_norm2B\n",
    "    print2('Done')\n",
    "else:\n",
    "    print2('\\tSkipping double normalization')\n",
    "\n",
    "print2('\\tWriting PMDOF_DN to tif -- ',end='')\n",
    "if N_half_circles == 1:\n",
    "    suffix = '_bin'+bin_str+'_PMDOF_DN/'\n",
    "    File.File(h5py_file.path_folder+h5py_file.file_name_noExtension+'/'+h5py_file.file_name_noExtension+suffix, clear = True).saveTiffStack(proj[ind_save_PMDOF_DN,:,:],ind=ind_save_PMDOF_DN)\n",
    "\n",
    "elif N_half_circles == 2:\n",
    "    suffix = '_bin'+bin_str+'_PMDOF_DN_a_0-180/'\n",
    "    File.File(h5py_file.path_folder+h5py_file.file_name_noExtension+'/'+h5py_file.file_name_noExtension+suffix, clear = True).saveTiffStack(proj1[ind_save_PMDOF_DN,:,:],ind=ind_save_PMDOF_DN)\n",
    "\n",
    "    suffix = '_bin'+bin_str+'_PMDOF_DN_b_180-360/'\n",
    "    File.File(h5py_file.path_folder+h5py_file.file_name_noExtension+'/'+h5py_file.file_name_noExtension+suffix, clear = True).saveTiffStack(proj2[ind_save_PMDOF_DN,:,:],ind=ind_save_PMDOF_DN)\n",
    "print2('Done')\n",
    "\n",
    "print2('\\tMaking sinograms -- ',end='')\n",
    "if N_half_circles == 1:\n",
    "    sino = -np.log(np.transpose(proj[:,ind_save_sinogram,:], [1, 0, 2]))\n",
    "elif N_half_circles == 2:\n",
    "    sino1 = -np.log(np.transpose(proj1[:,ind_save_sinogram,:], [1, 0, 2]))\n",
    "    sino2 = -np.log(np.transpose(proj2[:,ind_save_sinogram,:], [1, 0, 2]))\n",
    "    sino = np.concatenate((sino1,sino2),axis = 1)\n",
    "print2('Done')\n",
    "\n",
    "del proj, proj1, proj2\n",
    "gc.collect()\n",
    "\n",
    "if save_sinogram:\n",
    "    print2('\\tWriting sinograms to tif -- ',end='')\n",
    "    if N_half_circles == 1:\n",
    "        suffix = '_bin'+bin_str+'_sino/'\n",
    "        File.File(h5py_file.path_folder+h5py_file.file_name_noExtension+'/'+h5py_file.file_name_noExtension+suffix, clear = True).saveTiffStack(sino,ind=ind_save_sinogram)\n",
    "    elif N_half_circles == 2:\n",
    "        suffix = '_bin'+bin_str+'_sino_a_0-180/'\n",
    "        File.File(h5py_file.path_folder+h5py_file.file_name_noExtension+'/'+h5py_file.file_name_noExtension+suffix, clear = True).saveTiffStack(sino1,ind=ind_save_sinogram)\n",
    "        suffix = '_bin'+bin_str+'_sino_b_180-360_flipped/'\n",
    "        File.File(h5py_file.path_folder+h5py_file.file_name_noExtension+'/'+h5py_file.file_name_noExtension+suffix, clear = True).saveTiffStack(sino2,ind=ind_save_sinogram)\n",
    "    print2('Done')"
   ],
   "metadata": {
    "collapsed": false,
    "pycharm": {
     "name": "#%% Pre-process sinogram data: SHOULDN'T CHANGE ANYTHING IN THIS CELL\n",
     "is_executing": true
    }
   }
  },
  {
   "cell_type": "code",
   "execution_count": null,
   "id": "871490fc",
   "metadata": {
    "pycharm": {
     "name": "#%% Tune COR\n"
    }
   },
   "outputs": [],
   "source": [
    "ind_sino = 150\n",
    "COR_table = np.linspace(-10, 0, 11)\n",
    "\n",
    "if N_half_circles == 1:\n",
    "    sino3 = sino\n",
    "else:\n",
    "    sino3 = sino1\n",
    "angles = np.linspace(0, np.pi, sino3.shape[1], False)\n",
    "\n",
    "rec = []\n",
    "for COR in COR_table:\n",
    "    rec.append(wrapper_ASTRA.FBP(sino3[ind_sino]/pixel_size_cm, filter_type=filter_type, angles = angles, center_rot = COR))\n",
    "rec = np.array(rec)\n",
    "suffix = '_tuningCOR'\n",
    "File.File(h5py_file.path_folder+h5py_file.file_name_noExtension+'/'+h5py_file.file_name_noExtension+suffix, clear = True).saveTiffStack(rec)"
   ]
  },
  {
   "cell_type": "code",
   "execution_count": null,
   "id": "795904eb",
   "metadata": {
    "pycharm": {
     "name": "#%% Check value for best COR\n"
    }
   },
   "outputs": [],
   "source": [
    "# Tune within ~0.1 pixels (then optimal is local anyway)\n",
    "best_ind = 2\n",
    "\n",
    "best_ind += -1 # Minus 1 from Fiji/ImageJ to Python\n",
    "print('Slice #'+str(best_ind-1)+' - COR is '+str(COR_table[best_ind-1]))\n",
    "print('Slice #'+str(best_ind)+' - COR is '+str(COR_table[best_ind]))\n",
    "print('Slice #'+str(best_ind+1)+' - COR is '+str(COR_table[best_ind+1]))"
   ]
  },
  {
   "cell_type": "code",
   "execution_count": null,
   "id": "5920749b",
   "metadata": {
    "pycharm": {
     "name": "#%% Run FBP reconstruction\n"
    }
   },
   "outputs": [],
   "source": [
    "COR = -4.5 * bin_factor / bin_factor # Center-of-rotation [Pixel]\n",
    "skip_every_slice = 10 # Only save every N-th slice\n",
    "\n",
    "tic = time.time()\n",
    "if N_half_circles == 1:\n",
    "    print2('\\tDoing FBP reconstruction -- ',end='')\n",
    "    rec = []\n",
    "    angles = np.linspace(0, np.pi, sino.shape[1], False)\n",
    "    for this_sino in sino:\n",
    "        rec.append(wrapper_ASTRA.FBP(this_sino/pixel_size_cm, filter_type=filter_type, angles = angles, center_rot = COR))\n",
    "    rec = np.array(rec)\n",
    "    print2('Done')\n",
    "\n",
    "    print2('\\tSaving FBP reconstruction ('+str(rec.shape[0])+' slices) -- ',end='')\n",
    "    suffix = '_bin'+bin_str+'_FBP_COR_'+str(COR).zfill(2)+'/'\n",
    "    File.File(h5py_file.path_folder+h5py_file.file_name_noExtension+'/'+h5py_file.file_name_noExtension+suffix, clear = True).saveTiffStack(rec,ind=ind_save_sinogram)\n",
    "    print2('Done')\n",
    "\n",
    "elif N_half_circles == 2:\n",
    "    print2('\\tDoing FBP reconstruction (1/2) -- ',end='')\n",
    "    rec1 = []\n",
    "    angles = angles_to_use1\n",
    "    for this_sino in sino1[::skip_every_slice]:\n",
    "        rec1.append(wrapper_ASTRA.FBP(this_sino/pixel_size_cm, filter_type=filter_type, angles = angles, center_rot = COR))\n",
    "    rec1 = np.array(rec1)\n",
    "    print2('Done (1/2)')\n",
    "\n",
    "    print2('\\tSaving FBP reconstruction (1/2) -- ',end='')\n",
    "    suffix = '_bin'+bin_str+'_FBP_COR_'+str(COR).zfill(2)+'/'\n",
    "    File.File(h5py_file.path_folder+h5py_file.file_name_noExtension+'/'+h5py_file.file_name_noExtension+suffix, clear = True).saveTiffStack(rec1,ind=ind_save_sinogram)\n",
    "    print2('Done (1/2)')\n",
    "\n",
    "    print2('\\tDoing FBP reconstruction (2/2) -- ',end='')\n",
    "    rec2 = []\n",
    "    angles = angles_to_use2\n",
    "    for this_sino in sino2[::skip_every_slice]:\n",
    "        rec2.append(wrapper_ASTRA.FBP(this_sino/pixel_size_cm, filter_type=filter_type, angles = angles, center_rot = COR))\n",
    "    rec2 = np.array(rec2)\n",
    "    print2('Done (2/2)')\n",
    "\n",
    "    print2('\\tSaving FBP reconstruction (2/2) -- ',end='')\n",
    "    suffix = '_bin'+bin_str+'_FBP_COR_'+str(COR).zfill(2)+'_b_180-360_flipped/'\n",
    "    File.File(h5py_file.path_folder+h5py_file.file_name_noExtension+'/'+h5py_file.file_name_noExtension+suffix, clear = True).saveTiffStack(rec2,ind=ind_save_sinogram)\n",
    "    print2('Done (2/2)')\n",
    "\n",
    "    print2('\\tSaving averaged of two half circles -- ',end='')\n",
    "    suffix = '_bin'+bin_str+'_FBP_COR_'+str(COR).zfill(2)+'_c_averaged_half_circles/'\n",
    "    File.File(h5py_file.path_folder+h5py_file.file_name_noExtension+'/'+h5py_file.file_name_noExtension+suffix, clear = True).saveTiffStack(0.5*(rec1+rec2),ind=ind_save_sinogram)\n",
    "    print2('Done')\n",
    "\n",
    "print2('This took '+str(time.time()-tic)+' s')\n"
   ]
  },
  {
   "cell_type": "code",
   "execution_count": null,
   "outputs": [],
   "source": [],
   "metadata": {
    "collapsed": false,
    "pycharm": {
     "name": "#%%\n"
    }
   }
  }
 ],
 "metadata": {
  "hide_input": false,
  "kernelspec": {
   "display_name": "Python 3",
   "language": "python",
   "name": "python3"
  },
  "language_info": {
   "codemirror_mode": {
    "name": "ipython",
    "version": 3
   },
   "file_extension": ".py",
   "mimetype": "text/x-python",
   "name": "python",
   "nbconvert_exporter": "python",
   "pygments_lexer": "ipython3",
   "version": "3.6.15"
  },
  "latex_envs": {
   "LaTeX_envs_menu_present": true,
   "autoclose": false,
   "autocomplete": true,
   "bibliofile": "biblio.bib",
   "cite_by": "apalike",
   "current_citInitial": 1,
   "eqLabelWithNumbers": true,
   "eqNumInitial": 1,
   "hotkeys": {
    "equation": "Ctrl-E",
    "itemize": "Ctrl-I"
   },
   "labels_anchors": false,
   "latex_user_defs": false,
   "report_style_numbering": false,
   "user_envs_cfg": false
  }
 },
 "nbformat": 4,
 "nbformat_minor": 5
}