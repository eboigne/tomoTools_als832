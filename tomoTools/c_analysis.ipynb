{
 "cells": [
  {
   "cell_type": "code",
   "execution_count": 1,
   "metadata": {
    "collapsed": true
   },
   "outputs": [],
   "source": [
    "# Clear memory\n",
    "%reset -f"
   ]
  },
  {
   "cell_type": "code",
   "execution_count": 2,
   "outputs": [
    {
     "data": {
      "text/plain": "<IPython.core.display.HTML object>",
      "text/html": "<style>.container { width:90% !important; }</style>"
     },
     "metadata": {},
     "output_type": "display_data"
    },
    {
     "name": "stdout",
     "output_type": "stream",
     "text": [
      "/global/u2/e/eboigne/tomoTools_als832/tomoTools\n"
     ]
    }
   ],
   "source": [
    "%load_ext autoreload\n",
    "%autoreload 2\n",
    "\n",
    "from IPython.core.display import display, HTML\n",
    "display(HTML(\"<style>.container { width:90% !important; }</style>\"))\n",
    "\n",
    "import ipywidgets\n",
    "ipywidgets.Widget.close_all()\n",
    "\n",
    "import SimpleITK\n",
    "import datetime\n",
    "import gc # Garbage collected\n",
    "import numpy as np\n",
    "import sys, os\n",
    "import time\n",
    "import tifffile\n",
    "import matplotlib.pyplot as plt\n",
    "import scipy\n",
    "from tkinter import Tk\n",
    "from tkinter.filedialog import askopenfilename, askopenfilenames, askdirectory\n",
    "import torch\n",
    "import skimage\n",
    "from skimage import measure\n",
    "\n",
    "this_path = os.getcwd()\n",
    "print(this_path)\n",
    "\n",
    "\n",
    "import h5py\n",
    "# import File\n",
    "from scripts import *\n",
    "import wrapper_ASTRA\n"
   ],
   "metadata": {
    "collapsed": false,
    "pycharm": {
     "name": "#%%\n"
    }
   }
  },
  {
   "cell_type": "code",
   "execution_count": 3,
   "outputs": [],
   "source": [
    "path_save = '/global/homes/e/eboigne/cfs_als/2022_wood/'\n",
    "case = 'run24_birch_lowHeat_test2'"
   ],
   "metadata": {
    "collapsed": false,
    "pycharm": {
     "name": "#%% WHich case to look at?\n"
    }
   }
  },
  {
   "cell_type": "code",
   "execution_count": 6,
   "outputs": [
    {
     "name": "stdout",
     "output_type": "stream",
     "text": [
      "['01', '02', '03', '04', '05', '06', '07', '08a', '08b', '09a', '09b', '10a', '10b', '11a', '11b', '12a', '12b', '13a', '13b']\n",
      "0 01\n",
      "1 02\n",
      "2 03\n",
      "3 04\n",
      "4 05\n",
      "5 06\n",
      "6 07\n",
      "7 08a\n",
      "8 08b\n",
      "9 09a\n",
      "10 09b\n",
      "11 10a\n",
      "12 10b\n",
      "13 11a\n",
      "14 11b\n",
      "15 12a\n",
      "16 12b\n",
      "17 13a\n",
      "(18, 1280, 1280)\n"
     ]
    }
   ],
   "source": [
    "ind_slice = 250\n",
    "\n",
    "list_cases = sorted([e for e in os.listdir(path_save+case) if not 'probe' in e and not '.tif' in e])\n",
    "print(list_cases)\n",
    "\n",
    "slices = []\n",
    "for ind_case, this_case in enumerate(list_cases[:-1]):\n",
    "    slices.append(File(path_save+case+'/'+this_case+'/b_movingRegisteredToStatic/').read(ind_slice))\n",
    "    print(ind_case, this_case)\n",
    "\n",
    "slices = np.array(slices)\n",
    "print(slices.shape)\n",
    "File(path_save+case+'/probe_slice_'+str(ind_slice).zfill(4)).saveTiffStack(slices)"
   ],
   "metadata": {
    "collapsed": false,
    "pycharm": {
     "name": "#%% Probe one slice\n"
    }
   }
  },
  {
   "cell_type": "code",
   "execution_count": 5,
   "outputs": [
    {
     "name": "stdout",
     "output_type": "stream",
     "text": [
      "Loading data took: 27.300331830978394\n",
      "(698, 1280, 1280)\n"
     ]
    }
   ],
   "source": [
    "scan_to_test = '09a'\n",
    "\n",
    "# Load data\n",
    "tic = time.time()\n",
    "data = File(path_save+case+'/'+scan_to_test+'/b_movingRegisteredToStatic/').readAll()\n",
    "print('Loading data took: '+str(time.time()-tic))\n",
    "print(data.shape)\n"
   ],
   "metadata": {
    "collapsed": false,
    "pycharm": {
     "name": "#%%\n"
    }
   }
  },
  {
   "cell_type": "code",
   "execution_count": 13,
   "outputs": [
    {
     "name": "stdout",
     "output_type": "stream",
     "text": [
      "(698, 1280, 1280)\n",
      "\t Processing 18 chunks of size [349 426 426] .................. Done\n",
      "(698, 1280, 1280)\n",
      "Smoothing data took: 29.117777347564697\n",
      "\t Processing 18 chunks of size [349 426 426] .................. Done\n",
      "0\n",
      "100\n",
      "200\n",
      "300\n",
      "400\n",
      "500\n",
      "600\n"
     ]
    }
   ],
   "source": [
    "threshold = 0.05 # Linear attenuation threshold [/cm]\n",
    "threshold_needle = 4.0 # Linear attenuation threshold [/cm]\n",
    "mask_growth_needle = 10 # Grow the mask obtained using threshold_needle with this amount of pixels\n",
    "mask_enclosing_circle = tifffile.imread(path_save+case+'/maskEnclosingCircle.tif') > 0\n",
    "\n",
    "bin_factor_dilatation = 1 # Binning before smoothing, as an option to speed things up for large kernels\n",
    "filter_half_width = 3 #  After binning (equal to sigma for gaussian filter)\n",
    "\n",
    "# kernel = custom_3d_kernel_sphere(filter_half_width)\n",
    "kernel = custom_3d_gaussian_filter(filter_half_width)\n",
    "# filter_half_width = (kernel.shape[0]-1)/2\n",
    "\n",
    "tic = time.time()\n",
    "if bin_factor_dilatation > 1:\n",
    "    data_smoothed = fast_pytorch_bin_3d(data,bin_factor_dilatation, chunk_size = 71)\n",
    "else:\n",
    "    data_smoothed = data\n",
    "\n",
    "print(data_smoothed.shape)\n",
    "data_smoothed = apply_3d_image_processing_on_subvolumes(data_smoothed, fast_pytorch_convolution, kernel_array = kernel, chunk_size_max = (500, 500, 500), overlap = 3*filter_half_width)\n",
    "print(data_smoothed.shape)\n",
    "\n",
    "if bin_factor_dilatation > 1:\n",
    "    data_smoothed = skimage.transform.rescale(data_smoothed, bin_factor_dilatation, multichannel=False)\n",
    "print('Smoothing data took: '+str(time.time()-tic))\n",
    "\n",
    "# Save smoothed data\n",
    "# File(path_save+case+'/'+scan_to_test+'/b_movingRegisteredToStatic_smoothed_bin'+str(bin_factor_dilatation)+'x_FHW_'+str(filter_half_width)).saveTiffStack(data_smoothed)\n",
    "\n",
    "mask_needle = data_smoothed > threshold_needle\n",
    "mask_needle = apply_3d_image_processing_on_subvolumes(mask_needle, fast_pytorch_mask_dilation, chunk_size_max = (500, 500, 500), overlap = mask_growth_needle, radius = mask_growth_needle)\n",
    "# File(path_save+case+'/'+scan_to_test+'/b_movingRegisteredToStatic_maskNeedle').saveTiffStack(mask_needle, type = 'bool')\n",
    "\n",
    "mask_solid = data_smoothed > threshold\n",
    "mask_solid[mask_needle] = False\n",
    "for ind, slice in enumerate(mask_solid):\n",
    "    slice[~mask_enclosing_circle] = False\n",
    "    mask_solid[ind] = slice\n",
    "    if ind % 100 == 0:\n",
    "        print(ind)"
   ],
   "metadata": {
    "collapsed": false,
    "pycharm": {
     "name": "#%% Smooth data, compute solid and needle masks\n"
    }
   }
  },
  {
   "cell_type": "code",
   "execution_count": 14,
   "outputs": [],
   "source": [
    "File(path_save+case+'/'+scan_to_test+'/b_movingRegisteredToStatic_maskNeedle').saveTiffStack(mask_needle, type = 'bool')"
   ],
   "metadata": {
    "collapsed": false,
    "pycharm": {
     "name": "#%%\n"
    }
   }
  },
  {
   "cell_type": "code",
   "execution_count": 8,
   "outputs": [],
   "source": [
    "ind_bottom = 100\n",
    "ind_top = 610\n",
    "\n",
    "mask_solid[:ind_bottom] = False\n",
    "mask_solid[ind_top:] = False"
   ],
   "metadata": {
    "collapsed": false,
    "pycharm": {
     "name": "#%% Manual clean-up and save of solid mask\n"
    }
   }
  },
  {
   "cell_type": "code",
   "execution_count": 11,
   "outputs": [
    {
     "name": "stdout",
     "output_type": "stream",
     "text": [
      "\t Processing 18 chunks of size [349 426 426] .................. Done\n",
      "1\n"
     ]
    },
    {
     "data": {
      "text/plain": "<Figure size 432x288 with 1 Axes>",
      "image/png": "[encoded data removed]"
     },
     "metadata": {
      "needs_background": "light"
     },
     "output_type": "display_data"
    }
   ],
   "source": [
    "slice = mask_solid[ind_top-1]\n",
    "plt.imshow(slice)\n",
    "\n",
    "filter_half_width = 12\n",
    "structure = custom_3d_kernel_sphere(filter_half_width)\n",
    "\n",
    "tic = time.time()\n",
    "# mask_solid_closed = scipy.ndimage.morphology.binary_closing(mask_solid, iterations = filter_half_width)\n",
    "# mask_solid_closed = scipy.ndimage.morphology.binary_closing(mask_solid, structure = structure)\n",
    "\n",
    "mask_solid_dilated = apply_3d_image_processing_on_subvolumes(mask_solid, fast_pytorch_mask_dilation, chunk_size_max = (500, 500, 500), overlap = filter_half_width, radius = filter_half_width)\n",
    "print('1')\n",
    "File(path_save+case+'/'+scan_to_test+'/b_movingRegisteredToStatic_maskSolidDilated').saveTiffStack(mask_solid_dilated, type = 'bool')"
   ],
   "metadata": {
    "collapsed": false,
    "pycharm": {
     "name": "#%%\n"
    }
   }
  },
  {
   "cell_type": "code",
   "execution_count": 12,
   "outputs": [
    {
     "name": "stdout",
     "output_type": "stream",
     "text": [
      "\t Processing 18 chunks of size [349 426 426] .................. Done\n",
      "Closing data took: 259.415002822876\n"
     ]
    }
   ],
   "source": [
    "mask_solid_closed = ~apply_3d_image_processing_on_subvolumes(~mask_solid_dilated, fast_pytorch_mask_dilation, chunk_size_max = (500, 500, 500), overlap = filter_half_width, radius = filter_half_width)\n",
    "print('Closing data took: '+str(time.time()-tic))\n",
    "\n",
    "File(path_save+case+'/'+scan_to_test+'/b_movingRegisteredToStatic_maskSolidClosed').saveTiffStack(mask_solid_closed, type = 'bool')"
   ],
   "metadata": {
    "collapsed": false,
    "pycharm": {
     "name": "#%%\n"
    }
   }
  },
  {
   "cell_type": "code",
   "execution_count": 10,
   "outputs": [],
   "source": [
    "# scipy.ndimage.binary_fill_holes()"
   ],
   "metadata": {
    "collapsed": false,
    "pycharm": {
     "name": "#%%\n"
    }
   }
  },
  {
   "cell_type": "code",
   "execution_count": null,
   "outputs": [],
   "source": [
    "\n",
    "File(path_save+case+'/'+scan_to_test+'/b_movingRegisteredToStatic_maskSolid').saveTiffStack(mask_solid, type = 'bool')"
   ],
   "metadata": {
    "collapsed": false,
    "pycharm": {
     "name": "#%%\n"
    }
   }
  },
  {
   "cell_type": "code",
   "execution_count": 55,
   "outputs": [
    {
     "name": "stdout",
     "output_type": "stream",
     "text": [
      "Particle identification took: 14.235367774963379\n"
     ]
    }
   ],
   "source": [
    "tic = time.time()\n",
    "lab = measure.label(~mask_solid)\n",
    "print('Particle identification took: '+str(time.time()-tic))"
   ],
   "metadata": {
    "collapsed": false,
    "pycharm": {
     "name": "#%%\n"
    }
   }
  },
  {
   "cell_type": "code",
   "execution_count": 56,
   "outputs": [],
   "source": [
    "File(path_save+case+'/'+scan_to_test+'/b_movingRegisteredToStatic_maskSolid_particleLabels').saveTiffStack(lab, type = 'bool')"
   ],
   "metadata": {
    "collapsed": false,
    "pycharm": {
     "name": "#%%\n"
    }
   }
  },
  {
   "cell_type": "code",
   "execution_count": 57,
   "outputs": [
    {
     "name": "stdout",
     "output_type": "stream",
     "text": [
      "Particle analysis took: 9.605185270309448\n"
     ]
    }
   ],
   "source": [
    "tic = time.time()\n",
    "properties = measure.regionprops(lab)\n",
    "print('Particle analysis took: '+str(time.time()-tic))"
   ],
   "metadata": {
    "collapsed": false,
    "pycharm": {
     "name": "#%%\n"
    }
   }
  },
  {
   "cell_type": "code",
   "execution_count": 58,
   "outputs": [
    {
     "data": {
      "text/plain": "<matplotlib.image.AxesImage at 0x7f3155f69f50>"
     },
     "execution_count": 58,
     "metadata": {},
     "output_type": "execute_result"
    },
    {
     "data": {
      "text/plain": "<Figure size 432x288 with 1 Axes>",
      "image/png": "[encoded data removed]"
     },
     "metadata": {
      "needs_background": "light"
     },
     "output_type": "display_data"
    }
   ],
   "source": [
    "areas = [prop.area for prop in properties]\n",
    "\n",
    "ind_max = np.argmax(areas)\n",
    "prop_max_area = properties[ind_max]\n",
    "mask_max_area = lab == prop_max_area.label\n",
    "\n",
    "plt.imshow(mask_max_area[500], vmin = 0, vmax = 1)"
   ],
   "metadata": {
    "collapsed": false,
    "pycharm": {
     "name": "#%%\n"
    }
   }
  },
  {
   "cell_type": "code",
   "execution_count": null,
   "outputs": [],
   "source": [],
   "metadata": {
    "collapsed": false,
    "pycharm": {
     "name": "#%%\n"
    }
   }
  },
  {
   "cell_type": "code",
   "execution_count": 36,
   "outputs": [
    {
     "data": {
      "text/plain": "<Figure size 432x288 with 1 Axes>",
      "image/png": "[encoded data removed]"
     },
     "metadata": {
      "needs_background": "light"
     },
     "output_type": "display_data"
    }
   ],
   "source": [],
   "metadata": {
    "collapsed": false,
    "pycharm": {
     "name": "#%%\n"
    }
   }
  },
  {
   "cell_type": "code",
   "execution_count": 41,
   "outputs": [
    {
     "name": "stdout",
     "output_type": "stream",
     "text": [
      "1658280637.7989001\n"
     ]
    }
   ],
   "source": [
    "print(time.time())"
   ],
   "metadata": {
    "collapsed": false,
    "pycharm": {
     "name": "#%%\n"
    }
   }
  },
  {
   "cell_type": "code",
   "execution_count": null,
   "outputs": [],
   "source": [],
   "metadata": {
    "collapsed": false,
    "pycharm": {
     "name": "#%%\n"
    }
   }
  }
 ],
 "metadata": {
  "kernelspec": {
   "display_name": "Python 3",
   "language": "python",
   "name": "python3"
  },
  "language_info": {
   "codemirror_mode": {
    "name": "ipython",
    "version": 2
   },
   "file_extension": ".py",
   "mimetype": "text/x-python",
   "name": "python",
   "nbconvert_exporter": "python",
   "pygments_lexer": "ipython2",
   "version": "2.7.6"
  }
 },
 "nbformat": 4,
 "nbformat_minor": 0
}