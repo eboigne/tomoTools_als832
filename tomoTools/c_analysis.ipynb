{
 "cells": [
  {
   "cell_type": "code",
   "execution_count": 1,
   "metadata": {
    "collapsed": true
   },
   "outputs": [],
   "source": [
    "# Clear memory\n",
    "%reset -f"
   ]
  },
  {
   "cell_type": "code",
   "execution_count": 2,
   "outputs": [
    {
     "data": {
      "text/plain": "<IPython.core.display.HTML object>",
      "text/html": "<style>.container { width:90% !important; }</style>"
     },
     "metadata": {},
     "output_type": "display_data"
    },
    {
     "name": "stdout",
     "output_type": "stream",
     "text": [
      "/global/u2/e/eboigne/tomoTools_als832/tomoTools\n"
     ]
    }
   ],
   "source": [
    "%load_ext autoreload\n",
    "%autoreload 2\n",
    "\n",
    "from IPython.core.display import display, HTML\n",
    "display(HTML(\"<style>.container { width:90% !important; }</style>\"))\n",
    "\n",
    "import ipywidgets\n",
    "ipywidgets.Widget.close_all()\n",
    "\n",
    "import SimpleITK\n",
    "import datetime\n",
    "import gc # Garbage collected\n",
    "import numpy as np\n",
    "import sys, os\n",
    "import time\n",
    "import tifffile\n",
    "import matplotlib.pyplot as plt\n",
    "import scipy\n",
    "from tkinter import Tk\n",
    "from tkinter.filedialog import askopenfilename, askopenfilenames, askdirectory\n",
    "import torch\n",
    "\n",
    "this_path = os.getcwd()\n",
    "print(this_path)\n",
    "\n",
    "\n",
    "import h5py\n",
    "# import File\n",
    "from scripts import *\n",
    "import wrapper_ASTRA\n"
   ],
   "metadata": {
    "collapsed": false,
    "pycharm": {
     "name": "#%%\n"
    }
   }
  },
  {
   "cell_type": "code",
   "execution_count": 3,
   "outputs": [],
   "source": [
    "path_save = '/global/homes/e/eboigne/cfs_als/2022_wood/'\n",
    "case = 'run24_birch_lowHeat_test'"
   ],
   "metadata": {
    "collapsed": false,
    "pycharm": {
     "name": "#%% WHich case to look at?\n"
    }
   }
  },
  {
   "cell_type": "code",
   "execution_count": 5,
   "outputs": [
    {
     "name": "stdout",
     "output_type": "stream",
     "text": [
      "['20220430_172049_16_sampleO5_1xLens_01_pre_2625_flatInTube.h5', '20220429_175135_08_Sample_O2_2xLens_11.h5', '20220501_135938_22_SampleB1_2xLens_05_dry_1313', '20220429_180913_08_Sample_O2_2xLens_17.h5', '20220429_180322_08_Sample_O2_2xLens_15.h5', '20220501_143152_22_SampleB1_2xLens_15_1313', '20220501_101446_21_SampleO7_2xLens_03_pre_2625', '20220501_141233_22_SampleB1_2xLens_09_1313.h5', '20220429_181500_08_Sample_O2_2xLens_19.h5', '20220430_203431_20_SampleO6_2xLens_1313_04-dry.h5', '20220429_181500_08_Sample_O2_2xLens_19', '20220501_192220_25_SampleO8_2xLens_04_1313', '20220501_201222_26_SampleB3_2xLens_01_pre_1313.h5', '20220501_103832_21_SampleO7_2xLens_08_1313', '20220430_181641_18_dark_2560x1396_b.h5', '20220430_174713_17_sampleO5_2xLens_01_pre_2625_test.h5', '20220501_184552_24_SampleB2_2xLens_23_post_2625', '20220501_202752_26_SampleB3_2xLens_07_dry_1313.h5', '20220501_143455_22_SampleB1_2xLens_16_1313', '20220430_203431_20_SampleO6_2xLens_1313_04-dry', '20220429_180026_08_Sample_O2_2xLens_14', '20220501_160942_23_SampleW1_2xLens_09_1313.h5', '20220429_145116_06_firstScanSample_2xLens_1313x2_2560x1372.h5', '20220501_213004_26_SampleB3_2xLens_23_1313', '20220501_140932_22_SampleB1_2xLens_08_1313', '20220430_103304_11_Sample_O5_2xLens_01_pre_3937angles_2HC_flatInTube.h5', '20220430_151426_13_sampleO5_1xLens_01_pre_2625_flatInTube.h5', '20220501_142850_22_SampleB1_2xLens_14_1313.h5', '20220429_172832_08_Sample_O2_2xLens_03.h5', '20220430_153539_14_sampleO5_1xLens_01_pre_1313_flatInTube_2.h5', '20220430_171311_16_sampleO5_1xLens_01_pre_1313_flatInTube.h5', '20220430_101601_11_Sample_O5_2xLens_01_pre_1313angles_2HC_flatInTube.h5', '20220501_210932_26_SampleB3_2xLens_17_1313', '20220501_140257_22_SampleB1_2xLens_06_1313.h5', '20220501_215820_26_SampleB3_2xLens_32-post_1313.h5', '20220501_141544_22_SampleB1_2xLens_10_1313', '20220501_103832_21_SampleO7_2xLens_08_1313.h5', '20220429_173710_08_Sample_O2_2xLens_06', '20220430_152506_14_sampleO5_1xLens_01_pre_2625_flatInTube', '20220430_213438_20_SampleO6_2xLens_2625_23_cool.h5', '20220501_102927_21_SampleO7_2xLens_04_dry_1313', '20220430_111745_12_Sample_O5_2xLens_01_pre_1313angles_previousOneCrashed.h5', '20220501_180013_24_SampleB2_2xLens_09_1313', '20220429_203428_10_Sample_O4_2xLens_06.h5', '20220501_182201_24_SampleB2_2xLens_16_1313', '20220501_211853_26_SampleB3_2xLens_20_1313', '20220430_204034_20_SampleO6_2xLens_1313_05', '20220429_180322_08_Sample_O2_2xLens_15', '20220501_160331_23_SampleW1_2xLens_07_1313', '20220429_174256_08_Sample_O2_2xLens_08', '20220430_204337_20_SampleO6_2xLens_1313_07', '20220430_204644_20_SampleO6_2xLens_1313_08', '20220501_111845_21_SampleO7_2xLens_21_cooling_1313', '20220501_103532_21_SampleO7_2xLens_07_1313', '20220501_161852_23_SampleW1_2xLens_12_1313.h5', '20220501_214926_26_SampleB3_2xLens_29-post_1313.h5', '20220430_171744_16_sampleO5_1xLens_01_pre_2625_flatOutTube.h5', '20220501_213328_26_SampleB3_2xLens_24_1313.h5', '20220501_210932_26_SampleB3_2xLens_17_1313.h5', '20220501_105420_21_SampleO7_2xLens_13_1313.h5', '20220501_140257_22_SampleB1_2xLens_06_1313', '20220501_105723_21_SampleO7_2xLens_14_1313', '20220501_215521_26_SampleB3_2xLens_31-post_1313.h5', '20220501_182504_24_SampleB2_2xLens_17_1313', '20220501_140619_22_SampleB1_2xLens_07_1313.h5', '20220501_143152_22_SampleB1_2xLens_15_1313.h5', '20220501_164027_23_SampleW1_2xLens_19_1313.h5', '20220501_183424_24_SampleB2_2xLens_20_1313.h5', '20220501_135938_22_SampleB1_2xLens_05_dry_1313.h5', '20220430_195936_19_SampleO5_2xLens_1313_09.h5', '20220430_211354_20_SampleO6_2xLens_1313_17.h5', '20220429_180616_08_Sample_O2_2xLens_16', '20220429_145116_06_firstScanSample_2xLens_1313x2_2560x1372', '20220430_100912_11_Sample_O5_2xLens_01_pre_1313angles_2HC_flatInTube', '20220430_104516_11_Sample_O5_2xLens_01_pre_1313angles_2HC_flatInTubeAcquiredOver180Degrees', '20220501_204527_26_SampleB3_2xLens_10_1313', '20220501_213004_26_SampleB3_2xLens_23_1313.h5', '20220501_204835_26_SampleB3_2xLens_11_1313.h5', '20220430_211050_20_SampleO6_2xLens_1313_16', '20220429_173416_08_Sample_O2_2xLens_05', '20220501_105112_21_SampleO7_2xLens_12_1313', '20220429_182043_08_Sample_O2_2xLens_21', '20220501_181852_24_SampleB2_2xLens_15_1313', '20220501_110926_21_SampleO7_2xLens_18_1313.h5', '20220501_201222_26_SampleB3_2xLens_01_pre_1313', '20220430_210750_20_SampleO6_2xLens_1313_15', '20220501_110625_21_SampleO7_2xLens_17_1313.h5', '20220501_142155_22_SampleB1_2xLens_12_1313', '20220501_180325_24_SampleB2_2xLens_10_1313.h5', '20220501_121343_22_SampleB1_2xLens_02_pre_2625', '20220501_161550_23_SampleW1_2xLens_11_1313', '20220501_154455_23_SampleW1_2xLens_03_pre_2625', '20220501_111544_21_SampleO7_2xLens_20_1313.h5', '20220501_145017_22_SampleB1_2xLens_20_cooling_1313.h5', '20220501_110021_21_SampleO7_2xLens_15_1313', '20220430_210148_20_SampleO6_2xLens_1313_13.h5', '20220430_103944_11_Sample_O5_2xLens_01_pre_2625angles_2HC_flatInTubeAcquiredOver180Degrees.h5', '20220501_145847_22_SampleB1_2xLens_23_post_2625.h5', '20220429_182630_08_Sample_O2_2xLens_23.h5', '20220501_102927_21_SampleO7_2xLens_04_dry_1313.h5', '20220501_174332_24_SampleB2_2xLens_04_dry_1313.h5', '20220501_181233_24_SampleB2_2xLens_13_1313', '20220430_195337_19_SampleO5_2xLens_1313_07.h5', '20220501_202138_26_SampleB3_2xLens_04_pre_1313.h5', '20220430_171528_16_sampleO5_1xLens_01_pre_1313_flatOutTube', '20220501_191335_25_SampleO8_2xLens_03_2625.h5', '20220430_100912_11_Sample_O5_2xLens_01_pre_1313angles_2HC_flatInTube.h5', '20220501_102625_21_SampleO7_2xLens_04_dry_1313', '20220501_174749_24_SampleB2_2xLens_05_1313.h5', '20220430_194431_19_SampleO5_2xLens_1313_04-dry', '20220501_153433_23_SampleW1_2xLens_01_pre_2625.h5', '20220501_111226_21_SampleO7_2xLens_19_1313', '20220501_145333_22_SampleB1_2xLens_22_post_2625.h5', '20220501_163718_23_SampleW1_2xLens_18_1313.h5', '20220429_174256_08_Sample_O2_2xLens_08.h5', '20220429_174553_08_Sample_O2_2xLens_09', '20220501_184047_24_SampleB2_2xLens_22_post_2625.h5', '20220501_110625_21_SampleO7_2xLens_17_1313', '20220501_154455_23_SampleW1_2xLens_03_pre_2625.h5', '20220429_171701_08_Sample_O2_2xLens_01_pre.h5', '20220501_102625_21_SampleO7_2xLens_04_dry_1313.h5', '20220501_204217_26_SampleB3_2xLens_09_1313.h5', '20220430_152811_14_sampleO5_1xLens_01_pre_1313_flatInTube.h5', '20220501_105420_21_SampleO7_2xLens_13_1313', '20220501_110325_21_SampleO7_2xLens_16_1313.h5', '20220501_104143_21_SampleO7_2xLens_09_1313.h5', '20220501_161249_23_SampleW1_2xLens_10_1313', '20220501_213652_26_SampleB3_2xLens_25_1313.h5', '20220501_172426_24_SampleB2_2xLens_01_pre_2625', '20220429_183723_08_Sample_O2_2xLens_26.h5', '20220501_180627_24_SampleB2_2xLens_11_1313.h5', '20220430_195337_19_SampleO5_2xLens_1313_07', '20220501_150357_22_SampleB1_2xLens_24_post_2625.h5', '20220501_205639_26_SampleB3_2xLens_13_1313', '20220501_163107_23_SampleW1_2xLens_16_1313', '20220501_214623_26_SampleB3_2xLens_28-post_1313.h5', '20220430_204941_20_SampleO6_2xLens_1313_09', '20220430_205244_20_SampleO6_2xLens_1313_10', '20220429_183723_08_Sample_O2_2xLens_26', '20220430_175433_17_sampleO5_2xLens_01_pre.h5', '20220430_211654_20_SampleO6_2xLens_1313_18.h5', '20220430_151138_13_sampleO5_1xLens_01_pre_2625_flatNoTube.h5', '20220501_182504_24_SampleB2_2xLens_17_1313.h5', '20220430_195038_19_SampleO5_2xLens_1313_06.h5', '20220430_111357_12_Sample_O5_2xLens_01_pre_1313angles.h5', '20220430_185518_18_SampleO5_2xLens_01_pre_2625_test', '20220430_195636_19_SampleO5_2xLens_1313_08.h5', '20220501_180929_24_SampleB2_2xLens_12_1313.h5', '20220501_163718_23_SampleW1_2xLens_18_1313', '20220501_182808_24_SampleB2_2xLens_18_1313.h5', '20220501_204217_26_SampleB3_2xLens_09_1313', '20220430_172049_16_sampleO5_1xLens_01_pre_2625_flatInTube', '20220429_150530_06_secondScanSample_2xLens_1313x2_2560x1372', '20220430_171049_15_sampleO5_1xLens_01_pre_1313_flatInTube.h5', '20220430_205546_20_SampleO6_2xLens_1313_11', '20220501_190813_25_SampleO8_2xLens_02_2625.h5', '20220501_165449_23_SampleW1_2xLens_23_post_2625.h5', '20220501_140932_22_SampleB1_2xLens_08_1313.h5', '20220429_193511_08_Sample_O3_2xLens_01-pre', '20220429_201106_08_Sample_O4_2xLens_01-pre', '20220430_185518_18_SampleO5_2xLens_01_pre_2625_test.h5', '20220501_121856_22_SampleB1_2xLens_03_pre_2625.h5', '20220501_211555_26_SampleB3_2xLens_19_1313', '20220501_212618_26_SampleB3_2xLens_22_1313.h5', '20220501_112154_21_SampleO7_2xLens_22_post_2625', '20220430_211954_20_SampleO6_2xLens_1313_19.h5', '20220430_103944_11_Sample_O5_2xLens_01_pre_2625angles_2HC_flatInTubeAcquiredOver180Degrees', '20220501_100935_21_SampleO7_2xLens_02_pre_2625', '20220501_100935_21_SampleO7_2xLens_02_pre_2625.h5', '20220429_173124_08_Sample_O2_2xLens_04', '20220429_154354_07_test.h5', '20220501_203908_26_SampleB3_2xLens_08_1313.h5', '20220429_184016_08_Sample_O2_2xLens_27', '20220501_160029_23_SampleW1_2xLens_06_1313.h5', '20220501_144405_22_SampleB1_2xLens_19_1313', '20220430_111745_12_Sample_O5_2xLens_01_pre_1313angles_previousOneCrashed', '20220430_145603_13_dark_1xLens_2560x484.h5', '20220501_143455_22_SampleB1_2xLens_16_1313.h5', '20220501_184552_24_SampleB2_2xLens_23_post_2625.h5', '20220501_113214_21_SampleO7_2xLens_24_post_2625', '20220429_175430_08_Sample_O2_2xLens_12', '20220429_174844_08_Sample_O2_2xLens_09', '20220429_142321_04_test2HalfCircles_385_2560x1372.h5', '20220429_175430_08_Sample_O2_2xLens_12.h5', '20220501_110926_21_SampleO7_2xLens_18_1313', '20220501_180929_24_SampleB2_2xLens_12_1313', '20220501_155412_23_SampleW1_2xLens_04_dry_1313.h5', '20220501_104802_21_SampleO7_2xLens_11_1313.h5', '20220501_160637_23_SampleW1_2xLens_08_1313', '20220501_210604_26_SampleB3_2xLens_16_1313.h5', '20220430_181053_18_dark_2560x1396.h5', '20220501_202752_26_SampleB3_2xLens_07_dry_1313', '20220429_180026_08_Sample_O2_2xLens_14.h5', '20220501_144717_22_SampleB1_2xLens_20_cooling_1313.h5', '20220501_180325_24_SampleB2_2xLens_10_1313', '20220429_204623_10_Sample_O4_2xLens_10.h5', '20220501_211555_26_SampleB3_2xLens_19_1313.h5', '20220501_103229_21_SampleO7_2xLens_06_1313.h5', '20220501_143803_22_SampleB1_2xLens_17_1313.h5', '20220430_150101_13_sampleO5_1xLens_01_pre_2625_flatNoTube.h5', '20220501_180627_24_SampleB2_2xLens_11_1313', '20220501_183424_24_SampleB2_2xLens_20_1313', '20220501_181536_24_SampleB2_2xLens_14_1313', '20220501_205954_26_SampleB3_2xLens_14_1313', '20220430_112041_12_Sample_O5_2xLens_01_pre_2625angles.h5', '20220501_201833_26_SampleB3_2xLens_03_pre_1313.h5', '20220501_162156_23_SampleW1_2xLens_13_1313.h5', '20220430_202606_20_SampleO6_2xLens_2625_03-pre.h5', '20220501_175049_24_SampleB2_2xLens_06_1313.h5', '20220430_210449_20_SampleO6_2xLens_1313_14', '20220501_104802_21_SampleO7_2xLens_11_1313', '20220501_184047_24_SampleB2_2xLens_22_post_2625', '20220501_162500_23_SampleW1_2xLens_14_1313', '20220501_144405_22_SampleB1_2xLens_19_1313.h5', '20220501_164945_23_SampleW1_2xLens_22_post_2625.h5', '20220430_204034_20_SampleO6_2xLens_1313_05.h5', '20220501_175354_24_SampleB2_2xLens_07_1313', '20220430_171744_16_sampleO5_1xLens_01_pre_2625_flatOutTube', '20220430_203734_20_SampleO6_2xLens_1313_05.h5', '20220501_202752_26_SampleB3_2xLens_06_pre_1313.h5', '20220501_191904_25_SampleO8_2xLens_05_1313.h5', '20220430_205847_20_SampleO6_2xLens_1313_12', '20220501_142155_22_SampleB1_2xLens_12_1313.h5', '20220501_165958_23_SampleW1_2xLens_24_post_2625.h5', '20220430_205546_20_SampleO6_2xLens_1313_11.h5', '20220501_112705_21_SampleO7_2xLens_23_post_2625', '20220429_174553_08_Sample_O2_2xLens_09.h5', '20220501_094201_21_dark_2560x1396.h5', '20220501_110021_21_SampleO7_2xLens_15_1313.h5', '20220501_175049_24_SampleB2_2xLens_06_1313', '20220430_192938_19_SampleO5_2xLens_2625_02_pre.h5', '20220501_185100_24_SampleB2_2xLens_24_post_2625.h5', '20220429_141556_03_test2HalfCircles_385_2560x1372.h5', '20220430_124012_13_dark_2560x484.h5', '20220501_162500_23_SampleW1_2xLens_14_1313.h5', '20220429_181208_08_Sample_O2_2xLens_18.h5', '20220429_175723_08_Sample_O2_2xLens_13.h5', '20220429_202259_10_Sample_O4_2xLens_02.h5', '20220501_164643_23_SampleW1_2xLens_21_cooling_1313.h5', '20220501_162156_23_SampleW1_2xLens_13_1313', '20220429_175135_08_Sample_O2_2xLens_11', '20220501_161550_23_SampleW1_2xLens_11_1313.h5', '20220501_210300_26_SampleB3_2xLens_15_1313', '20220501_161249_23_SampleW1_2xLens_10_1313.h5', '20220429_184308_08_Sample_O2_2xLens_27', '20220429_173124_08_Sample_O2_2xLens_04.h5', '20220429_204035_10_Sample_O4_2xLens_08.h5', '20220501_113214_21_SampleO7_2xLens_24_post_2625.h5', '20220429_194419_08_Sample_O3_2xLens_02.h5', '20220429_204921_10_Sample_O4_2xLens_11.h5', '20220501_134714_22_SampleB1_2xLens_04_pre_2625.h5', '20220501_163107_23_SampleW1_2xLens_16_1313.h5', '20220430_212935_20_SampleO6_2xLens_2625_22_cool.h5', '20220430_180345_17_sampleO5_2xLens_03_pre.h5', '20220501_183729_24_SampleB2_2xLens_21_1313.h5', '20220501_155728_23_SampleW1_2xLens_05_1313', '20220501_205954_26_SampleB3_2xLens_14_1313.h5', '20220501_164027_23_SampleW1_2xLens_19_1313', '20220430_152811_14_sampleO5_1xLens_01_pre_1313_flatInTube', '20220429_185150_08_Sample_O2_2xLens_30.h5', '20220501_212225_26_SampleB3_2xLens_21_1313', '20220430_192402_19_SampleO5_2xLens_2625_01_pre', '20220501_103229_21_SampleO7_2xLens_06_1313', '20220429_193511_08_Sample_O3_2xLens_01-pre.h5', '20220429_172519_08_Sample_O2_2xLens_02_dried.h5', '20220501_101446_21_SampleO7_2xLens_03_pre_2625.h5', '20220501_181536_24_SampleB2_2xLens_14_1313.h5', '20220501_204527_26_SampleB3_2xLens_10_1313.h5', '20220429_181208_08_Sample_O2_2xLens_18', '20220501_174749_24_SampleB2_2xLens_05_1313', '20220501_175656_24_SampleB2_2xLens_08_1313', '20220429_182334_08_Sample_O2_2xLens_22.h5', '20220501_163413_23_SampleW1_2xLens_17_1313', '20220429_140701_01_test.h5', '20220501_185100_24_SampleB2_2xLens_24_post_2625', '20220501_173451_24_SampleB2_2xLens_03_pre_2625.h5', '20220501_173451_24_SampleB2_2xLens_03_pre_2625', '20220501_145017_22_SampleB1_2xLens_20_cooling_1313', '20220429_180913_08_Sample_O2_2xLens_17', '20220429_174002_08_Sample_O2_2xLens_07.h5', '20220501_202441_26_SampleB3_2xLens_05_pre_1313.h5', '20220429_174002_08_Sample_O2_2xLens_07', '20220429_202612_10_Sample_O4_2xLens_04.h5', '20220501_214316_26_SampleB3_2xLens_27-post_1313.h5', '20220430_192402_19_SampleO5_2xLens_2625_01_pre.h5', '20220501_141233_22_SampleB1_2xLens_09_1313', '20220501_141544_22_SampleB1_2xLens_10_1313.h5', '20220501_190322_25_SampleO8_2xLens_01_2625.h5', '20220429_150530_06_secondScanSample_2xLens_1313x2_2560x1372.h5', '20220429_174844_08_Sample_O2_2xLens_09.h5', '20220501_155728_23_SampleW1_2xLens_05_1313.h5', '20220429_140915_02_dark2560x1372.h5', '20220501_212618_26_SampleB3_2xLens_22_1313', 'run24_birch_lowHeat_test', '20220501_142552_22_SampleB1_2xLens_13_1313.h5', '20220501_192220_25_SampleO8_2xLens_04_1313.h5', '20220501_210300_26_SampleB3_2xLens_15_1313.h5', '20220430_104516_11_Sample_O5_2xLens_01_pre_1313angles_2HC_flatInTubeAcquiredOver180Degrees.h5', '20220430_194431_19_SampleO5_2xLens_1313_04-dry.h5', '20220501_144103_22_SampleB1_2xLens_18_1313.h5', '20220429_182945_08_Sample_O2_2xLens_24.h5', '20220429_184016_08_Sample_O2_2xLens_27.h5', '20220430_151138_13_sampleO5_1xLens_01_pre_2625_flatNoTube', '20220501_153433_23_SampleW1_2xLens_01_pre_2625', '20220501_204835_26_SampleB3_2xLens_11_1313', '20220429_180616_08_Sample_O2_2xLens_16.h5', '20220430_214037_20_SampleO6_2xLens_2625_24_cool.h5', '20220501_103532_21_SampleO7_2xLens_07_1313.h5', '20220501_183729_24_SampleB2_2xLens_21_1313', '20220501_111544_21_SampleO7_2xLens_20_1313', '20220501_141854_22_SampleB1_2xLens_11_1313', '20220501_164340_23_SampleW1_2xLens_20_cooling_1313.h5', '20220430_180231_17_dark-2560x1376.h5', '20220501_213328_26_SampleB3_2xLens_24_1313', '20220429_184308_08_Sample_O2_2xLens_27.h5', '20220429_203119_10_Sample_O4_2xLens_05.h5', '20220429_183331_08_Sample_O2_2xLens_25.h5', '20220501_205140_26_SampleB3_2xLens_12_1313.h5', '20220501_153933_23_SampleW1_2xLens_02_pre_2625.h5', '20220501_141854_22_SampleB1_2xLens_11_1313.h5', '20220501_174332_24_SampleB2_2xLens_04_dry_1313', '20220501_160942_23_SampleW1_2xLens_09_1313', '20220429_173416_08_Sample_O2_2xLens_05.h5', '20220430_204941_20_SampleO6_2xLens_1313_09.h5', '20220501_143803_22_SampleB1_2xLens_17_1313', '20220501_175656_24_SampleB2_2xLens_08_1313.h5', '20220429_181751_08_Sample_O2_2xLens_20.h5', '20220501_155412_23_SampleW1_2xLens_04_dry_1313', '20220429_183331_08_Sample_O2_2xLens_25', '20220501_105723_21_SampleO7_2xLens_14_1313.h5', '20220429_182043_08_Sample_O2_2xLens_21.h5', '20220429_153826_07_firstRun2x_oak_01_pre.h5', 'mask_allWhite.tif', '20220430_210750_20_SampleO6_2xLens_1313_15.h5', '20220501_104454_21_SampleO7_2xLens_10_1313.h5', '20220501_120719_22_SampleB1_2xLens_01_pre_2625', '20220501_180013_24_SampleB2_2xLens_09_1313.h5', '20220430_201547_20_SampleO6_2xLens_2625_01-pre.h5', '20220430_205847_20_SampleO6_2xLens_1313_12.h5', '20220501_160637_23_SampleW1_2xLens_08_1313.h5', '20220501_182808_24_SampleB2_2xLens_18_1313', '20220501_100425_21_SampleO7_2xLens_01_pre_2625', '20220430_195038_19_SampleO5_2xLens_1313_06', '20220429_204328_10_Sample_O4_2xLens_09.h5', 'run24_birch_lowHeat', '20220430_171311_16_sampleO5_1xLens_01_pre_1313_flatInTube', '20220501_210604_26_SampleB3_2xLens_16_1313', '20220501_214006_26_SampleB3_2xLens_26_1313', '20220430_151426_13_sampleO5_1xLens_01_pre_2625_flatInTube', '20220501_215226_26_SampleB3_2xLens_30-post_1313.h5', '20220501_104454_21_SampleO7_2xLens_10_1313', '20220501_144103_22_SampleB1_2xLens_18_1313', '20220501_111226_21_SampleO7_2xLens_19_1313.h5', '20220501_183113_24_SampleB2_2xLens_19_1313.h5', '20220501_160331_23_SampleW1_2xLens_07_1313.h5', '20220430_123939_12_dark_2560x484.h5', '20220501_105112_21_SampleO7_2xLens_12_1313.h5', '20220501_213652_26_SampleB3_2xLens_25_1313', '20220430_202051_20_SampleO6_2xLens_2625_02-pre.h5', '20220501_160029_23_SampleW1_2xLens_06_1313', '20220501_175354_24_SampleB2_2xLens_07_1313.h5', '20220429_173710_08_Sample_O2_2xLens_06.h5', '20220430_210449_20_SampleO6_2xLens_1313_14.h5', '20220501_164643_23_SampleW1_2xLens_21_cooling_1313', '20220429_142321_04_test2HalfCircles_385_2560x1372', '20220429_203726_10_Sample_O4_2xLens_07.h5', '20220501_100425_21_SampleO7_2xLens_01_pre_2625.h5', '20220429_172519_08_Sample_O2_2xLens_02_dried', '20220501_190322_25_SampleO8_2xLens_01_2625', '20220501_164340_23_SampleW1_2xLens_20_cooling_1313', '20220501_183113_24_SampleB2_2xLens_19_1313', '20220501_153933_23_SampleW1_2xLens_02_pre_2625', '20220501_181852_24_SampleB2_2xLens_15_1313.h5', '20220501_162802_23_SampleW1_2xLens_15_1313', '20220501_142850_22_SampleB1_2xLens_14_1313', '20220501_211242_26_SampleB3_2xLens_18_1313', '20220430_195636_19_SampleO5_2xLens_1313_08', '20220501_121343_22_SampleB1_2xLens_02_pre_2625.h5', '20220501_112705_21_SampleO7_2xLens_23_post_2625.h5', '20220429_143030_05_testSampleCopperWire.h5', '20220501_214006_26_SampleB3_2xLens_26_1313.h5', '20220430_210148_20_SampleO6_2xLens_1313_13', '20220501_120719_22_SampleB1_2xLens_01_pre_2625.h5', '20220501_140619_22_SampleB1_2xLens_07_1313', '20220501_201533_26_SampleB3_2xLens_02_pre_1313', '20220501_211853_26_SampleB3_2xLens_20_1313.h5', '20220501_205639_26_SampleB3_2xLens_13_1313.h5', '20220501_181233_24_SampleB2_2xLens_13_1313.h5', '20220430_194738_19_SampleO5_2xLens_1313_05.h5', '20220430_212629_20_SampleO6_2xLens_1313_21.h5', '20220430_193440_19_SampleO5_2xLens_2625_03_pre.h5', '20220501_161852_23_SampleW1_2xLens_12_1313', '20220429_201106_08_Sample_O4_2xLens_01-pre.h5', '20220429_154859_07_test.h5', '20220501_205140_26_SampleB3_2xLens_12_1313', '20220429_175723_08_Sample_O2_2xLens_13', '20220429_143030_05_testSampleCopperWire', '20220429_205220_10_Sample_O4_2xLens_12.h5', '20220429_181751_08_Sample_O2_2xLens_20', '20220501_112154_21_SampleO7_2xLens_22_post_2625.h5', '20220430_175243_17_dark_2560x1376.h5', '20220501_172932_24_SampleB2_2xLens_02_pre_2625', '20220501_162802_23_SampleW1_2xLens_15_1313.h5', '20220501_203908_26_SampleB3_2xLens_08_1313', '20220501_111845_21_SampleO7_2xLens_21_cooling_1313.h5', '20220430_171528_16_sampleO5_1xLens_01_pre_1313_flatOutTube.h5', '20220501_163413_23_SampleW1_2xLens_17_1313.h5', '20220430_211050_20_SampleO6_2xLens_1313_16.h5', '20220501_110325_21_SampleO7_2xLens_16_1313', '20220501_142552_22_SampleB1_2xLens_13_1313', '20220501_144717_22_SampleB1_2xLens_20_cooling_1313', '20220430_204337_20_SampleO6_2xLens_1313_07.h5', '20220501_201833_26_SampleB3_2xLens_03_pre_1313', '20220501_212225_26_SampleB3_2xLens_21_1313.h5', '20220430_204644_20_SampleO6_2xLens_1313_08.h5', '20220430_152506_14_sampleO5_1xLens_01_pre_2625_flatInTube.h5', '20220501_104143_21_SampleO7_2xLens_09_1313', '20220429_171701_08_Sample_O2_2xLens_01_pre', '20220430_212331_20_SampleO6_2xLens_1313_20.h5', '20220429_155040_07_firstRun2x_oak_01_pre.h5', '20220429_201943_10_Sample_O4_2xLens_02.h5', '20220501_172426_24_SampleB2_2xLens_01_pre_2625.h5', '20220501_201533_26_SampleB3_2xLens_02_pre_1313.h5', '20220501_211242_26_SampleB3_2xLens_18_1313.h5', '20220430_205244_20_SampleO6_2xLens_1313_10.h5', '20220501_182201_24_SampleB2_2xLens_16_1313.h5', '20220430_175920_17_sampleO5_2xLens_02_pre.h5', '20220501_172932_24_SampleB2_2xLens_02_pre_2625.h5']\n"
     ]
    },
    {
     "ename": "NotADirectoryError",
     "evalue": "[Errno 20] Not a directory: '/global/homes/e/eboigne/cfs_als/2022_wood/mask_allWhite.tif'",
     "output_type": "error",
     "traceback": [
      "\u001B[0;31m---------------------------------------------------------------------------\u001B[0m",
      "\u001B[0;31mNotADirectoryError\u001B[0m                        Traceback (most recent call last)",
      "\u001B[0;32m/tmp/ipykernel_63371/722342767.py\u001B[0m in \u001B[0;36m<module>\u001B[0;34m\u001B[0m\n\u001B[1;32m      4\u001B[0m \u001B[0;32mfor\u001B[0m \u001B[0mfolder\u001B[0m \u001B[0;32min\u001B[0m \u001B[0mlist_folders\u001B[0m\u001B[0;34m:\u001B[0m\u001B[0;34m\u001B[0m\u001B[0;34m\u001B[0m\u001B[0m\n\u001B[1;32m      5\u001B[0m     \u001B[0;32mif\u001B[0m \u001B[0;32mnot\u001B[0m \u001B[0;34m'.h5'\u001B[0m \u001B[0;32min\u001B[0m \u001B[0mfolder\u001B[0m\u001B[0;34m:\u001B[0m\u001B[0;34m\u001B[0m\u001B[0;34m\u001B[0m\u001B[0m\n\u001B[0;32m----> 6\u001B[0;31m         \u001B[0mlist_subfolders\u001B[0m \u001B[0;34m=\u001B[0m \u001B[0mos\u001B[0m\u001B[0;34m.\u001B[0m\u001B[0mlistdir\u001B[0m\u001B[0;34m(\u001B[0m\u001B[0mpath_save\u001B[0m\u001B[0;34m+\u001B[0m\u001B[0mfolder\u001B[0m\u001B[0;34m)\u001B[0m\u001B[0;34m\u001B[0m\u001B[0;34m\u001B[0m\u001B[0m\n\u001B[0m\u001B[1;32m      7\u001B[0m         \u001B[0;32mfor\u001B[0m \u001B[0msubfolder\u001B[0m \u001B[0;32min\u001B[0m \u001B[0mlist_subfolders\u001B[0m\u001B[0;34m:\u001B[0m\u001B[0;34m\u001B[0m\u001B[0;34m\u001B[0m\u001B[0m\n\u001B[1;32m      8\u001B[0m             \u001B[0;32mif\u001B[0m \u001B[0;34m'indLastAngle1'\u001B[0m \u001B[0;32min\u001B[0m \u001B[0msubfolder\u001B[0m\u001B[0;34m:\u001B[0m\u001B[0;34m\u001B[0m\u001B[0;34m\u001B[0m\u001B[0m\n",
      "\u001B[0;31mNotADirectoryError\u001B[0m: [Errno 20] Not a directory: '/global/homes/e/eboigne/cfs_als/2022_wood/mask_allWhite.tif'"
     ]
    }
   ],
   "source": [
    "list_folders = os.listdir(path_save)\n",
    "print(list_folders)\n",
    "\n",
    "for folder in list_folders:\n",
    "    if not '.h5' in folder:\n",
    "        list_subfolders = os.listdir(path_save+folder)\n",
    "        for subfolder in list_subfolders:\n",
    "            if 'indLastAngle1' in subfolder:\n",
    "                clearFolder(path_save+folder+'/'+subfolder, boolClear=True)\n",
    "                os.rmdir(path_save+folder+'/'+subfolder)"
   ],
   "metadata": {
    "collapsed": false,
    "pycharm": {
     "name": "#%%\n"
    }
   }
  },
  {
   "cell_type": "code",
   "execution_count": 24,
   "outputs": [
    {
     "name": "stdout",
     "output_type": "stream",
     "text": [
      "0\n",
      "1\n",
      "2\n",
      "(3, 1280, 1280)\n"
     ]
    }
   ],
   "source": [
    "ind_slice = 5\n",
    "\n",
    "list_cases = sorted([e for e in os.listdir(path_save+case) if not 'probe' in e])\n",
    "print(list_cases)\n",
    "\n",
    "slices = []\n",
    "for ind_case, this_case in enumerate(list_cases):\n",
    "    slices.append(File(path_save+case+'/'+this_case+'/b_movingRegisteredToStatic/').read(ind_slice))\n",
    "    print(ind_case)\n",
    "\n",
    "slices = np.array(slices)\n",
    "print(slices.shape)\n",
    "File(path_save+case+'/probe_slice_'+str(ind_slice).zfill(4)).saveTiffStack(slices)"
   ],
   "metadata": {
    "collapsed": false,
    "pycharm": {
     "name": "#%% Probe one slice\n"
    }
   }
  },
  {
   "cell_type": "code",
   "execution_count": 25,
   "outputs": [
    {
     "name": "stdout",
     "output_type": "stream",
     "text": [
      "['00', '01', '02']\n"
     ]
    }
   ],
   "source": [],
   "metadata": {
    "collapsed": false,
    "pycharm": {
     "name": "#%%\n"
    }
   }
  },
  {
   "cell_type": "code",
   "execution_count": null,
   "outputs": [],
   "source": [],
   "metadata": {
    "collapsed": false,
    "pycharm": {
     "name": "#%%\n"
    }
   }
  }
 ],
 "metadata": {
  "kernelspec": {
   "display_name": "Python 3",
   "language": "python",
   "name": "python3"
  },
  "language_info": {
   "codemirror_mode": {
    "name": "ipython",
    "version": 2
   },
   "file_extension": ".py",
   "mimetype": "text/x-python",
   "name": "python",
   "nbconvert_exporter": "python",
   "pygments_lexer": "ipython2",
   "version": "2.7.6"
  }
 },
 "nbformat": 4,
 "nbformat_minor": 0
}