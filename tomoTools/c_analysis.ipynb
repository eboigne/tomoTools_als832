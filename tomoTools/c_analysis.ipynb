{
 "cells": [
  {
   "cell_type": "code",
   "execution_count": 1,
   "metadata": {
    "collapsed": true
   },
   "outputs": [],
   "source": [
    "# Clear memory\n",
    "%reset -f"
   ]
  },
  {
   "cell_type": "code",
   "execution_count": 2,
   "outputs": [
    {
     "data": {
      "text/plain": "<IPython.core.display.HTML object>",
      "text/html": "<style>.container { width:90% !important; }</style>"
     },
     "metadata": {},
     "output_type": "display_data"
    },
    {
     "name": "stdout",
     "output_type": "stream",
     "text": [
      "/global/u2/e/eboigne/tomoTools_als832/tomoTools\n"
     ]
    }
   ],
   "source": [
    "%load_ext autoreload\n",
    "%autoreload 2\n",
    "\n",
    "from IPython.core.display import display, HTML\n",
    "display(HTML(\"<style>.container { width:90% !important; }</style>\"))\n",
    "\n",
    "import ipywidgets\n",
    "ipywidgets.Widget.close_all()\n",
    "\n",
    "import SimpleITK\n",
    "import datetime\n",
    "import gc # Garbage collected\n",
    "import numpy as np\n",
    "import sys, os\n",
    "import time\n",
    "import tifffile\n",
    "import matplotlib.pyplot as plt\n",
    "import scipy\n",
    "from tkinter import Tk\n",
    "from tkinter.filedialog import askopenfilename, askopenfilenames, askdirectory\n",
    "import torch\n",
    "import skimage\n",
    "from skimage import measure\n",
    "\n",
    "this_path = os.getcwd()\n",
    "print(this_path)\n",
    "\n",
    "\n",
    "import h5py\n",
    "# import File\n",
    "from scripts import *\n",
    "import wrapper_ASTRA\n"
   ],
   "metadata": {
    "collapsed": false,
    "pycharm": {
     "name": "#%%\n"
    }
   }
  },
  {
   "cell_type": "code",
   "execution_count": null,
   "outputs": [],
   "source": [
    "path_save = '/global/homes/e/eboigne/cfs_als/2022_wood/'\n",
    "\n",
    "# case = 'run21_oak_lowHeat'\n",
    "# case = 'run23_walnut_lowHeat'\n",
    "case = 'run24_birch_lowHeat'\n",
    "# case = 'run26_birch_highHeat'\n",
    "\n",
    "list_cases = sorted([e for e in os.listdir(path_save+case) if not 'probe' in e and not '.tif' in e])\n",
    "print(list_cases)"
   ],
   "metadata": {
    "collapsed": false,
    "pycharm": {
     "name": "#%% WHich case to look at?\n"
    }
   }
  },
  {
   "cell_type": "code",
   "execution_count": 4,
   "outputs": [
    {
     "name": "stdout",
     "output_type": "stream",
     "text": [
      "0 01\n",
      "1 02\n",
      "2 03\n",
      "3 04\n",
      "4 05\n",
      "5 06\n",
      "6 07\n",
      "7 08a\n",
      "8 08b\n",
      "9 09a\n",
      "10 09b\n",
      "11 10a\n",
      "12 10b\n",
      "13 11a\n",
      "14 11b\n",
      "15 12a\n",
      "16 12b\n",
      "17 13a\n",
      "18 13b\n",
      "19 14a\n",
      "20 14b\n",
      "21 15a\n",
      "22 15b\n",
      "23 16a\n",
      "24 16b\n",
      "25 17a\n",
      "26 17b\n",
      "27 18a\n",
      "28 18b\n",
      "29 19a\n",
      "30 19b\n",
      "31 20a\n",
      "32 20b\n",
      "33 21a\n",
      "34 21b\n",
      "35 22\n",
      "36 23\n",
      "37 24\n",
      "(38, 1280, 1280)\n"
     ]
    }
   ],
   "source": [
    "ind_slice = 250\n",
    "\n",
    "slices = []\n",
    "for ind_case, this_case in enumerate(list_cases[:]):\n",
    "    slices.append(File(path_save+case+'/'+this_case+'/b_movingRegisteredToStatic/').read(ind_slice))\n",
    "    print(ind_case, this_case)\n",
    "\n",
    "slices = np.array(slices)\n",
    "print(slices.shape)\n",
    "File(path_save+case+'/probe_slice_'+str(ind_slice).zfill(4)).saveTiffStack(slices)"
   ],
   "metadata": {
    "collapsed": false,
    "pycharm": {
     "name": "#%% Probe one slice\n"
    }
   }
  },
  {
   "cell_type": "code",
   "execution_count": 5,
   "outputs": [],
   "source": [
    "scan_to_test = '01'"
   ],
   "metadata": {
    "collapsed": false,
    "pycharm": {
     "name": "#%%\n"
    }
   }
  },
  {
   "cell_type": "code",
   "execution_count": 10,
   "outputs": [
    {
     "name": "stdout",
     "output_type": "stream",
     "text": [
      "Loading data took: 7.288534164428711\n",
      "(698, 1280, 1280)\n"
     ]
    }
   ],
   "source": [
    "tic = time.time()\n",
    "data = File(path_save+case+'/'+scan_to_test+'/b_movingRegisteredToStatic/').readAll()\n",
    "print('Loading data took: '+str(time.time()-tic))\n",
    "print(data.shape)\n"
   ],
   "metadata": {
    "collapsed": false,
    "pycharm": {
     "name": "#%% Load data\n"
    }
   }
  },
  {
   "cell_type": "code",
   "execution_count": 11,
   "outputs": [
    {
     "name": "stdout",
     "output_type": "stream",
     "text": [
      "(698, 1280, 1280)\n",
      "\t Processing 18 chunks of size [349 426 426] .................. Done\n",
      "(698, 1280, 1280)\n",
      "Smoothing data took: 28.15023112297058\n",
      "\t Processing 18 chunks of size [349 426 426] .................. Done\n",
      "0\n",
      "100\n",
      "200\n",
      "300\n",
      "400\n",
      "500\n",
      "600\n"
     ]
    }
   ],
   "source": [
    "threshold = 0.05 # Linear attenuation threshold [/cm]\n",
    "threshold_needle = 4.0 # Linear attenuation threshold [/cm]\n",
    "mask_growth_needle = 10 # Grow the mask obtained using threshold_needle with this amount of pixels\n",
    "mask_enclosing_circle = tifffile.imread(path_save+case+'/maskEnclosingCircle.tif') > 0\n",
    "\n",
    "bin_factor_dilatation = 1 # Binning before smoothing, as an option to speed things up for large kernels\n",
    "filter_half_width = 3 #  After binning (equal to sigma for gaussian filter)\n",
    "\n",
    "# kernel = custom_3d_kernel_sphere(filter_half_width)\n",
    "kernel = custom_3d_gaussian_filter(filter_half_width)\n",
    "# filter_half_width = (kernel.shape[0]-1)/2\n",
    "\n",
    "tic = time.time()\n",
    "if bin_factor_dilatation > 1:\n",
    "    data_smoothed = fast_pytorch_bin_3d(data,bin_factor_dilatation, chunk_size = 71)\n",
    "else:\n",
    "    data_smoothed = data\n",
    "\n",
    "print(data_smoothed.shape)\n",
    "data_smoothed = apply_3d_image_processing_on_subvolumes(data_smoothed, fast_pytorch_convolution, kernel_array = kernel, chunk_size_max = (500, 500, 500), overlap = 3*filter_half_width)\n",
    "print(data_smoothed.shape)\n",
    "\n",
    "if bin_factor_dilatation > 1:\n",
    "    data_smoothed = skimage.transform.rescale(data_smoothed, bin_factor_dilatation, multichannel=False)\n",
    "print('Smoothing data took: '+str(time.time()-tic))\n",
    "\n",
    "# Save smoothed data\n",
    "# File(path_save+case+'/'+scan_to_test+'/b_movingRegisteredToStatic_smoothed_bin'+str(bin_factor_dilatation)+'x_FHW_'+str(filter_half_width)).saveTiffStack(data_smoothed)\n",
    "\n",
    "mask_needle = data_smoothed > threshold_needle\n",
    "mask_needle = apply_3d_image_processing_on_subvolumes(mask_needle, fast_pytorch_mask_dilation, chunk_size_max = (500, 500, 500), overlap = mask_growth_needle, radius = mask_growth_needle)\n",
    "# File(path_save+case+'/'+scan_to_test+'/b_movingRegisteredToStatic_maskNeedle').saveTiffStack(mask_needle, type = 'bool')\n",
    "\n",
    "mask_solid = data_smoothed > threshold\n",
    "mask_solid[mask_needle] = False\n",
    "for ind, slice in enumerate(mask_solid):\n",
    "    slice[~mask_enclosing_circle] = False\n",
    "    mask_solid[ind] = slice\n",
    "    if ind % 100 == 0:\n",
    "        print(ind)\n",
    "\n",
    "File(path_save+case+'/'+scan_to_test+'/b_movingRegisteredToStatic_maskSolid').saveTiffStack(mask_solid, type = 'bool')"
   ],
   "metadata": {
    "collapsed": false,
    "pycharm": {
     "name": "#%% Smooth data, compute solid and needle masks\n"
    }
   }
  },
  {
   "cell_type": "code",
   "execution_count": 12,
   "outputs": [],
   "source": [
    "ind_bottom = 100\n",
    "ind_top = 610\n",
    "\n",
    "mask_solid[:ind_bottom] = False\n",
    "mask_solid[ind_top:] = False"
   ],
   "metadata": {
    "collapsed": false,
    "pycharm": {
     "name": "#%% Manual clean-up and save of solid mask\n"
    }
   }
  },
  {
   "cell_type": "code",
   "execution_count": 13,
   "outputs": [
    {
     "name": "stdout",
     "output_type": "stream",
     "text": [
      "\t Processing 18 chunks of size [349 426 426] .................. Done\n",
      "\t Processing 18 chunks of size [349 426 426] .................. Done\n"
     ]
    },
    {
     "data": {
      "text/plain": "<Figure size 432x288 with 1 Axes>",
      "image/png": "[encoded data removed]"
     },
     "metadata": {
      "needs_background": "light"
     },
     "output_type": "display_data"
    }
   ],
   "source": [
    "slice = mask_solid[ind_top-1]\n",
    "plt.imshow(slice)\n",
    "\n",
    "filter_half_width = 12\n",
    "\n",
    "mask_solid_dilated = apply_3d_image_processing_on_subvolumes(mask_solid, fast_pytorch_mask_dilation, chunk_size_max = (500, 500, 500), overlap = filter_half_width, radius = filter_half_width)\n",
    "# print('1')\n",
    "# File(path_save+case+'/'+scan_to_test+'/b_movingRegisteredToStatic_maskSolidDilated').saveTiffStack(mask_solid_dilated, type = 'bool')\n",
    "mask_solid_closed = ~apply_3d_image_processing_on_subvolumes(~mask_solid_dilated, fast_pytorch_mask_dilation, chunk_size_max = (500, 500, 500), overlap = filter_half_width, radius = filter_half_width)\n",
    "# print('Closing data took: '+str(time.time()-tic))\n",
    "# File(path_save+case+'/'+scan_to_test+'/b_movingRegisteredToStatic_maskSolidClosed').saveTiffStack(mask_solid_closed, type = 'bool')"
   ],
   "metadata": {
    "collapsed": false,
    "pycharm": {
     "name": "#%% Morphological closing: closing the pores\n"
    }
   }
  },
  {
   "cell_type": "code",
   "execution_count": 14,
   "outputs": [
    {
     "name": "stdout",
     "output_type": "stream",
     "text": [
      "Particle identification took: 7.798318147659302\n"
     ]
    }
   ],
   "source": [
    "# filter_half_width = 1\n",
    "# mask_solid_closed_dilated = apply_3d_image_processing_on_subvolumes(mask_solid_closed, fast_pytorch_mask_dilation, chunk_size_max = (500, 500, 500), overlap = filter_half_width, radius = filter_half_width)\n",
    "# mask_pores_with_borders = mask_solid_closed_dilated * (~mask_solid)\n",
    "# File(path_save+case+'/'+scan_to_test+'/b_movingRegisteredToStatic_maskPoresWithBorders').saveTiffStack(mask_pores_with_borders, type = 'bool')\n",
    "\n",
    "mask_pores = mask_solid_closed * (~mask_solid)\n",
    "# File(path_save+case+'/'+scan_to_test+'/b_movingRegisteredToStatic_maskPores').saveTiffStack(mask_pores, type = 'bool')\n",
    "\n",
    "tic = time.time()\n",
    "lab = measure.label(mask_pores)\n",
    "print('Particle identification took: '+str(time.time()-tic))"
   ],
   "metadata": {
    "collapsed": false,
    "pycharm": {
     "name": "#%% Extract and analyze pore structure\n"
    }
   }
  },
  {
   "cell_type": "code",
   "execution_count": 15,
   "outputs": [],
   "source": [
    "File(path_save+case+'/'+scan_to_test+'/b_movingRegisteredToStatic_maskPores_particleLabels').saveTiffStack(lab)\n"
   ],
   "metadata": {
    "collapsed": false,
    "pycharm": {
     "name": "#%%\n"
    }
   }
  },
  {
   "cell_type": "code",
   "execution_count": 6,
   "outputs": [
    {
     "name": "stdout",
     "output_type": "stream",
     "text": [
      "Done loading data\n"
     ]
    }
   ],
   "source": [
    "lab = File(path_save+case+'/'+scan_to_test+'/b_movingRegisteredToStatic_maskPores_particleLabels').readAll().astype('int')\n",
    "print('Done loading data')"
   ],
   "metadata": {
    "collapsed": false,
    "pycharm": {
     "name": "#%%\n"
    }
   }
  },
  {
   "cell_type": "code",
   "execution_count": 7,
   "outputs": [
    {
     "name": "stdout",
     "output_type": "stream",
     "text": [
      "Particle analysis took: 3.199970245361328\n"
     ]
    }
   ],
   "source": [
    "tic = time.time()\n",
    "properties = measure.regionprops(lab)\n",
    "print('Particle analysis took: '+str(time.time()-tic))\n"
   ],
   "metadata": {
    "collapsed": false,
    "pycharm": {
     "name": "#%%\n"
    }
   }
  },
  {
   "cell_type": "code",
   "execution_count": 8,
   "outputs": [
    {
     "name": "stdout",
     "output_type": "stream",
     "text": [
      "794\n"
     ]
    }
   ],
   "source": [
    "areas = np.array([prop.area for prop in properties])\n",
    "ind_properties_cleaned = np.where((areas>500) * (areas < 300000))[0]\n",
    "print(len(ind_properties_cleaned))\n",
    "\n",
    "properties_cleaned = [prop for prop in properties if prop.area > 500]"
   ],
   "metadata": {
    "collapsed": false,
    "pycharm": {
     "name": "#%%\n"
    }
   }
  },
  {
   "cell_type": "code",
   "execution_count": 9,
   "outputs": [],
   "source": [
    "# lab_cleaned = np.zeros_like(lab)\n",
    "# for prop in properties:\n",
    "#     lab_cleaned[lab==prop.label] = prop.label\n",
    "#     print(prop.label)\n",
    "# properties_cleaned = measure.regionprops(lab_cleaned)"
   ],
   "metadata": {
    "collapsed": false,
    "pycharm": {
     "name": "#%% Check cleaned-up label arrays\n"
    }
   }
  },
  {
   "cell_type": "code",
   "execution_count": 10,
   "outputs": [],
   "source": [
    "areas = [prop.area for prop in properties_cleaned]\n",
    "\n",
    "voxel_size = 3.24*2 # [microns]\n",
    "\n",
    "for ind_pore in range(len(ind_properties_cleaned)):\n",
    "\n",
    "    # Equivalent cylinder diameter & height\n",
    "    bbox = properties[ind_properties_cleaned[ind_pore]].bbox\n",
    "    properties[ind_properties_cleaned[ind_pore]].height = bbox[3]-bbox[0] # Along z, in pixels\n",
    "    equivalent_cylinder_cross_section = properties[ind_properties_cleaned[ind_pore]].area / properties[ind_properties_cleaned[ind_pore]].height\n",
    "    properties[ind_properties_cleaned[ind_pore]].equivalent_cylinder_diameter = np.sqrt(4*equivalent_cylinder_cross_section/np.pi) * voxel_size\n",
    "    # print(ind_pore, ind_properties_cleaned[ind_pore], properties[ind_properties_cleaned[ind_pore]].equivalent_cylinder_diameter)\n",
    "\n",
    "    # Perimeter\n",
    "\n",
    "equivalent_cylinder_diameters = [prop.equivalent_cylinder_diameter for prop in np.array(properties)[ind_properties_cleaned]]\n"
   ],
   "metadata": {
    "collapsed": false,
    "pycharm": {
     "name": "#%%\n"
    }
   }
  },
  {
   "cell_type": "code",
   "execution_count": 11,
   "outputs": [
    {
     "name": "stdout",
     "output_type": "stream",
     "text": [
      "Done\n"
     ]
    },
    {
     "data": {
      "text/plain": "Text(0.5, 0, '$D_{eq}$ [$\\\\mu$m]')"
     },
     "execution_count": 11,
     "metadata": {},
     "output_type": "execute_result"
    },
    {
     "data": {
      "text/plain": "<Figure size 432x288 with 1 Axes>",
      "image/png": "[encoded data removed]"
     },
     "metadata": {
      "needs_background": "light"
     },
     "output_type": "display_data"
    }
   ],
   "source": [
    "print('Done')\n",
    "\n",
    "\n",
    "nb_bins = 30\n",
    "areas_hist_bin = np.linspace(10, 200, nb_bins)\n",
    "areas_hist, _ = np.histogram(equivalent_cylinder_diameters, bins = areas_hist_bin)\n",
    "areas_hist_bin_c = 0.5 * (areas_hist_bin[:-1]+areas_hist_bin[1:])\n",
    "\n",
    "plt.plot(areas_hist_bin_c, areas_hist)\n",
    "plt.xlabel('$D_{eq}$ [$\\mu$m]')\n"
   ],
   "metadata": {
    "collapsed": false,
    "pycharm": {
     "name": "#%%\n"
    }
   }
  },
  {
   "cell_type": "code",
   "execution_count": 12,
   "outputs": [
    {
     "name": "stdout",
     "output_type": "stream",
     "text": [
      "627.0550365495452\n",
      "13.178092662313825\n",
      "[[  553.65507229  2952.24621968  1173.57589474]\n",
      " [ 2952.24621968 19221.24683262  -180.47070713]\n",
      " [ 1173.57589474  -180.47070713 19596.60281459]]\n",
      "[19677.069253438585, 19668.584049418398, 25.851416641840615]\n",
      "12.506713202551014\n",
      "Done\n"
     ]
    }
   ],
   "source": [
    "ind_pore = 200\n",
    "\n",
    "mask_ind_pore = (lab==properties[ind_properties_cleaned[ind_pore]].label) > 0\n",
    "# File(path_save+case+'/'+scan_to_test+'/b_movingRegisteredToStatic_maskPores_particleLabels_checkOnePore').saveTiffStack(mask_ind_pore[::])\n",
    "\n",
    "print(properties[ind_properties_cleaned[ind_pore]].axis_major_length)\n",
    "print(properties[ind_properties_cleaned[ind_pore]].axis_minor_length)\n",
    "print(properties[ind_properties_cleaned[ind_pore]].inertia_tensor)\n",
    "print(properties[ind_properties_cleaned[ind_pore]].inertia_tensor_eigvals)\n",
    "\n",
    "bbox = properties[ind_properties_cleaned[ind_pore]].bbox\n",
    "height = bbox[3]-bbox[0] # Along z, in pixels\n",
    "equivalent_cylinder_cross_section = properties[ind_properties_cleaned[ind_pore]].area / height\n",
    "equivalent_cylinder_diameter = np.sqrt(4*equivalent_cylinder_cross_section/np.pi)\n",
    "print(equivalent_cylinder_diameter)\n",
    "\n",
    "print('Done')\n"
   ],
   "metadata": {
    "collapsed": false,
    "pycharm": {
     "name": "#%%\n"
    }
   }
  },
  {
   "cell_type": "code",
   "execution_count": 13,
   "outputs": [
    {
     "ename": "NameError",
     "evalue": "name 'mask_pores' is not defined",
     "output_type": "error",
     "traceback": [
      "\u001B[0;31m---------------------------------------------------------------------------\u001B[0m",
      "\u001B[0;31mNameError\u001B[0m                                 Traceback (most recent call last)",
      "\u001B[0;32m/tmp/ipykernel_90134/1961142548.py\u001B[0m in \u001B[0;36m<module>\u001B[0;34m\u001B[0m\n\u001B[1;32m      2\u001B[0m \u001B[0;34m\u001B[0m\u001B[0m\n\u001B[1;32m      3\u001B[0m \u001B[0mtic\u001B[0m \u001B[0;34m=\u001B[0m \u001B[0mtime\u001B[0m\u001B[0;34m.\u001B[0m\u001B[0mtime\u001B[0m\u001B[0;34m(\u001B[0m\u001B[0;34m)\u001B[0m\u001B[0;34m\u001B[0m\u001B[0;34m\u001B[0m\u001B[0m\n\u001B[0;32m----> 4\u001B[0;31m \u001B[0mskeleton\u001B[0m \u001B[0;34m=\u001B[0m \u001B[0mskeletonize\u001B[0m\u001B[0;34m(\u001B[0m\u001B[0mmask_pores\u001B[0m\u001B[0;34m)\u001B[0m\u001B[0;34m\u001B[0m\u001B[0;34m\u001B[0m\u001B[0m\n\u001B[0m\u001B[1;32m      5\u001B[0m \u001B[0mprint\u001B[0m\u001B[0;34m(\u001B[0m\u001B[0;34m'Skeletonize took: '\u001B[0m\u001B[0;34m+\u001B[0m\u001B[0mstr\u001B[0m\u001B[0;34m(\u001B[0m\u001B[0mtime\u001B[0m\u001B[0;34m.\u001B[0m\u001B[0mtime\u001B[0m\u001B[0;34m(\u001B[0m\u001B[0;34m)\u001B[0m\u001B[0;34m-\u001B[0m\u001B[0mtic\u001B[0m\u001B[0;34m)\u001B[0m\u001B[0;34m)\u001B[0m\u001B[0;34m\u001B[0m\u001B[0;34m\u001B[0m\u001B[0m\n\u001B[1;32m      6\u001B[0m \u001B[0;34m\u001B[0m\u001B[0m\n",
      "\u001B[0;31mNameError\u001B[0m: name 'mask_pores' is not defined"
     ]
    }
   ],
   "source": [
    "from skimage.morphology import skeletonize\n",
    "\n",
    "tic = time.time()\n",
    "skeleton = skeletonize(mask_pores)\n",
    "print('Skeletonize took: '+str(time.time()-tic))\n",
    "\n",
    "# File(path_save+case+'/'+scan_to_test+'/b_movingRegisteredToStatic_maskPores_skeleton').saveTiffStack(skeleton[::10])"
   ],
   "metadata": {
    "collapsed": false,
    "pycharm": {
     "name": "#%% Skeleton for tortuosity\n"
    }
   }
  },
  {
   "cell_type": "code",
   "execution_count": null,
   "outputs": [],
   "source": [
    "tic = time.time()\n",
    "skeleton_lab = measure.label(skeleton)\n",
    "skeleton_properties = measure.regionprops(skeleton_lab)"
   ],
   "metadata": {
    "collapsed": false,
    "pycharm": {
     "name": "#%% Skeleton labels for tortuosity\n"
    }
   }
  },
  {
   "cell_type": "code",
   "execution_count": null,
   "outputs": [],
   "source": [
    "for ind_pore in range(len(skeleton_properties)):\n",
    "    bbox = skeleton_properties[ind_pore].bbox\n",
    "    skeleton_properties[ind_pore].height = bbox[3]-bbox[0] # Along z, in pixels\n",
    "\n",
    "skeleton_areas = np.array([prop.area for prop in skeleton_properties])\n",
    "skeleton_height = np.array([prop.height for prop in skeleton_properties])\n",
    "\n",
    "skeleton_ind_properties_cleaned = np.where((skeleton_areas>50) * (skeleton_areas < 1000) * (skeleton_height > 100))[0]\n",
    "print(len(skeleton_ind_properties_cleaned))\n",
    "\n",
    "\n"
   ],
   "metadata": {
    "collapsed": false,
    "pycharm": {
     "name": "#%%\n"
    }
   }
  },
  {
   "cell_type": "code",
   "execution_count": null,
   "outputs": [],
   "source": [
    "ind_skeleton = 280\n",
    "prop = skeleton_properties[ind_properties_cleaned[ind_skeleton]]\n",
    "\n",
    "print(prop.image.shape)\n",
    "plt.imshow(prop.image[0])\n",
    "\n",
    "# mask_ind_skeleton = (lab==skeleton_properties[ind_properties_cleaned[ind_skeleton]].label) > 0\n",
    "mask_ind_skeleton = (skeleton_lab==skeleton_properties[ind_properties_cleaned[ind_skeleton]].label) > 0\n",
    "# File(path_save+case+'/'+scan_to_test+'/b_movingRegisteredToStatic_maskPores_skeleton_checkOne').saveTiffStack(mask_ind_skeleton[::])\n"
   ],
   "metadata": {
    "collapsed": false,
    "pycharm": {
     "name": "#%%\n"
    }
   }
  },
  {
   "cell_type": "code",
   "execution_count": null,
   "outputs": [],
   "source": [
    "print(np.where(tortuosity>2.5))\n",
    "\n",
    "ind_skeleton = 2\n",
    "\n",
    "print(skeleton_properties[skeleton_ind_properties_cleaned[ind_skeleton]].tortuosity)\n",
    "\n",
    "mask_ind_skeleton = (lab==skeleton_properties[ind_properties_cleaned[ind_skeleton]].label) > 0\n",
    "File(path_save+case+'/'+scan_to_test+'/b_movingRegisteredToStatic_maskPores_skeleton_checkOne').saveTiffStack(mask_ind_skeleton[::10])"
   ],
   "metadata": {
    "collapsed": false,
    "pycharm": {
     "name": "#%%\n"
    }
   }
  },
  {
   "cell_type": "code",
   "execution_count": null,
   "outputs": [],
   "source": [
    "ind_skeleton = 280\n",
    "\n",
    "import networkx as nx\n",
    "\n",
    "print()\n",
    "img_skeleton = np.zeros_like(skeleton).astype('bool')\n",
    "for coor in skeleton_properties[skeleton_ind_properties_cleaned[ind_skeleton]].coords:\n",
    "    img_skeleton[coor[0], coor[1], coor[2]] = True\n",
    "print('Done')\n",
    "\n",
    "import sknw # https://github.com/Image-Py/sknw\n",
    "graph = sknw.build_sknw(img_skeleton, multi=False, iso=False, ring=False, full=True)\n",
    "print(graph)\n",
    "\n",
    "nx.draw(graph)"
   ],
   "metadata": {
    "collapsed": false,
    "pycharm": {
     "name": "#%%\n"
    }
   }
  },
  {
   "cell_type": "code",
   "execution_count": null,
   "outputs": [],
   "source": [
    "def get_path_length(graph, path):\n",
    "    this_sum=0\n",
    "    for i in range(len(path)-1):\n",
    "        this_sum += graph.get_edge_data(path[i], path[i+1])['weight']\n",
    "    return(this_sum)\n",
    "\n",
    "def longest_simple_path(graph, source, target):\n",
    "    longest_path = None\n",
    "    longest_path_length = 0\n",
    "    for path in nx.all_simple_paths(graph, source=source, target=target):\n",
    "        path_length = get_path_length(graph,path)\n",
    "        if path_length > longest_path_length:\n",
    "            longest_path_length = path_length\n",
    "            longest_path = path\n",
    "    return longest_path, longest_path_length\n",
    "\n",
    "def find_longest_subgraph_from_ends(graph, bbox):\n",
    "\n",
    "    ind_end_nodes = [x for x in graph.nodes if graph.degree(x) == 1]\n",
    "    ind_end_bottom = [x for x in ind_end_nodes if graph.nodes[x]['o'][0] - bbox[0] <=  bbox[3] - graph.nodes[x]['o'][0]]\n",
    "    ind_end_top = [x for x in ind_end_nodes if not x in ind_end_bottom]\n",
    "\n",
    "    longest_path_subgraph = None\n",
    "    longest_path_length = 0\n",
    "    longest_path = []\n",
    "    for ind_bot in ind_end_bottom:\n",
    "        for ind_top in ind_end_top:\n",
    "            this_longest_path, this_longest_path_length = longest_simple_path(graph, source=ind_bot, target=ind_top)\n",
    "            this_longest_path_subgraph = graph.subgraph(this_longest_path)\n",
    "\n",
    "            if this_longest_path_length > longest_path_length:\n",
    "                longest_path_length = this_longest_path_length\n",
    "                longest_path = this_longest_path\n",
    "                longest_path_subgraph = this_longest_path_subgraph\n",
    "\n",
    "    return(longest_path_subgraph, longest_path, longest_path_length)\n",
    "\n",
    "\n",
    "for ind_pore in range(len(skeleton_ind_properties_cleaned)):\n",
    "\n",
    "    bbox = skeleton_properties[skeleton_ind_properties_cleaned[ind_pore]].bbox\n",
    "    graph = sknw.build_sknw(skeleton_properties[skeleton_ind_properties_cleaned[ind_pore]].image, multi=False, iso=False, ring=False, full=True)\n",
    "    longest_path_subgraph, longest_path, longest_path_length = find_longest_subgraph_from_ends(graph, bbox)\n",
    "    if longest_path_length == 0:\n",
    "        longest_path_length = np.nan\n",
    "    skeleton_properties[skeleton_ind_properties_cleaned[ind_pore]].length_skeleton = longest_path_length\n",
    "    skeleton_properties[skeleton_ind_properties_cleaned[ind_pore]].longest_path = longest_path\n",
    "    # skeleton_properties[skeleton_ind_properties_cleaned[ind_pore]].longest_path_subgraph = longest_path_subgraph\n",
    "    skeleton_properties[skeleton_ind_properties_cleaned[ind_pore]].tortuosity = longest_path_length / skeleton_properties[skeleton_ind_properties_cleaned[ind_pore]].height\n",
    "\n",
    "    # print(ind_pore, longest_path_length, skeleton_properties[skeleton_ind_properties_cleaned[ind_pore]].tortuosity)"
   ],
   "metadata": {
    "collapsed": false,
    "pycharm": {
     "name": "#%%\n"
    }
   }
  },
  {
   "cell_type": "code",
   "execution_count": null,
   "outputs": [],
   "source": [
    "tortuosity = np.array([prop.tortuosity for prop in np.array(skeleton_properties)[skeleton_ind_properties_cleaned] if not np.isnan(prop.tortuosity)])\n",
    "\n",
    "nb_bins = 60\n",
    "areas_hist_bin = np.linspace(1.0, 2, nb_bins)\n",
    "areas_hist, _ = np.histogram(tortuosity, bins = areas_hist_bin)\n",
    "areas_hist_bin_c = 0.5 * (areas_hist_bin[:-1]+areas_hist_bin[1:])\n",
    "\n",
    "plt.plot(areas_hist_bin_c, areas_hist)\n",
    "plt.xlabel('Tortuosity')\n",
    "\n",
    "print(np.nanmean(tortuosity))\n",
    "print(np.nanmax(tortuosity))\n",
    "\n"
   ],
   "metadata": {
    "collapsed": false,
    "pycharm": {
     "name": "#%%\n"
    }
   }
  },
  {
   "cell_type": "code",
   "execution_count": 169,
   "outputs": [
    {
     "name": "stdout",
     "output_type": "stream",
     "text": [
      "[   46.04587069+0.j 14693.11571373+0.j 14677.96845309+0.j]\n",
      "[[-0.98008947  0.17573866  0.09241515]\n",
      " [ 0.17831827  0.98376191  0.02037388]\n",
      " [ 0.08733403 -0.03644754  0.9955121 ]]\n",
      "[ 0.17573866+0.j  0.98376191+0.j -0.03644754+0.j]\n",
      "[[4.60458707e+01 4.53970195e-13 5.59552404e-14]\n",
      " [3.33955086e-13 1.46931157e+04 9.92372406e-10]\n",
      " [0.00000000e+00 9.92486093e-10 1.46779685e+04]]\n"
     ]
    }
   ],
   "source": [
    "I = properties[ind_properties_cleaned[ind_pore]].inertia_tensor\n",
    "\n",
    "import scipy.linalg\n",
    "eigen_values, eigen_vectors = scipy.linalg.eig(I)\n",
    "\n",
    "print(eigen_values)\n",
    "print(eigen_vectors)\n",
    "\n",
    "ind = 1\n",
    "\n",
    "print(I.dot(eigen_vectors[:,ind]) / eigen_values[ind])\n",
    "print(eigen_vectors.transpose().dot(I).dot(eigen_vectors))"
   ],
   "metadata": {
    "collapsed": false,
    "pycharm": {
     "name": "#%% Looking at inertia_tensor\n"
    }
   }
  }
 ],
 "metadata": {
  "kernelspec": {
   "display_name": "Python 3",
   "language": "python",
   "name": "python3"
  },
  "language_info": {
   "codemirror_mode": {
    "name": "ipython",
    "version": 2
   },
   "file_extension": ".py",
   "mimetype": "text/x-python",
   "name": "python",
   "nbconvert_exporter": "python",
   "pygments_lexer": "ipython2",
   "version": "2.7.6"
  }
 },
 "nbformat": 4,
 "nbformat_minor": 0
}