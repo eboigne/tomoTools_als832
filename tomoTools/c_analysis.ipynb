{
 "cells": [
  {
   "cell_type": "code",
   "execution_count": 1,
   "metadata": {
    "collapsed": true
   },
   "outputs": [],
   "source": [
    "# Clear memory\n",
    "%reset -f"
   ]
  },
  {
   "cell_type": "code",
   "execution_count": 2,
   "outputs": [
    {
     "data": {
      "text/plain": "<IPython.core.display.HTML object>",
      "text/html": "<style>.container { width:90% !important; }</style>"
     },
     "metadata": {},
     "output_type": "display_data"
    },
    {
     "name": "stdout",
     "output_type": "stream",
     "text": [
      "/global/u2/e/eboigne/tomoTools_als832/tomoTools\n"
     ]
    }
   ],
   "source": [
    "%load_ext autoreload\n",
    "%autoreload 2\n",
    "\n",
    "from IPython.core.display import display, HTML\n",
    "display(HTML(\"<style>.container { width:90% !important; }</style>\"))\n",
    "\n",
    "import ipywidgets\n",
    "ipywidgets.Widget.close_all()\n",
    "\n",
    "import SimpleITK\n",
    "import datetime\n",
    "import gc # Garbage collected\n",
    "import numpy as np\n",
    "import sys, os\n",
    "import time\n",
    "import tifffile\n",
    "import matplotlib.pyplot as plt\n",
    "import scipy\n",
    "from tkinter import Tk\n",
    "from tkinter.filedialog import askopenfilename, askopenfilenames, askdirectory\n",
    "import torch\n",
    "import skimage\n",
    "from skimage import measure\n",
    "\n",
    "this_path = os.getcwd()\n",
    "print(this_path)\n",
    "\n",
    "\n",
    "import h5py\n",
    "# import File\n",
    "from scripts import *\n",
    "import wrapper_ASTRA\n"
   ],
   "metadata": {
    "collapsed": false,
    "pycharm": {
     "name": "#%%\n"
    }
   }
  },
  {
   "cell_type": "code",
   "execution_count": 3,
   "outputs": [
    {
     "name": "stdout",
     "output_type": "stream",
     "text": [
      "['01', '02', '03', '04', '05', '06', '07', '08a', '08b', '09a', '09b', '10a', '10b', '11a', '11b', '12a', '12b', '13a', '13b', '14a', '14b', '15a', '15b', '16a', '16b', '17a', '17b', '18a', '18b', '19a', '19b', '20a', '20b', '21a', '21b', '22', '23', '24']\n"
     ]
    }
   ],
   "source": [
    "path_save = '/global/homes/e/eboigne/cfs_als/2022_wood/'\n",
    "case = 'run24_birch_lowHeat_test2'\n",
    "\n",
    "list_cases = sorted([e for e in os.listdir(path_save+case) if not 'probe' in e and not '.tif' in e])\n",
    "print(list_cases)"
   ],
   "metadata": {
    "collapsed": false,
    "pycharm": {
     "name": "#%% WHich case to look at?\n"
    }
   }
  },
  {
   "cell_type": "code",
   "execution_count": 4,
   "outputs": [
    {
     "name": "stdout",
     "output_type": "stream",
     "text": [
      "0 01\n",
      "1 02\n",
      "2 03\n",
      "3 04\n",
      "4 05\n",
      "5 06\n",
      "6 07\n",
      "7 08a\n",
      "8 08b\n",
      "9 09a\n",
      "10 09b\n",
      "11 10a\n",
      "12 10b\n",
      "13 11a\n",
      "14 11b\n",
      "15 12a\n",
      "16 12b\n",
      "17 13a\n",
      "18 13b\n",
      "19 14a\n",
      "20 14b\n",
      "21 15a\n",
      "22 15b\n",
      "23 16a\n",
      "24 16b\n",
      "25 17a\n",
      "26 17b\n",
      "27 18a\n",
      "28 18b\n",
      "29 19a\n",
      "30 19b\n",
      "31 20a\n",
      "32 20b\n",
      "33 21a\n",
      "34 21b\n",
      "35 22\n",
      "36 23\n",
      "(37, 1280, 1280)\n"
     ]
    }
   ],
   "source": [
    "ind_slice = 250\n",
    "\n",
    "slices = []\n",
    "for ind_case, this_case in enumerate(list_cases[:-1]):\n",
    "    slices.append(File(path_save+case+'/'+this_case+'/b_movingRegisteredToStatic/').read(ind_slice))\n",
    "    print(ind_case, this_case)\n",
    "\n",
    "slices = np.array(slices)\n",
    "print(slices.shape)\n",
    "File(path_save+case+'/probe_slice_'+str(ind_slice).zfill(4)).saveTiffStack(slices)"
   ],
   "metadata": {
    "collapsed": false,
    "pycharm": {
     "name": "#%% Probe one slice\n"
    }
   }
  },
  {
   "cell_type": "code",
   "execution_count": 5,
   "outputs": [],
   "source": [
    "scan_to_test = '09a'"
   ],
   "metadata": {
    "collapsed": false,
    "pycharm": {
     "name": "#%%\n"
    }
   }
  },
  {
   "cell_type": "code",
   "execution_count": 8,
   "outputs": [
    {
     "name": "stdout",
     "output_type": "stream",
     "text": [
      "Loading data took: 5.702080488204956\n",
      "(698, 1280, 1280)\n"
     ]
    }
   ],
   "source": [
    "tic = time.time()\n",
    "data = File(path_save+case+'/'+scan_to_test+'/b_movingRegisteredToStatic/').readAll()\n",
    "print('Loading data took: '+str(time.time()-tic))\n",
    "print(data.shape)\n"
   ],
   "metadata": {
    "collapsed": false,
    "pycharm": {
     "name": "#%% Load data\n"
    }
   }
  },
  {
   "cell_type": "code",
   "execution_count": 9,
   "outputs": [
    {
     "name": "stdout",
     "output_type": "stream",
     "text": [
      "(698, 1280, 1280)\n",
      "\t Processing 18 chunks of size [349 426 426] .................. Done\n",
      "(698, 1280, 1280)\n",
      "Smoothing data took: 25.690764904022217\n",
      "\t Processing 18 chunks of size [349 426 426] .................. Done\n",
      "0\n",
      "100\n",
      "200\n",
      "300\n",
      "400\n",
      "500\n",
      "600\n"
     ]
    }
   ],
   "source": [
    "threshold = 0.05 # Linear attenuation threshold [/cm]\n",
    "threshold_needle = 4.0 # Linear attenuation threshold [/cm]\n",
    "mask_growth_needle = 10 # Grow the mask obtained using threshold_needle with this amount of pixels\n",
    "mask_enclosing_circle = tifffile.imread(path_save+case+'/maskEnclosingCircle.tif') > 0\n",
    "\n",
    "bin_factor_dilatation = 1 # Binning before smoothing, as an option to speed things up for large kernels\n",
    "filter_half_width = 3 #  After binning (equal to sigma for gaussian filter)\n",
    "\n",
    "# kernel = custom_3d_kernel_sphere(filter_half_width)\n",
    "kernel = custom_3d_gaussian_filter(filter_half_width)\n",
    "# filter_half_width = (kernel.shape[0]-1)/2\n",
    "\n",
    "tic = time.time()\n",
    "if bin_factor_dilatation > 1:\n",
    "    data_smoothed = fast_pytorch_bin_3d(data,bin_factor_dilatation, chunk_size = 71)\n",
    "else:\n",
    "    data_smoothed = data\n",
    "\n",
    "print(data_smoothed.shape)\n",
    "data_smoothed = apply_3d_image_processing_on_subvolumes(data_smoothed, fast_pytorch_convolution, kernel_array = kernel, chunk_size_max = (500, 500, 500), overlap = 3*filter_half_width)\n",
    "print(data_smoothed.shape)\n",
    "\n",
    "if bin_factor_dilatation > 1:\n",
    "    data_smoothed = skimage.transform.rescale(data_smoothed, bin_factor_dilatation, multichannel=False)\n",
    "print('Smoothing data took: '+str(time.time()-tic))\n",
    "\n",
    "# Save smoothed data\n",
    "# File(path_save+case+'/'+scan_to_test+'/b_movingRegisteredToStatic_smoothed_bin'+str(bin_factor_dilatation)+'x_FHW_'+str(filter_half_width)).saveTiffStack(data_smoothed)\n",
    "\n",
    "mask_needle = data_smoothed > threshold_needle\n",
    "mask_needle = apply_3d_image_processing_on_subvolumes(mask_needle, fast_pytorch_mask_dilation, chunk_size_max = (500, 500, 500), overlap = mask_growth_needle, radius = mask_growth_needle)\n",
    "# File(path_save+case+'/'+scan_to_test+'/b_movingRegisteredToStatic_maskNeedle').saveTiffStack(mask_needle, type = 'bool')\n",
    "\n",
    "mask_solid = data_smoothed > threshold\n",
    "mask_solid[mask_needle] = False\n",
    "for ind, slice in enumerate(mask_solid):\n",
    "    slice[~mask_enclosing_circle] = False\n",
    "    mask_solid[ind] = slice\n",
    "    if ind % 100 == 0:\n",
    "        print(ind)\n",
    "\n",
    "# File(path_save+case+'/'+scan_to_test+'/b_movingRegisteredToStatic_maskSolid').saveTiffStack(mask_solid, type = 'bool')"
   ],
   "metadata": {
    "collapsed": false,
    "pycharm": {
     "name": "#%% Smooth data, compute solid and needle masks\n"
    }
   }
  },
  {
   "cell_type": "code",
   "execution_count": 10,
   "outputs": [],
   "source": [
    "ind_bottom = 100\n",
    "ind_top = 610\n",
    "\n",
    "mask_solid[:ind_bottom] = False\n",
    "mask_solid[ind_top:] = False"
   ],
   "metadata": {
    "collapsed": false,
    "pycharm": {
     "name": "#%% Manual clean-up and save of solid mask\n"
    }
   }
  },
  {
   "cell_type": "code",
   "execution_count": 11,
   "outputs": [
    {
     "name": "stdout",
     "output_type": "stream",
     "text": [
      "\t Processing 18 chunks of size [349 426 426] .................. Done\n",
      "\t Processing 18 chunks of size [349 426 426] .................. Done\n"
     ]
    },
    {
     "data": {
      "text/plain": "<Figure size 432x288 with 1 Axes>",
      "image/png": "[encoded data removed]"
     },
     "metadata": {
      "needs_background": "light"
     },
     "output_type": "display_data"
    }
   ],
   "source": [
    "slice = mask_solid[ind_top-1]\n",
    "plt.imshow(slice)\n",
    "\n",
    "filter_half_width = 12\n",
    "\n",
    "mask_solid_dilated = apply_3d_image_processing_on_subvolumes(mask_solid, fast_pytorch_mask_dilation, chunk_size_max = (500, 500, 500), overlap = filter_half_width, radius = filter_half_width)\n",
    "# print('1')\n",
    "# File(path_save+case+'/'+scan_to_test+'/b_movingRegisteredToStatic_maskSolidDilated').saveTiffStack(mask_solid_dilated, type = 'bool')\n",
    "mask_solid_closed = ~apply_3d_image_processing_on_subvolumes(~mask_solid_dilated, fast_pytorch_mask_dilation, chunk_size_max = (500, 500, 500), overlap = filter_half_width, radius = filter_half_width)\n",
    "# print('Closing data took: '+str(time.time()-tic))\n",
    "# File(path_save+case+'/'+scan_to_test+'/b_movingRegisteredToStatic_maskSolidClosed').saveTiffStack(mask_solid_closed, type = 'bool')"
   ],
   "metadata": {
    "collapsed": false,
    "pycharm": {
     "name": "#%% Morphological closing: closing the pores\n"
    }
   }
  },
  {
   "cell_type": "code",
   "execution_count": 12,
   "outputs": [
    {
     "name": "stdout",
     "output_type": "stream",
     "text": [
      "Particle identification took: 7.558035612106323\n"
     ]
    }
   ],
   "source": [
    "# filter_half_width = 1\n",
    "# mask_solid_closed_dilated = apply_3d_image_processing_on_subvolumes(mask_solid_closed, fast_pytorch_mask_dilation, chunk_size_max = (500, 500, 500), overlap = filter_half_width, radius = filter_half_width)\n",
    "# mask_pores_with_borders = mask_solid_closed_dilated * (~mask_solid)\n",
    "# File(path_save+case+'/'+scan_to_test+'/b_movingRegisteredToStatic_maskPoresWithBorders').saveTiffStack(mask_pores_with_borders, type = 'bool')\n",
    "\n",
    "mask_pores = mask_solid_closed * (~mask_solid)\n",
    "# File(path_save+case+'/'+scan_to_test+'/b_movingRegisteredToStatic_maskPores').saveTiffStack(mask_pores, type = 'bool')\n",
    "\n",
    "tic = time.time()\n",
    "lab = measure.label(mask_pores)\n",
    "print('Particle identification took: '+str(time.time()-tic))"
   ],
   "metadata": {
    "collapsed": false,
    "pycharm": {
     "name": "#%% Extract and analyze pore structure\n"
    }
   }
  },
  {
   "cell_type": "code",
   "execution_count": 156,
   "outputs": [],
   "source": [
    "File(path_save+case+'/'+scan_to_test+'/b_movingRegisteredToStatic_maskPores_particleLabels').saveTiffStack(lab)\n"
   ],
   "metadata": {
    "collapsed": false,
    "pycharm": {
     "name": "#%%\n"
    }
   }
  },
  {
   "cell_type": "code",
   "execution_count": 42,
   "outputs": [
    {
     "name": "stdout",
     "output_type": "stream",
     "text": [
      "Done loading data\n"
     ]
    }
   ],
   "source": [
    "lab = File(path_save+case+'/'+scan_to_test+'/b_movingRegisteredToStatic_maskPores_particleLabels').readAll().astype('int')\n",
    "print('Done loading data')"
   ],
   "metadata": {
    "collapsed": false,
    "pycharm": {
     "name": "#%%\n"
    }
   }
  },
  {
   "cell_type": "code",
   "execution_count": 13,
   "outputs": [
    {
     "name": "stdout",
     "output_type": "stream",
     "text": [
      "Particle analysis took: 3.379045248031616\n"
     ]
    }
   ],
   "source": [
    "tic = time.time()\n",
    "properties = measure.regionprops(lab)\n",
    "print('Particle analysis took: '+str(time.time()-tic))\n"
   ],
   "metadata": {
    "collapsed": false,
    "pycharm": {
     "name": "#%%\n"
    }
   }
  },
  {
   "cell_type": "code",
   "execution_count": 14,
   "outputs": [
    {
     "name": "stdout",
     "output_type": "stream",
     "text": [
      "457\n"
     ]
    }
   ],
   "source": [
    "areas = np.array([prop.area for prop in properties])\n",
    "ind_properties_cleaned = np.where((areas>500) * (areas < 300000))[0]\n",
    "print(len(ind_properties_cleaned))\n",
    "\n",
    "properties_cleaned = [prop for prop in properties if prop.area > 500]"
   ],
   "metadata": {
    "collapsed": false,
    "pycharm": {
     "name": "#%%\n"
    }
   }
  },
  {
   "cell_type": "code",
   "execution_count": 19,
   "outputs": [],
   "source": [
    "# lab_cleaned = np.zeros_like(lab)\n",
    "# for prop in properties:\n",
    "#     lab_cleaned[lab==prop.label] = prop.label\n",
    "#     print(prop.label)\n",
    "# properties_cleaned = measure.regionprops(lab_cleaned)"
   ],
   "metadata": {
    "collapsed": false,
    "pycharm": {
     "name": "#%% Check cleaned-up label arrays\n"
    }
   }
  },
  {
   "cell_type": "code",
   "execution_count": 15,
   "outputs": [],
   "source": [
    "areas = [prop.area for prop in properties_cleaned]\n",
    "\n",
    "voxel_size = 3.24*2 # [microns]\n",
    "\n",
    "for ind_pore in range(len(ind_properties_cleaned)):\n",
    "\n",
    "    # Equivalent cylinder diameter & height\n",
    "    bbox = properties[ind_properties_cleaned[ind_pore]].bbox\n",
    "    properties[ind_properties_cleaned[ind_pore]].height = bbox[3]-bbox[0] # Along z, in pixels\n",
    "    equivalent_cylinder_cross_section = properties[ind_properties_cleaned[ind_pore]].area / properties[ind_properties_cleaned[ind_pore]].height\n",
    "    properties[ind_properties_cleaned[ind_pore]].equivalent_cylinder_diameter = np.sqrt(4*equivalent_cylinder_cross_section/np.pi) * voxel_size\n",
    "    # print(ind_pore, ind_properties_cleaned[ind_pore], properties[ind_properties_cleaned[ind_pore]].equivalent_cylinder_diameter)\n",
    "\n",
    "    # Perimeter\n",
    "\n",
    "equivalent_cylinder_diameters = [prop.equivalent_cylinder_diameter for prop in np.array(properties)[ind_properties_cleaned]]\n"
   ],
   "metadata": {
    "collapsed": false,
    "pycharm": {
     "name": "#%%\n"
    }
   }
  },
  {
   "cell_type": "code",
   "execution_count": null,
   "outputs": [],
   "source": [
    "print('Done')\n",
    "\n",
    "\n",
    "nb_bins = 30\n",
    "areas_hist_bin = np.linspace(10, 200, nb_bins)\n",
    "areas_hist, _ = np.histogram(equivalent_cylinder_diameters, bins = areas_hist_bin)\n",
    "areas_hist_bin_c = 0.5 * (areas_hist_bin[:-1]+areas_hist_bin[1:])\n",
    "\n",
    "plt.plot(areas_hist_bin_c, areas_hist)\n",
    "plt.xlabel('$D_{eq}$ [$\\mu$m]')\n"
   ],
   "metadata": {
    "collapsed": false,
    "pycharm": {
     "name": "#%%\n"
    }
   }
  },
  {
   "cell_type": "code",
   "execution_count": 17,
   "outputs": [
    {
     "name": "stdout",
     "output_type": "stream",
     "text": [
      "541.5259762571603\n",
      "17.57800047124753\n",
      "[[  623.37191074  2559.80843671  1252.32478488]\n",
      " [ 2559.80843671 14227.3706332   -228.40974558]\n",
      " [ 1252.32478488  -228.40974558 14566.38749357]]\n",
      "[14693.115713726113, 14677.96845309189, 46.045870690940966]\n",
      "12.355457621224993\n",
      "Done\n"
     ]
    }
   ],
   "source": [
    "ind_pore = 200\n",
    "\n",
    "mask_ind_pore = (lab==properties[ind_properties_cleaned[ind_pore]].label) > 0\n",
    "# File(path_save+case+'/'+scan_to_test+'/b_movingRegisteredToStatic_maskPores_particleLabels_checkOnePore').saveTiffStack(mask_ind_pore[::])\n",
    "\n",
    "print(properties[ind_properties_cleaned[ind_pore]].axis_major_length)\n",
    "print(properties[ind_properties_cleaned[ind_pore]].axis_minor_length)\n",
    "print(properties[ind_properties_cleaned[ind_pore]].inertia_tensor)\n",
    "print(properties[ind_properties_cleaned[ind_pore]].inertia_tensor_eigvals)\n",
    "\n",
    "bbox = properties[ind_properties_cleaned[ind_pore]].bbox\n",
    "height = bbox[3]-bbox[0] # Along z, in pixels\n",
    "equivalent_cylinder_cross_section = properties[ind_properties_cleaned[ind_pore]].area / height\n",
    "equivalent_cylinder_diameter = np.sqrt(4*equivalent_cylinder_cross_section/np.pi)\n",
    "print(equivalent_cylinder_diameter)\n",
    "\n",
    "print('Done')\n"
   ],
   "metadata": {
    "collapsed": false,
    "pycharm": {
     "name": "#%%\n"
    }
   }
  },
  {
   "cell_type": "code",
   "execution_count": 18,
   "outputs": [
    {
     "name": "stdout",
     "output_type": "stream",
     "text": [
      "Skeletonize took: 77.70931506156921\n"
     ]
    }
   ],
   "source": [
    "from skimage.morphology import skeletonize\n",
    "\n",
    "tic = time.time()\n",
    "skeleton = skeletonize(mask_pores)\n",
    "print('Skeletonize took: '+str(time.time()-tic))\n",
    "\n",
    "# File(path_save+case+'/'+scan_to_test+'/b_movingRegisteredToStatic_maskPores_skeleton').saveTiffStack(skeleton[::10])"
   ],
   "metadata": {
    "collapsed": false,
    "pycharm": {
     "name": "#%% Skeleton for tortuosity\n"
    }
   }
  },
  {
   "cell_type": "code",
   "execution_count": 19,
   "outputs": [],
   "source": [
    "tic = time.time()\n",
    "skeleton_lab = measure.label(skeleton)\n",
    "skeleton_properties = measure.regionprops(skeleton_lab)"
   ],
   "metadata": {
    "collapsed": false,
    "pycharm": {
     "name": "#%% Skeleton labels for tortuosity\n"
    }
   }
  },
  {
   "cell_type": "code",
   "execution_count": 85,
   "outputs": [
    {
     "name": "stdout",
     "output_type": "stream",
     "text": [
      "\n",
      "Done\n",
      "Graph with 8 nodes and 7 edges\n"
     ]
    },
    {
     "data": {
      "text/plain": "<Figure size 432x288 with 1 Axes>",
      "image/png": "[encoded data removed]"
     },
     "metadata": {},
     "output_type": "display_data"
    }
   ],
   "source": [
    "ind_skeleton = 2\n",
    "print()\n",
    "img_skeleton = np.zeros_like(skeleton).astype('bool')\n",
    "for coor in skeleton_properties[skeleton_ind_properties_cleaned[ind_skeleton]].coords:\n",
    "    img_skeleton[coor[0], coor[1], coor[2]] = True\n",
    "print('Done')\n",
    "\n",
    "import sknw # https://github.com/Image-Py/sknw\n",
    "graph = sknw.build_sknw(img_skeleton, multi=False, iso=False, ring=False, full=True)\n",
    "print(graph)\n",
    "\n",
    "nx.draw(graph)"
   ],
   "metadata": {
    "collapsed": false,
    "pycharm": {
     "name": "#%%\n"
    }
   }
  },
  {
   "cell_type": "code",
   "execution_count": 86,
   "outputs": [
    {
     "name": "stdout",
     "output_type": "stream",
     "text": [
      "5\n"
     ]
    }
   ],
   "source": [
    "# graph.degree\n",
    "print(nx.diameter(graph))"
   ],
   "metadata": {
    "collapsed": false,
    "pycharm": {
     "name": "#%%\n"
    }
   }
  },
  {
   "cell_type": "code",
   "execution_count": 71,
   "outputs": [
    {
     "ename": "TypeError",
     "evalue": "all_simple_paths() missing 2 required positional arguments: 'source' and 'target'",
     "output_type": "error",
     "traceback": [
      "\u001B[0;31m---------------------------------------------------------------------------\u001B[0m",
      "\u001B[0;31mTypeError\u001B[0m                                 Traceback (most recent call last)",
      "\u001B[0;32m/tmp/ipykernel_41069/3079299136.py\u001B[0m in \u001B[0;36m<module>\u001B[0;34m\u001B[0m\n\u001B[0;32m----> 1\u001B[0;31m \u001B[0mnx\u001B[0m\u001B[0;34m.\u001B[0m\u001B[0mall_simple_paths\u001B[0m\u001B[0;34m(\u001B[0m\u001B[0mgraph\u001B[0m\u001B[0;34m,\u001B[0m\u001B[0;34m)\u001B[0m\u001B[0;34m\u001B[0m\u001B[0;34m\u001B[0m\u001B[0m\n\u001B[0m\u001B[1;32m      2\u001B[0m \u001B[0;34m\u001B[0m\u001B[0m\n\u001B[1;32m      3\u001B[0m \u001B[0;34m\u001B[0m\u001B[0m\n",
      "\u001B[0;31mTypeError\u001B[0m: all_simple_paths() missing 2 required positional arguments: 'source' and 'target'"
     ]
    }
   ],
   "source": [
    "nx.all_simple_paths(graph,)\n"
   ],
   "metadata": {
    "collapsed": false,
    "pycharm": {
     "name": "#%%\n"
    }
   }
  },
  {
   "cell_type": "code",
   "execution_count": 67,
   "outputs": [
    {
     "ename": "NetworkXNotImplemented",
     "evalue": "not implemented for undirected type",
     "output_type": "error",
     "traceback": [
      "\u001B[0;31m---------------------------------------------------------------------------\u001B[0m",
      "\u001B[0;31mNetworkXNotImplemented\u001B[0m                    Traceback (most recent call last)",
      "\u001B[0;32m/tmp/ipykernel_41069/150121053.py\u001B[0m in \u001B[0;36m<module>\u001B[0;34m\u001B[0m\n\u001B[1;32m      1\u001B[0m \u001B[0;32mimport\u001B[0m \u001B[0mnetworkx\u001B[0m \u001B[0;32mas\u001B[0m \u001B[0mnx\u001B[0m\u001B[0;34m\u001B[0m\u001B[0;34m\u001B[0m\u001B[0m\n\u001B[0;32m----> 2\u001B[0;31m \u001B[0mprint\u001B[0m\u001B[0;34m(\u001B[0m\u001B[0mnx\u001B[0m\u001B[0;34m.\u001B[0m\u001B[0mdag_longest_path\u001B[0m\u001B[0;34m(\u001B[0m\u001B[0mgraph\u001B[0m\u001B[0;34m)\u001B[0m\u001B[0;34m)\u001B[0m\u001B[0;34m\u001B[0m\u001B[0;34m\u001B[0m\u001B[0m\n\u001B[0m\u001B[1;32m      3\u001B[0m \u001B[0;34m\u001B[0m\u001B[0m\n\u001B[1;32m      4\u001B[0m \u001B[0;34m\u001B[0m\u001B[0m\n\u001B[1;32m      5\u001B[0m \u001B[0;32mdef\u001B[0m \u001B[0mlongest_simple_paths\u001B[0m\u001B[0;34m(\u001B[0m\u001B[0mgraph\u001B[0m\u001B[0;34m,\u001B[0m \u001B[0msource\u001B[0m\u001B[0;34m,\u001B[0m \u001B[0mtarget\u001B[0m\u001B[0;34m)\u001B[0m\u001B[0;34m:\u001B[0m\u001B[0;34m\u001B[0m\u001B[0;34m\u001B[0m\u001B[0m\n",
      "\u001B[0;32m~/local/miniconda3/envs/als/lib/python3.7/site-packages/networkx/utils/decorators.py\u001B[0m in \u001B[0;36margmap_dag_longest_path_1\u001B[0;34m(G, weight, default_weight, topo_order)\u001B[0m\n\u001B[1;32m      1\u001B[0m \u001B[0;32mfrom\u001B[0m \u001B[0mcollections\u001B[0m \u001B[0;32mimport\u001B[0m \u001B[0mdefaultdict\u001B[0m\u001B[0;34m\u001B[0m\u001B[0;34m\u001B[0m\u001B[0m\n\u001B[1;32m      2\u001B[0m \u001B[0;32mfrom\u001B[0m \u001B[0mos\u001B[0m\u001B[0;34m.\u001B[0m\u001B[0mpath\u001B[0m \u001B[0;32mimport\u001B[0m \u001B[0msplitext\u001B[0m\u001B[0;34m\u001B[0m\u001B[0;34m\u001B[0m\u001B[0m\n\u001B[0;32m----> 3\u001B[0;31m \u001B[0;32mfrom\u001B[0m \u001B[0mcontextlib\u001B[0m \u001B[0;32mimport\u001B[0m \u001B[0mcontextmanager\u001B[0m\u001B[0;34m\u001B[0m\u001B[0;34m\u001B[0m\u001B[0m\n\u001B[0m\u001B[1;32m      4\u001B[0m \u001B[0;32mfrom\u001B[0m \u001B[0mpathlib\u001B[0m \u001B[0;32mimport\u001B[0m \u001B[0mPath\u001B[0m\u001B[0;34m\u001B[0m\u001B[0;34m\u001B[0m\u001B[0m\n\u001B[1;32m      5\u001B[0m \u001B[0;32mimport\u001B[0m \u001B[0mwarnings\u001B[0m\u001B[0;34m\u001B[0m\u001B[0;34m\u001B[0m\u001B[0m\n",
      "\u001B[0;32m~/local/miniconda3/envs/als/lib/python3.7/site-packages/networkx/utils/decorators.py\u001B[0m in \u001B[0;36m_not_implemented_for\u001B[0;34m(g)\u001B[0m\n\u001B[1;32m     85\u001B[0m             \u001B[0mdval\u001B[0m \u001B[0;32mis\u001B[0m \u001B[0;32mNone\u001B[0m \u001B[0;32mor\u001B[0m \u001B[0mdval\u001B[0m \u001B[0;34m==\u001B[0m \u001B[0mg\u001B[0m\u001B[0;34m.\u001B[0m\u001B[0mis_directed\u001B[0m\u001B[0;34m(\u001B[0m\u001B[0;34m)\u001B[0m\u001B[0;34m\u001B[0m\u001B[0;34m\u001B[0m\u001B[0m\n\u001B[1;32m     86\u001B[0m         ):\n\u001B[0;32m---> 87\u001B[0;31m             \u001B[0;32mraise\u001B[0m \u001B[0mnx\u001B[0m\u001B[0;34m.\u001B[0m\u001B[0mNetworkXNotImplemented\u001B[0m\u001B[0;34m(\u001B[0m\u001B[0merrmsg\u001B[0m\u001B[0;34m)\u001B[0m\u001B[0;34m\u001B[0m\u001B[0;34m\u001B[0m\u001B[0m\n\u001B[0m\u001B[1;32m     88\u001B[0m \u001B[0;34m\u001B[0m\u001B[0m\n\u001B[1;32m     89\u001B[0m         \u001B[0;32mreturn\u001B[0m \u001B[0mg\u001B[0m\u001B[0;34m\u001B[0m\u001B[0;34m\u001B[0m\u001B[0m\n",
      "\u001B[0;31mNetworkXNotImplemented\u001B[0m: not implemented for undirected type"
     ]
    }
   ],
   "source": [
    "import networkx as nx\n",
    "print(nx.dag_longest_path(graph))\n",
    "\n",
    "\n",
    "\n",
    "def longest_simple_paths(graph, source, target):\n",
    "    longest_paths = []\n",
    "    longest_path_length = 0\n",
    "    for path in nx.all_simple_paths(G, source=source, target=target):\n",
    "        if len(path) > longest_path_length:\n",
    "            longest_path_length = len(path)\n",
    "            longest_paths.clear()\n",
    "            longest_paths.append(path)\n",
    "        elif len(path) == longest_path_length:\n",
    "            longest_paths.append(path)\n",
    "    return longest_paths\n",
    "\n",
    "longest_paths = longest_simple_paths(graph, source=0, target=3)\n",
    "if longest_paths:\n",
    "    print(f\"Longest simple path contains {len(longest_paths[0])} nodes\")\n",
    "    print(longest_paths)\n",
    "\n",
    "nodes = graph.nodes()"
   ],
   "metadata": {
    "collapsed": false,
    "pycharm": {
     "name": "#%%\n"
    }
   }
  },
  {
   "cell_type": "code",
   "execution_count": 20,
   "outputs": [],
   "source": [
    "for ind_pore in range(len(skeleton_properties)):\n",
    "    bbox = skeleton_properties[ind_pore].bbox\n",
    "    skeleton_properties[ind_pore].height = bbox[3]-bbox[0] # Along z, in pixels\n",
    "    skeleton_properties[ind_pore].tortuosity = skeleton_properties[ind_pore].area / skeleton_properties[ind_pore].height"
   ],
   "metadata": {
    "collapsed": false,
    "pycharm": {
     "name": "#%%\n"
    }
   }
  },
  {
   "cell_type": "code",
   "execution_count": 23,
   "outputs": [
    {
     "name": "stdout",
     "output_type": "stream",
     "text": [
      "311\n"
     ]
    }
   ],
   "source": [
    "skeleton_areas = np.array([prop.area for prop in skeleton_properties])\n",
    "skeleton_height = np.array([prop.height for prop in skeleton_properties])\n",
    "\n",
    "skeleton_ind_properties_cleaned = np.where((skeleton_areas>50) * (skeleton_areas < 1000) * (skeleton_height > 100))[0]\n",
    "print(len(skeleton_ind_properties_cleaned))\n",
    "\n",
    "tortuosity = np.array([prop.tortuosity for prop in np.array(skeleton_properties)[skeleton_ind_properties_cleaned]])\n",
    "skeleton_areas_cleaned = np.array([prop.area for prop in np.array(skeleton_properties)[skeleton_ind_properties_cleaned]])\n",
    "\n",
    "ind_tortuosity_for_mean = tortuosity < 3\n",
    "mean_tortuosity = np.sum(tortuosity[ind_tortuosity_for_mean] * skeleton_areas_cleaned[ind_tortuosity_for_mean]) / np.sum(skeleton_areas_cleaned[ind_tortuosity_for_mean])"
   ],
   "metadata": {
    "collapsed": false,
    "pycharm": {
     "name": "#%%\n"
    }
   }
  },
  {
   "cell_type": "code",
   "execution_count": 43,
   "outputs": [
    {
     "name": "stdout",
     "output_type": "stream",
     "text": [
      "1.2608666378069018\n",
      "1.3683548209580796\n",
      "2.6\n"
     ]
    },
    {
     "data": {
      "text/plain": "<Figure size 432x288 with 1 Axes>",
      "image/png": "[encoded data removed]"
     },
     "metadata": {
      "needs_background": "light"
     },
     "output_type": "display_data"
    }
   ],
   "source": [
    "nb_bins = 20\n",
    "areas_hist_bin = np.linspace(1.0, 3, nb_bins)\n",
    "areas_hist, _ = np.histogram(tortuosity, bins = areas_hist_bin)\n",
    "areas_hist_bin_c = 0.5 * (areas_hist_bin[:-1]+areas_hist_bin[1:])\n",
    "\n",
    "plt.plot(areas_hist_bin_c, areas_hist)\n",
    "plt.xlabel('Tortuosity')\n",
    "\n",
    "print(np.mean(tortuosity))\n",
    "print(mean_tortuosity)\n",
    "print(np.max(tortuosity))"
   ],
   "metadata": {
    "collapsed": false,
    "pycharm": {
     "name": "#%%\n"
    }
   }
  },
  {
   "cell_type": "code",
   "execution_count": 73,
   "outputs": [
    {
     "name": "stdout",
     "output_type": "stream",
     "text": [
      "(array([280, 283]),)\n",
      "1.1383647798742138\n"
     ]
    }
   ],
   "source": [
    "print(np.where(tortuosity>2.5))\n",
    "\n",
    "ind_skeleton = 2\n",
    "\n",
    "print(skeleton_properties[skeleton_ind_properties_cleaned[ind_skeleton]].tortuosity)\n",
    "\n",
    "mask_ind_skeleton = (lab==properties[ind_properties_cleaned[ind_skeleton]].label) > 0\n",
    "File(path_save+case+'/'+scan_to_test+'/b_movingRegisteredToStatic_maskPores_skeleton_checkOne').saveTiffStack(mask_ind_skeleton[::10])"
   ],
   "metadata": {
    "collapsed": false,
    "pycharm": {
     "name": "#%%\n"
    }
   }
  },
  {
   "cell_type": "code",
   "execution_count": 169,
   "outputs": [
    {
     "name": "stdout",
     "output_type": "stream",
     "text": [
      "[   46.04587069+0.j 14693.11571373+0.j 14677.96845309+0.j]\n",
      "[[-0.98008947  0.17573866  0.09241515]\n",
      " [ 0.17831827  0.98376191  0.02037388]\n",
      " [ 0.08733403 -0.03644754  0.9955121 ]]\n",
      "[ 0.17573866+0.j  0.98376191+0.j -0.03644754+0.j]\n",
      "[[4.60458707e+01 4.53970195e-13 5.59552404e-14]\n",
      " [3.33955086e-13 1.46931157e+04 9.92372406e-10]\n",
      " [0.00000000e+00 9.92486093e-10 1.46779685e+04]]\n"
     ]
    }
   ],
   "source": [
    "I = properties[ind_properties_cleaned[ind_pore]].inertia_tensor\n",
    "\n",
    "import scipy.linalg\n",
    "eigen_values, eigen_vectors = scipy.linalg.eig(I)\n",
    "\n",
    "print(eigen_values)\n",
    "print(eigen_vectors)\n",
    "\n",
    "ind = 1\n",
    "\n",
    "print(I.dot(eigen_vectors[:,ind]) / eigen_values[ind])\n",
    "print(eigen_vectors.transpose().dot(I).dot(eigen_vectors))"
   ],
   "metadata": {
    "collapsed": false,
    "pycharm": {
     "name": "#%% Looking at inertia_tensor\n"
    }
   }
  }
 ],
 "metadata": {
  "kernelspec": {
   "display_name": "Python 3",
   "language": "python",
   "name": "python3"
  },
  "language_info": {
   "codemirror_mode": {
    "name": "ipython",
    "version": 2
   },
   "file_extension": ".py",
   "mimetype": "text/x-python",
   "name": "python",
   "nbconvert_exporter": "python",
   "pygments_lexer": "ipython2",
   "version": "2.7.6"
  }
 },
 "nbformat": 4,
 "nbformat_minor": 0
}