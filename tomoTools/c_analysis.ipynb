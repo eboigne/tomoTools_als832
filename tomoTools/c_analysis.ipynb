{
 "cells": [
  {
   "cell_type": "code",
   "execution_count": 1,
   "metadata": {
    "collapsed": true
   },
   "outputs": [],
   "source": [
    "# Clear memory\n",
    "%reset -f"
   ]
  },
  {
   "cell_type": "code",
   "execution_count": 2,
   "outputs": [
    {
     "data": {
      "text/plain": "<IPython.core.display.HTML object>",
      "text/html": "<style>.container { width:90% !important; }</style>"
     },
     "metadata": {},
     "output_type": "display_data"
    },
    {
     "name": "stdout",
     "output_type": "stream",
     "text": [
      "/global/u2/e/eboigne/als_biomass_analysis/tomoTools\n"
     ]
    }
   ],
   "source": [
    "%load_ext autoreload\n",
    "%autoreload 2\n",
    "\n",
    "from IPython.core.display import display, HTML\n",
    "display(HTML(\"<style>.container { width:90% !important; }</style>\"))\n",
    "\n",
    "import ipywidgets\n",
    "ipywidgets.Widget.close_all()\n",
    "\n",
    "import SimpleITK\n",
    "import datetime\n",
    "import gc # Garbage collected\n",
    "import numpy as np\n",
    "import sys, os\n",
    "import time\n",
    "import tifffile\n",
    "import matplotlib.pyplot as plt\n",
    "import scipy\n",
    "from tkinter import Tk\n",
    "from tkinter.filedialog import askopenfilename, askopenfilenames, askdirectory\n",
    "import torch\n",
    "import skimage\n",
    "from skimage import measure\n",
    "from skimage.morphology import skeletonize\n",
    "import pickle\n",
    "import networkx as nx\n",
    "import sknw # https://github.com/Image-Py/sknw\n",
    "\n",
    "import multiprocessing\n",
    "\n",
    "this_path = os.getcwd()\n",
    "print(this_path)\n",
    "\n",
    "\n",
    "import h5py\n",
    "# import File\n",
    "from scripts import *\n",
    "import wrapper_ASTRA"
   ],
   "metadata": {
    "collapsed": false,
    "pycharm": {
     "name": "#%%\n"
    }
   }
  },
  {
   "cell_type": "code",
   "execution_count": 3,
   "outputs": [
    {
     "name": "stdout",
     "output_type": "stream",
     "text": [
      "['01', '02', '03', '04', '05a', '05b', '06a', '06b', '07a', '07b', '08a', '08b', '09a', '09b', '10a', '10b', '11a', '11b', '12a', '12b', '13a', '13b', '14a', '14b', '15a', '15b', '16a', '16b', '17a', '17b', '18a', '18b', '19a', '19b', '20a', '20b', '21a', '21b', '22', '23', '24']\n"
     ]
    }
   ],
   "source": [
    " path_save = '/global/homes/e/eboigne/cfs_als/2022_wood/'\n",
    "\n",
    "case = 'run21_oak_lowHeat'\n",
    "# case = 'run23_walnut_lowHeat'\n",
    "# case = 'run24_birch_lowHeat'\n",
    "# case = 'run26_birch_highHeat'\n",
    "\n",
    "voxel_size = 3.24*2 # [microns]\n",
    "\n",
    "list_cases_folder_name = sorted([e for e in os.listdir(path_save+case) if not 'probe' in e and not '.tif' in e and not '.pickle' in e])\n",
    "run = case[3:5]+'_Sample'\n",
    "list_cases_h5 = sorted([e for e in os.listdir(path_save) if '.h5' in e and run in e])\n",
    "\n",
    "print(list_cases_folder_name)"
   ],
   "metadata": {
    "collapsed": false,
    "pycharm": {
     "name": "#%% WHich case to look at?\n"
    }
   }
  },
  {
   "cell_type": "code",
   "execution_count": null,
   "outputs": [],
   "source": [
    "ind_slice = 250\n",
    "\n",
    "slices = []\n",
    "for ind_case, this_case in enumerate(list_cases_folder_name[:]):\n",
    "    slices.append(File(path_save+case+'/'+this_case+'/b_movingRegisteredToStatic/').read(ind_slice))\n",
    "    print(ind_case, this_case)\n",
    "\n",
    "slices = np.array(slices)\n",
    "print(slices.shape)\n",
    "File(path_save+case+'/probe_slice_'+str(ind_slice).zfill(4)).saveTiffStack(slices)"
   ],
   "metadata": {
    "collapsed": false,
    "pycharm": {
     "name": "#%% Probe one slice\n"
    }
   }
  },
  {
   "cell_type": "code",
   "execution_count": 4,
   "outputs": [
    {
     "name": "stdout",
     "output_type": "stream",
     "text": [
      "1 (0, '01') c 36265.0\n",
      "2 (1, '02') c 36575.0\n",
      "3 (2, '03') c 36886.0\n",
      "4 (3, '04') c 37585.0\n",
      "6 (4, '05') a/b 37767.0 37793.26\n",
      "8 (5, '06') a/b 37949.0 37975.26\n",
      "10 (6, '07') a/b 38132.0 38158.26\n",
      "12 (7, '08') a/b 38312.0 38338.26\n",
      "14 (8, '09') a/b 38503.0 38529.26\n",
      "16 (9, '10') a/b 38694.0 38720.26\n",
      "18 (10, '11') a/b 38882.0 38908.26\n",
      "20 (11, '12') a/b 39072.0 39098.26\n",
      "22 (12, '13') a/b 39260.0 39286.26\n",
      "24 (13, '14') a/b 39443.0 39469.26\n",
      "26 (14, '15') a/b 39621.0 39647.26\n",
      "28 (15, '16') a/b 39805.0 39831.26\n",
      "30 (16, '17') a/b 39985.0 40011.26\n",
      "32 (17, '18') a/b 40166.0 40192.26\n",
      "34 (18, '19') a/b 40346.0 40372.26\n",
      "36 (19, '20') a/b 40544.0 40570.26\n",
      "38 (20, '21') a/b 40725.0 40751.26\n",
      "39 (21, '22') c 40914.0\n",
      "40 (22, '23') c 41225.0\n",
      "41 (23, '24') c 41534.0\n"
     ]
    }
   ],
   "source": [
    "c = []\n",
    "for this_case in enumerate(list_cases_h5):\n",
    "    c.append(this_case[1][35:37])\n",
    "\n",
    "t = []\n",
    "\n",
    "list_scans = []\n",
    "\n",
    "for this_case in enumerate(c):\n",
    "    if str(this_case[1]) in list_cases_folder_name or '-post' in [e for e in list_cases_folder_name if this_case[1] in e][0]:\n",
    "        cc = list_cases_h5[this_case[0]][9:15]\n",
    "        h = cc[0:2]\n",
    "        m = cc[2:4]\n",
    "        s = cc[4:]\n",
    "        ts = float(int(h)*3600+int(m)*60+int(s))\n",
    "        t.append(ts) #c\n",
    "        print(len(t), this_case, 'c', ts)\n",
    "    else:\n",
    "        cc = list_cases_h5[this_case[0]][9:15]\n",
    "        h = cc[0:2]\n",
    "        m = cc[2:4]\n",
    "        s = cc[4:]\n",
    "        ts0 = float(int(h)*3600+int(m)*60+int(s))\n",
    "        t.append(ts0) #a\n",
    "        ts1 = 26.26 + ts0\n",
    "        t.append(ts1) #b\n",
    "        print(len(t), this_case, 'a/b', ts0 ,ts1)\n",
    "\n",
    "scan_times = np.array(t) - t[0]\n",
    "\n",
    "\n",
    "for ind_scan,scan_time in enumerate(scan_times):\n",
    "    this_scan = Data()\n",
    "    # print(ind_scan)\n",
    "    this_scan.scan_time = scan_time\n",
    "    this_scan.folder_name = list_cases_folder_name[ind_scan]\n",
    "    this_scan.full_path = path_save+case+'/'+this_scan.folder_name\n",
    "    this_scan.ind = ind_scan\n",
    "    list_scans.append(this_scan)\n",
    "\n",
    "assert(len(list_cases_folder_name) ==len(scan_times)), 'Wrong sizes'"
   ],
   "metadata": {
    "collapsed": false,
    "pycharm": {
     "name": "#%% Setup times and scan list\n"
    }
   }
  },
  {
   "cell_type": "code",
   "execution_count": 5,
   "outputs": [
    {
     "name": "stdout",
     "output_type": "stream",
     "text": [
      "['01', '02', '03', '04', '05a', '05b', '06a', '06b', '07a', '07b', '08a', '08b', '09a', '09b', '10a', '10b', '11a', '11b', '12a', '12b', '13a', '13b', '14a', '14b', '15a', '15b', '16a', '16b', '17a', '17b', '18a', '18b', '19a', '19b', '20a', '20b', '21a', '21b', '22', '23', '24']\n"
     ]
    }
   ],
   "source": [
    "print(list_cases_folder_name)"
   ],
   "metadata": {
    "collapsed": false,
    "pycharm": {
     "name": "#%%\n"
    }
   }
  },
  {
   "cell_type": "code",
   "execution_count": 6,
   "outputs": [],
   "source": [
    "def compute_height(properties):\n",
    "    for prop in properties:\n",
    "        bbox = prop.bbox\n",
    "        prop.height = bbox[3]-bbox[0] # Along z, in pixels\n",
    "    return(properties)\n",
    "\n",
    "def compute_equivalent_cylinder_diameters(properties):\n",
    "    for prop in properties:\n",
    "        equivalent_cylinder_cross_section = prop.area / prop.height\n",
    "        prop.equivalent_cylinder_diameter = np.sqrt(4*equivalent_cylinder_cross_section/np.pi) * voxel_size\n",
    "    return(properties)\n",
    "\n",
    "def get_path_length(graph, path):\n",
    "    this_sum=0\n",
    "    for i in range(len(path)-1):\n",
    "        this_sum += graph.get_edge_data(path[i], path[i+1])['weight']\n",
    "    return(this_sum)\n",
    "\n",
    "def longest_simple_path(graph, source, target):\n",
    "    longest_path = None\n",
    "    longest_path_length = 0\n",
    "    for path in nx.all_simple_paths(graph, source=source, target=target):\n",
    "        path_length = get_path_length(graph,path)\n",
    "        if path_length > longest_path_length:\n",
    "            longest_path_length = path_length\n",
    "            longest_path = path\n",
    "    return longest_path, longest_path_length\n",
    "\n",
    "def find_longest_subgraph_from_ends(graph, height):\n",
    "\n",
    "    ind_end_nodes = [x for x in graph.nodes if graph.degree(x) == 1]\n",
    "    ind_end_bottom = [x for x in ind_end_nodes if graph.nodes[x]['o'][0] <= height/2.0]\n",
    "    ind_end_top = [x for x in ind_end_nodes if not x in ind_end_bottom]\n",
    "\n",
    "    longest_path_subgraph = None\n",
    "    longest_path_length = 0\n",
    "    longest_path = []\n",
    "    for ind_bot in ind_end_bottom:\n",
    "        for ind_top in ind_end_top:\n",
    "            this_longest_path, this_longest_path_length = longest_simple_path(graph, source=ind_bot, target=ind_top)\n",
    "            this_longest_path_subgraph = graph.subgraph(this_longest_path)\n",
    "\n",
    "            if this_longest_path_length > longest_path_length:\n",
    "                longest_path_length = this_longest_path_length\n",
    "                longest_path = this_longest_path\n",
    "                longest_path_subgraph = this_longest_path_subgraph\n",
    "\n",
    "    return(longest_path_subgraph, longest_path, longest_path_length)\n",
    "\n",
    "def compute_tortuosity(skeleton_properties):\n",
    "\n",
    "    for ind_pore in range(len(skeleton_properties)):\n",
    "\n",
    "        graph = sknw.build_sknw(skeleton_properties[ind_pore].image, multi=False, iso=False, ring=False, full=True)\n",
    "        longest_path_subgraph, longest_path, longest_path_length = find_longest_subgraph_from_ends(graph, skeleton_properties[ind_pore].height)\n",
    "\n",
    "        if longest_path_length == 0:\n",
    "            longest_path_length = np.nan\n",
    "\n",
    "        skeleton_properties[ind_pore].length_skeleton = longest_path_length\n",
    "        skeleton_properties[ind_pore].longest_path = longest_path\n",
    "        # skeleton_properties[ind_pore].longest_path_subgraph = longest_path_subgraph\n",
    "        skeleton_properties[ind_pore].tortuosity = longest_path_length / skeleton_properties[ind_pore].height\n",
    "\n",
    "        # print(ind_pore, longest_path_length, skeleton_properties[ind_pore].tortuosity)\n",
    "\n",
    "        # print(len(np.array([graph.degree(x) > 2 for x in graph.nodes])), skeleton_properties[ind_pore].tortuosity)\n",
    "        # File(path_save+'/runAll_figures/test/'+str(ind_pore).zfill(4)).saveTiffStack(~(skeleton_properties[ind_pore].image.astype('bool')), type='bool')\n",
    "\n",
    "    return(skeleton_properties)\n",
    "\n",
    "def compute_skeleton(this_scan, mask_pores, force_redo = False):\n",
    "\n",
    "    if force_redo or not 'b_movingRegisteredToStatic_maskPores_skeleton' in os.listdir(this_scan.full_path):\n",
    "        skeleton = skeletonize(mask_pores)\n",
    "        File(this_scan.full_path+'/b_movingRegisteredToStatic_maskPores_skeleton').saveTiffStack(skeleton, type = 'bool')\n",
    "    else:\n",
    "        print('\\tRe-loading skeleton')\n",
    "        skeleton = File(this_scan.full_path+'/b_movingRegisteredToStatic_maskPores_skeleton').readAll()\n",
    "    return(skeleton)\n",
    "\n",
    "def find_top_bottom_slices_ind(this_scan, mask_solid, ind_all_top, ind_all_bottom):\n",
    "\n",
    "    this_scan.ind_all_margin = 100\n",
    "    this_scan.ind_margin = 30\n",
    "    this_scan.relative_porosity_threshold = 0.15\n",
    "\n",
    "    mask_solid_slice_sum = np.sum(np.sum(mask_solid, axis = 2), axis = 1)\n",
    "    mean_area_ind_all = np.mean(mask_solid_slice_sum[ind_all_top+this_scan.ind_all_margin:ind_all_bottom-this_scan.ind_all_margin])\n",
    "\n",
    "    this_scan.relative_porosity = np.abs(mean_area_ind_all-mask_solid_slice_sum)/mean_area_ind_all\n",
    "\n",
    "    this_scan.ind_top = np.min(np.where(this_scan.relative_porosity<this_scan.relative_porosity_threshold)) + this_scan.ind_margin\n",
    "    this_scan.ind_bottom = np.max(np.where(this_scan.relative_porosity<this_scan.relative_porosity_threshold)) - this_scan.ind_margin\n",
    "\n",
    "    this_scan.height_ROI = this_scan.ind_bottom-this_scan.ind_top + 1\n",
    "\n",
    "    print('\\t\\tDetected ROI:\\tind_top: '+str(this_scan.ind_top)+', ind_bottom: '+str(this_scan.ind_bottom)+', height: '+str(this_scan.height_ROI))\n",
    "    if (this_scan.height_ROI < 200):\n",
    "        print('\\t\\t\\t\\t/!\\ WARNING: small height of ROI detected: check the cropping of mask solid')\n",
    "\n",
    "    return(this_scan)\n",
    "\n",
    "def mask_crop_ROI(mask, ind_top, ind_bottom):\n",
    "    mask[:ind_top] = False\n",
    "    mask[ind_bottom:] = False\n",
    "    return(mask)\n",
    "\n",
    "def close_mask_solid(this_scan, mask_solid, mask_needle, force_redo = False):\n",
    "\n",
    "    if force_redo or not 'b_movingRegisteredToStatic_maskSolidClosed' in os.listdir(this_scan.full_path):\n",
    "\n",
    "        # Option #1: Morphological closing to close the pores\n",
    "        # chunk_size = (500, 500, 500)\n",
    "        # filter_half_width = 12\n",
    "        # structure = custom_3d_kernel_sphere(filter_half_width)\n",
    "        # mask_solid_dilated = apply_3d_image_processing_on_subvolumes(mask_solid, fast_pytorch_mask_dilation, chunk_size_max = chunk_size, overlap = filter_half_width, radius = filter_half_width)\n",
    "        # mask_solid_closed = ~apply_3d_image_processing_on_subvolumes(~mask_solid_dilated, fast_pytorch_mask_dilation, chunk_size_max = chunk_size, overlap = filter_half_width, radius = filter_half_width)\n",
    "\n",
    "        # Option #2: Fill holes algorithm run slice by slice\n",
    "        n_threads = 16\n",
    "        mask_solid_closed = np.zeros_like(mask_solid)\n",
    "        with multiprocessing.Pool(n_threads) as p:\n",
    "            mask_solid_closed = np.array(p.map(scipy.ndimage.morphology.binary_fill_holes, mask_solid))\n",
    "\n",
    "        # 1 core version of option #2\n",
    "        # for ind, slice in enumerate(mask_solid):\n",
    "        #     mask_solid_closed[ind] = scipy.ndimage.morphology.binary_fill_holes(slice)\n",
    "        #     print(ind)\n",
    "\n",
    "        mask_solid_closed[mask_needle] = False\n",
    "        File(this_scan.full_path+'/b_movingRegisteredToStatic_maskSolidClosed').saveTiffStack(mask_solid_closed, type = 'bool')\n",
    "    else:\n",
    "        print('\\tRe-loading mask solid closed')\n",
    "        mask_solid_closed = File(this_scan.full_path+'/b_movingRegisteredToStatic_maskSolidClosed').readAll()\n",
    "\n",
    "    return(mask_solid_closed.astype('bool'))\n",
    "\n",
    "def rotate_data(data, rot_coronal_Fiji, rot_sagittal_Fiji, rot_z_Fiji = 0.0):\n",
    "    pad = 1\n",
    "    transform_rotation = sitk.Euler3DTransform()\n",
    "    center_xyz = (data.shape[0] / 2.0+pad, data.shape[1] / 2.0+pad, data.shape[2] / 2.0+pad) # TODO: Is this correct? Not consistent with below\n",
    "    center_angle = 0.0\n",
    "    offsets_xyz = (0.0, 0.0, 0.0)\n",
    "\n",
    "    transform_rotation.SetFixedParameters((center_xyz[0], center_xyz[1], center_xyz[2], center_angle))\n",
    "    eulerAngle_xyz_deg = (-rot_sagittal_Fiji, rot_coronal_Fiji, 0.0)\n",
    "    transform_rotation.SetParameters((eulerAngle_xyz_deg[0]/180.0*np.pi, eulerAngle_xyz_deg[1]/180.0*np.pi, eulerAngle_xyz_deg[2]/180.0*np.pi, offsets_xyz[0], offsets_xyz[1], offsets_xyz[2]))\n",
    "\n",
    "    data_bigger = np.zeros([data.shape[0]+pad*2, data.shape[1]+pad*2, data.shape[2]+pad*2])\n",
    "    data_bigger[pad:-pad, pad:-pad, pad:-pad] = data\n",
    "    data_out = applyTransformToVolume(data_bigger, data_bigger, transform_rotation)\n",
    "\n",
    "    # Then only axial rotation. Can't do all axis at once to match Fiji\n",
    "    if rot_z_Fiji != 0:\n",
    "        center_xyz = (data_out.shape[2] / 2.0, data_out.shape[1] / 2.0, data_out.shape[0] / 2.0)\n",
    "        transform_rotation.SetFixedParameters((center_xyz[0], center_xyz[1], center_xyz[2], center_angle))\n",
    "        eulerAngle_xyz_deg = (0.0, 0.0, -rot_z_Fiji)\n",
    "        offsets_xyz2 = (0.0, -50.0, 0.0)\n",
    "        transform_rotation.SetParameters((eulerAngle_xyz_deg[0]/180.0*np.pi, eulerAngle_xyz_deg[1]/180.0*np.pi, eulerAngle_xyz_deg[2]/180.0*np.pi, offsets_xyz2[0], offsets_xyz2[1], offsets_xyz2[2]))\n",
    "        data_out2 = applyTransformToVolume(data_out, data_out, transform_rotation)\n",
    "    else:\n",
    "        data_out2 = data_out\n",
    "\n",
    "    return(data_out2[pad:-pad, pad:-pad, pad:-pad])\n",
    "\n",
    "def analyze_pores_2d(this_scan, mask_pores):\n",
    "    tic = time.time()\n",
    "\n",
    "    this_scan.slice_angles_to_growth = []\n",
    "    this_scan.slice_ellipse_major_diameters = []\n",
    "    this_scan.slice_ellipse_minor_diameters = []\n",
    "    this_scan.slice_ellipse_eccentricity = []\n",
    "    this_scan.slice_areas = []\n",
    "    this_scan.slice_eq_diameters = []\n",
    "    this_scan.slice_perimeters = []\n",
    "\n",
    "    for ind, slice in enumerate(mask_pores):\n",
    "        slice_lab = measure.label(slice)\n",
    "        slice_properties = np.array(measure.regionprops(slice_lab))\n",
    "\n",
    "         # Angle w.r.t vertical (growth axis), with positive being CCW, in degrees, from -90 to 90\n",
    "        angles = 180 / np.pi * np.array([p.orientation for p in slice_properties]) # From -90 to 90\n",
    "        # angles[angles<0] = 180+angles[angles<0]\n",
    "        this_scan.slice_angles_to_growth.append(angles)\n",
    "\n",
    "        this_scan.slice_ellipse_major_diameters.append(np.array([p.axis_major_length for p in slice_properties]))\n",
    "        this_scan.slice_ellipse_minor_diameters.append(np.array([p.axis_minor_length for p in slice_properties]))\n",
    "        this_scan.slice_ellipse_eccentricity.append(np.array([p.eccentricity for p in slice_properties]))\n",
    "        this_scan.slice_eq_diameters.append(np.array([p.equivalent_diameter_area for p in slice_properties]))\n",
    "        this_scan.slice_perimeters.append(np.array([p.perimeter for p in slice_properties]))\n",
    "        this_scan.slice_areas.append(np.array([p.area for p in slice_properties]))\n",
    "\n",
    "        if ind % 100 == 0:\n",
    "            print('.', end='')\n",
    "\n",
    "    return(this_scan)\n",
    "\n",
    "def mean_attenuation_volume(this_scan, mask_to_use, data):\n",
    "    mu_s = np.nanmean(data[mask_to_use])\n",
    "    V_s = np.nansum(mask_to_use.flatten())\n",
    "    V_s_m = np.nansum(mask_to_use.flatten())*(voxel_size*10**-6)**3 #[m3]\n",
    "    return(mu_s,V_s, V_s_m)\n",
    "\n",
    "def cleanup_keep_single_particle(mask_solid):\n",
    "\n",
    "    # Morphological opening to separate sample from artifact regions\n",
    "    chunk_size = (500, 500, 500)\n",
    "    filter_half_width = 7\n",
    "    structure = custom_3d_kernel_sphere(filter_half_width)\n",
    "    mask_solid_eroded = ~apply_3d_image_processing_on_subvolumes(~mask_solid, fast_pytorch_mask_dilation, chunk_size_max = chunk_size, overlap = filter_half_width, radius = filter_half_width)\n",
    "    mask_solid_opened = apply_3d_image_processing_on_subvolumes(mask_solid_eroded, fast_pytorch_mask_dilation, chunk_size_max = chunk_size, overlap = filter_half_width, radius = filter_half_width)\n",
    "\n",
    "    # Isolate largest connected particle\n",
    "    lab = measure.label(mask_solid_opened)\n",
    "    properties = np.array(measure.regionprops(lab))\n",
    "    areas = np.array([e.area for e in properties])\n",
    "    ind_max_area = np.argmax(areas)\n",
    "    mask_out = lab == properties[ind_max_area].label\n",
    "\n",
    "    return(mask_out)\n",
    "\n",
    "def compute_mask_solid(this_scan, data, threshold, force_redo = False):\n",
    "\n",
    "    if force_redo or not 'b_movingRegisteredToStatic_maskSolid' in os.listdir(this_scan.full_path):\n",
    "\n",
    "        threshold_needle = 4.0 # Linear attenuation threshold [/cm]\n",
    "        mask_growth_needle = 10 # Grow the mask obtained using threshold_needle with this amount of pixels\n",
    "        mask_enclosing_circle = tifffile.imread(path_save+case+'/maskEnclosingCircle.tif') > 0\n",
    "        bin_factor_dilatation = 1 # Binning before smoothing, as an option to speed things up for large kernels\n",
    "        filter_half_width = 3 # After binning (equal to sigma for gaussian filter)\n",
    "\n",
    "        kernel = custom_3d_gaussian_filter(filter_half_width)\n",
    "\n",
    "        if bin_factor_dilatation > 1:\n",
    "            data_smoothed = fast_pytorch_bin_3d(data,bin_factor_dilatation, chunk_size = 71)\n",
    "        else:\n",
    "            data_smoothed = data\n",
    "\n",
    "        print('\\t3D smoothing for thresholding of mask_solid and mask_needle:')\n",
    "        data_smoothed = apply_3d_image_processing_on_subvolumes(data_smoothed, fast_pytorch_convolution, kernel_array = kernel, chunk_size_max = (500, 500, 500), overlap = 3*filter_half_width)\n",
    "\n",
    "        if bin_factor_dilatation > 1:\n",
    "            data_smoothed = skimage.transform.rescale(data_smoothed, bin_factor_dilatation, multichannel=False)\n",
    "\n",
    "        File(this_scan.full_path+'/b_movingRegisteredToStatic_smoothed').saveTiffStack(data_smoothed)\n",
    "\n",
    "        mask_needle = data_smoothed > threshold_needle\n",
    "        mask_needle = apply_3d_image_processing_on_subvolumes(mask_needle, fast_pytorch_mask_dilation, chunk_size_max = (500, 500, 500), overlap = mask_growth_needle, radius = mask_growth_needle)\n",
    "\n",
    "        mask_solid = data_smoothed > threshold\n",
    "        mask_solid[mask_needle] = False\n",
    "\n",
    "        for ind, slice in enumerate(mask_solid):\n",
    "            slice[~mask_enclosing_circle] = False\n",
    "            mask_solid[ind] = slice\n",
    "\n",
    "        # Computing top and bottom indices for a ROI within the solid\n",
    "        this_scan = find_top_bottom_slices_ind(this_scan, mask_solid, this_scan.ind_all_top, this_scan.ind_all_bottom)\n",
    "\n",
    "        # Close mask_solid, using 2D fill holes algorithm slice by slice\n",
    "        print('\\tClosing mask solid')\n",
    "        mask_solid_closed = close_mask_solid(this_scan, mask_solid, mask_needle, force_redo = force_redo)\n",
    "\n",
    "        # Clean up mask_solid_closed and mask_solid to keep single large particle region, and remove artifacts above and below sample\n",
    "        print('\\tCleaning up mask solid (3D opening), isolating largest particle')\n",
    "        mask_solid_closed = cleanup_keep_single_particle(mask_solid_closed)\n",
    "        mask_solid_closed = mask_crop_ROI(mask_solid_closed, this_scan.ind_top-this_scan.ind_margin-20, this_scan.ind_bottom+this_scan.ind_margin+20)\n",
    "        mask_solid = mask_solid * mask_solid_closed\n",
    "\n",
    "        print('\\tSaving mask_solid and mask_solid_closed:')\n",
    "        File(this_scan.full_path+'/b_movingRegisteredToStatic_maskSolid').saveTiffStack(mask_solid, type = 'bool')\n",
    "        File(this_scan.full_path+'/b_movingRegisteredToStatic_maskSolidClosed').saveTiffStack(mask_solid_closed, type = 'bool')\n",
    "        # File(this_scan.full_path+'/b_movingRegisteredToStatic_maskNeedle').saveTiffStack(mask_needle, type = 'bool')\n",
    "\n",
    "    else:\n",
    "        print('\\tRe-loading mask_solid and mask_solid_closed')\n",
    "        mask_solid = File(this_scan.full_path+'/b_movingRegisteredToStatic_maskSolid').readAll()\n",
    "        mask_solid_closed = File(this_scan.full_path+'/b_movingRegisteredToStatic_maskSolidClosed').readAll()\n",
    "        # mask_needle = File(this_scan.full_path+'/b_movingRegisteredToStatic_maskNeedle').readAll()\n",
    "\n",
    "    return(this_scan, mask_solid.astype('bool'), mask_solid_closed.astype('bool'))\n"
   ],
   "metadata": {
    "collapsed": false,
    "pycharm": {
     "name": "#%% Function to compute mask_solid\n"
    }
   }
  },
  {
   "cell_type": "code",
   "execution_count": 7,
   "outputs": [
    {
     "name": "stdout",
     "output_type": "stream",
     "text": [
      "0.0727946661165659\n"
     ]
    },
    {
     "data": {
      "text/plain": "<Figure size 432x288 with 1 Axes>",
      "image/png": "[encoded data removed]"
     },
     "metadata": {
      "needs_background": "light"
     },
     "output_type": "display_data"
    }
   ],
   "source": [
    "# Rotation\n",
    "rot_coronal_Fiji = 1.0 # [Deg]\n",
    "rot_sagittal_Fiji = -1.0 # [Deg]\n",
    "rot_z_Fiji = 43.0 # [Deg] This angle: such that tree growth is vertical from bottom to top in Fiji, after sagittal / coronal rotation\n",
    "\n",
    "# Top and bottom indices along z that contain sample for all scans (after rotation /!\\)\n",
    "ind_all_top = 125\n",
    "ind_all_bottom = 510\n",
    "\n",
    "threshold = 0.10 # Linear attenuation threshold [/cm], gas to wood\n",
    "\n",
    "mean_mu_values = np.load(path_save+'/threshold_attenuation_values/run21.npy')\n",
    "plt.plot(mean_mu_values,'x-')\n",
    "plt.ylim(0,0.25)\n",
    "print(threshold * mean_mu_values[-1]/mean_mu_values[0])"
   ],
   "metadata": {
    "collapsed": false,
    "pycharm": {
     "name": "#%% Parameters - Run 21 (Oak, low heat)\n"
    }
   }
  },
  {
   "cell_type": "code",
   "execution_count": 7,
   "outputs": [],
   "source": [
    "# Rotation\n",
    "rot_coronal_Fiji = -1.4 # [Deg]\n",
    "rot_sagittal_Fiji = -5.0 # [Deg]\n",
    "rot_z_Fiji = -169.0 # [Deg] This angle: such that tree growth is vertical from bottom to top in Fiji, after sagittal / coronal rotation\n",
    "\n",
    "# Top and bottom indices along z that contain sample for all scans (after rotation /!\\)\n",
    "ind_all_top = 140\n",
    "ind_all_bottom = 470\n",
    "\n",
    "threshold = 0.065 # Linear attenuation threshold [/cm], gas to wood"
   ],
   "metadata": {
    "collapsed": false,
    "pycharm": {
     "name": "#%% Parameters - Run 23 (Walnut, low heat)\n"
    }
   }
  },
  {
   "cell_type": "code",
   "execution_count": 7,
   "outputs": [],
   "source": [
    "# Rotation\n",
    "rot_coronal_Fiji = -1.0 # [Deg]\n",
    "rot_sagittal_Fiji = -5.0 # [Deg]\n",
    "rot_z_Fiji = -91.5 # [Deg] This angle: such that tree growth is vertical from bottom to top in Fiji, after sagittal / coronal rotation\n",
    "\n",
    "# Top and bottom indices along z that contain sample for all scans (after rotation /!\\)\n",
    "ind_all_top = 130\n",
    "ind_all_bottom = 465\n",
    "\n",
    "threshold = 0.05 # Linear attenuation threshold [/cm], gas to wood"
   ],
   "metadata": {
    "collapsed": false,
    "pycharm": {
     "name": "#%% Parameters - Run 24 (Birch, low heat)\n"
    }
   }
  },
  {
   "cell_type": "code",
   "execution_count": 150,
   "outputs": [],
   "source": [
    "# Rotation\n",
    "rot_coronal_Fiji = -0.2 # [Deg]\n",
    "rot_sagittal_Fiji = 0.5 # [Deg]\n",
    "rot_z_Fiji = 40.0 # [Deg] This angle: such that tree growth is vertical from bottom to top in Fiji, after sagittal / coronal rotation\n",
    "\n",
    "# Top and bottom indices along z that contain sample for all scans (after rotation /!\\)\n",
    "ind_all_top = 170\n",
    "ind_all_bottom = 480\n",
    "\n",
    "threshold = 0.05 # Linear attenuation threshold [/cm], gas to wood\n"
   ],
   "metadata": {
    "collapsed": false,
    "pycharm": {
     "name": "#%% Parameters - Run 26 (Birch, high heat)\n"
    }
   }
  },
  {
   "cell_type": "code",
   "execution_count": 8,
   "outputs": [
    {
     "name": "stdout",
     "output_type": "stream",
     "text": [
      "Running scan #35 - 20a\n",
      "[<scripts.Data object at 0x15547c5d6350>, <scripts.Data object at 0x15547b114450>, <scripts.Data object at 0x155479d24e90>, <scripts.Data object at 0x155478970d50>, <scripts.Data object at 0x15547763c7d0>]\n"
     ]
    },
    {
     "ename": "RuntimeError",
     "evalue": "No CUDA GPUs are available",
     "output_type": "error",
     "traceback": [
      "\u001B[0;31m---------------------------------------------------------------------------\u001B[0m",
      "\u001B[0;31mRuntimeError\u001B[0m                              Traceback (most recent call last)",
      "\u001B[0;32m/tmp/ipykernel_47094/2304126713.py\u001B[0m in \u001B[0;36m<module>\u001B[0;34m\u001B[0m\n\u001B[1;32m      9\u001B[0m \u001B[0mprint\u001B[0m\u001B[0;34m(\u001B[0m\u001B[0mlist_scans\u001B[0m\u001B[0;34m[\u001B[0m\u001B[0;34m:\u001B[0m\u001B[0;34m:\u001B[0m\u001B[0;36m10\u001B[0m\u001B[0;34m]\u001B[0m\u001B[0;34m)\u001B[0m\u001B[0;34m\u001B[0m\u001B[0;34m\u001B[0m\u001B[0m\n\u001B[1;32m     10\u001B[0m \u001B[0;34m\u001B[0m\u001B[0m\n\u001B[0;32m---> 11\u001B[0;31m \u001B[0mtorch\u001B[0m\u001B[0;34m.\u001B[0m\u001B[0mcuda\u001B[0m\u001B[0;34m.\u001B[0m\u001B[0mset_device\u001B[0m\u001B[0;34m(\u001B[0m\u001B[0;36m0\u001B[0m\u001B[0;34m)\u001B[0m\u001B[0;34m\u001B[0m\u001B[0;34m\u001B[0m\u001B[0m\n\u001B[0m\u001B[1;32m     12\u001B[0m \u001B[0mprint\u001B[0m\u001B[0;34m(\u001B[0m\u001B[0mtorch\u001B[0m\u001B[0;34m.\u001B[0m\u001B[0mcuda\u001B[0m\u001B[0;34m.\u001B[0m\u001B[0mcurrent_device\u001B[0m\u001B[0;34m(\u001B[0m\u001B[0;34m)\u001B[0m\u001B[0;34m)\u001B[0m\u001B[0;34m\u001B[0m\u001B[0;34m\u001B[0m\u001B[0m\n\u001B[1;32m     13\u001B[0m \u001B[0;34m\u001B[0m\u001B[0m\n",
      "\u001B[0;32m~/local/miniconda3/envs/als/lib/python3.7/site-packages/torch/cuda/__init__.py\u001B[0m in \u001B[0;36mset_device\u001B[0;34m(device)\u001B[0m\n\u001B[1;32m    312\u001B[0m     \u001B[0mdevice\u001B[0m \u001B[0;34m=\u001B[0m \u001B[0m_get_device_index\u001B[0m\u001B[0;34m(\u001B[0m\u001B[0mdevice\u001B[0m\u001B[0;34m)\u001B[0m\u001B[0;34m\u001B[0m\u001B[0;34m\u001B[0m\u001B[0m\n\u001B[1;32m    313\u001B[0m     \u001B[0;32mif\u001B[0m \u001B[0mdevice\u001B[0m \u001B[0;34m>=\u001B[0m \u001B[0;36m0\u001B[0m\u001B[0;34m:\u001B[0m\u001B[0;34m\u001B[0m\u001B[0;34m\u001B[0m\u001B[0m\n\u001B[0;32m--> 314\u001B[0;31m         \u001B[0mtorch\u001B[0m\u001B[0;34m.\u001B[0m\u001B[0m_C\u001B[0m\u001B[0;34m.\u001B[0m\u001B[0m_cuda_setDevice\u001B[0m\u001B[0;34m(\u001B[0m\u001B[0mdevice\u001B[0m\u001B[0;34m)\u001B[0m\u001B[0;34m\u001B[0m\u001B[0;34m\u001B[0m\u001B[0m\n\u001B[0m\u001B[1;32m    315\u001B[0m \u001B[0;34m\u001B[0m\u001B[0m\n\u001B[1;32m    316\u001B[0m \u001B[0;34m\u001B[0m\u001B[0m\n",
      "\u001B[0;32m~/local/miniconda3/envs/als/lib/python3.7/site-packages/torch/cuda/__init__.py\u001B[0m in \u001B[0;36m_lazy_init\u001B[0;34m()\u001B[0m\n\u001B[1;32m    215\u001B[0m         \u001B[0;31m# This function throws if there's a driver initialization error, no GPUs\u001B[0m\u001B[0;34m\u001B[0m\u001B[0;34m\u001B[0m\u001B[0;34m\u001B[0m\u001B[0m\n\u001B[1;32m    216\u001B[0m         \u001B[0;31m# are found or any other error occurs\u001B[0m\u001B[0;34m\u001B[0m\u001B[0;34m\u001B[0m\u001B[0;34m\u001B[0m\u001B[0m\n\u001B[0;32m--> 217\u001B[0;31m         \u001B[0mtorch\u001B[0m\u001B[0;34m.\u001B[0m\u001B[0m_C\u001B[0m\u001B[0;34m.\u001B[0m\u001B[0m_cuda_init\u001B[0m\u001B[0;34m(\u001B[0m\u001B[0;34m)\u001B[0m\u001B[0;34m\u001B[0m\u001B[0;34m\u001B[0m\u001B[0m\n\u001B[0m\u001B[1;32m    218\u001B[0m         \u001B[0;31m# Some of the queued calls may reentrantly call _lazy_init();\u001B[0m\u001B[0;34m\u001B[0m\u001B[0;34m\u001B[0m\u001B[0;34m\u001B[0m\u001B[0m\n\u001B[1;32m    219\u001B[0m         \u001B[0;31m# we need to just return without initializing in that case.\u001B[0m\u001B[0;34m\u001B[0m\u001B[0;34m\u001B[0m\u001B[0;34m\u001B[0m\u001B[0m\n",
      "\u001B[0;31mRuntimeError\u001B[0m: No CUDA GPUs are available"
     ]
    }
   ],
   "source": [
    "ind_scan = 34\n",
    "this_scan = list_scans[ind_scan]\n",
    "print('Running scan #'+str(ind_scan+1)+' - '+this_scan.folder_name)\n",
    "\n",
    "# Re-load scan data\n",
    "with open(path_save+case+'/post_pro_data.pickle', 'rb') as handle:\n",
    "    list_scans = pickle.load(handle)\n",
    "\n",
    "torch.cuda.set_device(0)\n",
    "print(torch.cuda.current_device())"
   ],
   "metadata": {
    "collapsed": false,
    "pycharm": {
     "name": "#%% Check list\n"
    }
   }
  },
  {
   "cell_type": "code",
   "execution_count": null,
   "outputs": [
    {
     "name": "stdout",
     "output_type": "stream",
     "text": [
      "Running scan #1/41 - 01\n",
      "\tLoading data took: 50.084940910339355\n",
      "\tRotating data took: 75.2174482345581\n",
      "\t3D smoothing for thresholding of mask_solid and mask_needle:\n",
      "\t Processing 18 chunks of size [349 426 426] "
     ]
    }
   ],
   "source": [
    "##%% Main loop: run over all scans\n",
    "\n",
    "# Re-load scan data\n",
    "with open(path_save+case+'/post_pro_data.pickle', 'rb') as handle:\n",
    "    list_scans = pickle.load(handle)\n",
    "\n",
    "nb_scans = len(list_scans)\n",
    "force_redo = True\n",
    "threshold_list = threshold * mean_mu_values/mean_mu_values[0]\n",
    "\n",
    "for ind_scan,this_scan in enumerate(list_scans[::38]):\n",
    "    tic_scan = time.time()\n",
    "\n",
    "    print('Running scan #'+str(ind_scan+1)+'/'+str(nb_scans)+' - '+this_scan.folder_name)\n",
    "\n",
    "    # Loading data\n",
    "    tic = time.time()\n",
    "    data = File(path_save+case+'/'+this_scan.folder_name+'/b_movingRegisteredToStatic/').readAll()\n",
    "    print('\\tLoading data took: '+str(time.time()-tic))\n",
    "\n",
    "    # Rotating data\n",
    "    tic = time.time()\n",
    "    data = rotate_data(data, rot_coronal_Fiji, rot_sagittal_Fiji, rot_z_Fiji)\n",
    "    print('\\tRotating data took: '+str(time.time()-tic))\n",
    "    File(path_save+case+'/'+this_scan.folder_name+'/b_movingRegisteredToStatic_rotatedZ/').saveTiff(data[data.shape[0]//2-100,:,:], ind=0)\n",
    "    File(path_save+case+'/'+this_scan.folder_name+'/b_movingRegisteredToStatic_rotatedZ/').saveTiff(data[data.shape[0]//2,:,:], ind=1)\n",
    "    File(path_save+case+'/'+this_scan.folder_name+'/b_movingRegisteredToStatic_rotatedZ/').saveTiff(data[data.shape[0]//2+100,:,:], ind=2)\n",
    "    File(path_save+case+'/'+this_scan.folder_name+'/b_movingRegisteredToStatic_rotatedXY/').saveTiff(data[:,data.shape[1]//2,:], ind=0)\n",
    "    File(path_save+case+'/'+this_scan.folder_name+'/b_movingRegisteredToStatic_rotatedXY/').saveTiff(data[:,:,data.shape[2]//2], ind=1)\n",
    "\n",
    "    # Computing/Loading masks solid\n",
    "    this_scan.ind_all_top = ind_all_top\n",
    "    this_scan.ind_all_bottom = ind_all_bottom\n",
    "    this_scan, mask_solid, mask_solid_closed = compute_mask_solid(this_scan, data, threshold_list[ind_scan], force_redo = force_redo)\n",
    "\n",
    "    # # Compute mean solid attenuation and solid volume before cropping\n",
    "    # this_scan.mu_solid_not_cropped_open, this_scan.volume_solid_not_cropped_open, this_scan.volume_solid_not_cropped_open_m3 = mean_attenuation_volume(this_scan, mask_solid, data)\n",
    "    # this_scan.mu_solid_not_cropped_closed, this_scan.volume_solid_not_cropped_closed, this_scan.volume_solid_not_cropped_closed_m3 = mean_attenuation_volume(this_scan, mask_solid_closed, data)\n",
    "    # this_scan.porosity_not_cropped = 1 - np.sum(mask_solid.flatten()) / np.sum(mask_solid_closed.flatten())\n",
    "    #\n",
    "    # # Crop ROI in mask_solid and mask_solid_closed\n",
    "    # mask_solid = mask_crop_ROI(mask_solid, this_scan.ind_top, this_scan.ind_bottom)\n",
    "    # mask_solid_closed = mask_crop_ROI(mask_solid_closed, this_scan.ind_top, this_scan.ind_bottom)\n",
    "    #\n",
    "    # # Compute mean solid attenuation and solid volume after cropping\n",
    "    # this_scan.mu_solid_open, this_scan.volume_solid_open, this_scan.volume_solid_open_m3 = mean_attenuation_volume(this_scan, mask_solid, data)\n",
    "    # this_scan.mu_solid_closed, this_scan.volume_solid_closed, this_scan.volume_solid_closed_m3 = mean_attenuation_volume(this_scan, mask_solid_closed, data)\n",
    "    # this_scan.porosity = 1 - np.sum(mask_solid.flatten()) / np.sum(mask_solid_closed.flatten())\n",
    "    #\n",
    "    # # Analyze pore structure (3D)\n",
    "    # mask_pores = mask_solid_closed * (~mask_solid)\n",
    "    # tic = time.time()\n",
    "    # lab = measure.label(mask_pores)\n",
    "    # properties = np.array(measure.regionprops(lab))\n",
    "    # print('\\tParticle identification and analysis took: '+str(time.time()-tic))\n",
    "    #\n",
    "    # # Cleaning up pores (3D)\n",
    "    # properties = compute_height(properties)\n",
    "    # areas = np.array([prop.area for prop in properties])\n",
    "    # height = np.array([prop.height for prop in properties])\n",
    "    # this_scan.ind_properties_cleaned = np.where((areas>500) * (areas < 300000) * (height > 100))[0]\n",
    "    # properties_cleaned = properties[this_scan.ind_properties_cleaned]\n",
    "    #\n",
    "    # # Compute equivalent cylinder diameters (3D)\n",
    "    # properties_cleaned = compute_equivalent_cylinder_diameters(properties_cleaned)\n",
    "    # this_scan.nb_pores = len(properties_cleaned)\n",
    "    # # this_scan.pore_properties = properties_cleaned # Don't save this, otherwise pickle too heavy (image data stored)\n",
    "    #\n",
    "    # # Analyze pore structure (2D, slice by slice)\n",
    "    # print('\\tStarting 2D pore analysis ', end ='')\n",
    "    # tic = time.time()\n",
    "    # this_scan = analyze_pores_2d(this_scan, mask_pores)\n",
    "    # print(' Done, it took: '+str(time.time()-tic))\n",
    "    #\n",
    "    # # mask_pores = []\n",
    "    # # Build and analyze skeleton for tortuosity\n",
    "    # tic = time.time()\n",
    "    # skeleton = compute_skeleton(this_scan, mask_pores, force_redo = force_redo)\n",
    "    # skeleton_lab = measure.label(skeleton)\n",
    "    # skeleton_properties = measure.regionprops(skeleton_lab)\n",
    "    # print('\\tSkeletonize and analysis took: '+str(time.time()-tic))\n",
    "    #\n",
    "    # # Extract which pores to keep from skeleton\n",
    "    # skeleton_properties = compute_height(skeleton_properties)\n",
    "    # skeleton_areas = np.array([prop.area for prop in skeleton_properties])\n",
    "    # skeleton_height = np.array([prop.height for prop in skeleton_properties])\n",
    "    # this_scan.skeleton_ind_properties_cleaned = np.where((skeleton_areas>50) * (skeleton_areas < 1000) * (skeleton_height > 100))[0]\n",
    "    #\n",
    "    # # Compute tortuosity for each pore\n",
    "    # skeleton_properties_cleaned = compute_tortuosity(np.array(skeleton_properties)[this_scan.skeleton_ind_properties_cleaned])\n",
    "    #\n",
    "    # # Save relevant pore & skeleton properties\n",
    "    # # this_scan.areas = [prop.area for prop in properties_cleaned]\n",
    "    # # this_scan.equivalent_cylinder_diameters = [prop.equivalent_cylinder_diameter for prop in properties_cleaned]\n",
    "    # this_scan.heights = np.array([prop.height for prop in skeleton_properties_cleaned if not np.isnan(prop.tortuosity) and prop.tortuosity > 1 and prop.tortuosity < 1.4])\n",
    "    # this_scan.skeleton_pore_path_length = np.array([prop.length_skeleton for prop in skeleton_properties_cleaned if not np.isnan(prop.tortuosity) and prop.tortuosity > 1 and prop.tortuosity < 1.4])\n",
    "    # this_scan.tortuosity = np.array([prop.tortuosity for prop in skeleton_properties_cleaned if not np.isnan(prop.tortuosity) and prop.tortuosity > 1 and prop.tortuosity < 1.4])\n",
    "    #\n",
    "    # # Update save of scan data\n",
    "    # print('\\tUpdating save pickle')\n",
    "    # with open(path_save+case+'/post_pro_data.pickle', 'wb') as handle:\n",
    "    #     pickle.dump(list_scans, handle)\n",
    "\n",
    "    print('\\tThis scan took: '+str(time.time()-tic_scan))\n",
    "print('Done')"
   ],
   "metadata": {
    "collapsed": false,
    "pycharm": {
     "name": "#%%\n",
     "is_executing": true
    }
   }
  },
  {
   "cell_type": "code",
   "execution_count": 9,
   "outputs": [],
   "source": [
    "with open(path_save+case+'/post_pro_data.pickle', 'rb') as handle:\n",
    "    list_scans = pickle.load(handle)"
   ],
   "metadata": {
    "collapsed": false,
    "pycharm": {
     "name": "#%% Load scan data\n"
    }
   }
  },
  {
   "cell_type": "code",
   "execution_count": 10,
   "outputs": [
    {
     "name": "stdout",
     "output_type": "stream",
     "text": [
      "41\n",
      "40\n",
      "24\n",
      "0.18053177797382491\n",
      "40\n",
      "34\n",
      "1.5643295176328793\n"
     ]
    }
   ],
   "source": [
    "print(len(list_scans))\n",
    "\n",
    "ind_scan = 40\n",
    "\n",
    "print(list_scans[ind_scan].ind)\n",
    "print(list_scans[ind_scan].folder_name)\n",
    "print(list_scans[ind_scan].porosity)\n",
    "print(list_scans[ind_scan].nb_pores)\n",
    "print(len(list_scans[ind_scan].tortuosity))\n",
    "print(list_scans[ind_scan].mean_tortuosity)\n"
   ],
   "metadata": {
    "collapsed": false,
    "pycharm": {
     "name": "#%%\n"
    }
   }
  },
  {
   "cell_type": "code",
   "execution_count": 43,
   "outputs": [
    {
     "name": "stdout",
     "output_type": "stream",
     "text": [
      "Loading scan #1/52 - 21a\n",
      "\tLoading data took: 29.47336220741272\n",
      "Loading scan #2/52 - 21b\n",
      "\tLoading data took: 28.624576807022095\n",
      "Loading scan #3/52 - 22a\n",
      "\tLoading data took: 29.96585750579834\n",
      "Loading scan #4/52 - 22b\n",
      "\tLoading data took: 28.03941583633423\n",
      "Loading scan #5/52 - 23a\n",
      "\tLoading data took: 26.810391426086426\n",
      "Loading scan #6/52 - 23b\n",
      "\tLoading data took: 28.192319869995117\n",
      "Loading scan #7/52 - 24a\n",
      "\tLoading data took: 28.19716763496399\n",
      "Loading scan #8/52 - 24b\n",
      "\tLoading data took: 27.833656787872314\n",
      "Loading scan #9/52 - 25a\n",
      "\tLoading data took: 27.228797912597656\n",
      "Loading scan #10/52 - 25b\n",
      "\tLoading data took: 27.412358283996582\n",
      "Loading scan #11/52 - 26a\n",
      "\tLoading data took: 27.326425313949585\n",
      "Loading scan #12/52 - 26b\n",
      "\tLoading data took: 26.930753707885742\n",
      "Loading scan #13/52 - 27-post\n",
      "\tLoading data took: 26.810258865356445\n",
      "Loading scan #14/52 - 28-post\n",
      "\tLoading data took: 28.123441219329834\n",
      "Loading scan #15/52 - 29-post\n",
      "\tLoading data took: 27.962918519973755\n",
      "Loading scan #16/52 - 30-post\n",
      "\tLoading data took: 27.8821918964386\n",
      "Loading scan #17/52 - 31-post\n",
      "\tLoading data took: 28.901204586029053\n",
      "Loading scan #18/52 - 32-post\n",
      "\tLoading data took: 28.715858459472656\n"
     ]
    }
   ],
   "source": [
    "ind_slice_X = 600-1 # Reslice from Top in Fiji\n",
    "ind_slice_Y = 620-1 # Reslice from Left in Fiji\n",
    "nb_scans = len(list_scans)\n",
    "\n",
    "for ind_scan,this_scan in enumerate(list_scans[34:]):\n",
    "\n",
    "    print('Loading scan #'+str(ind_scan+1)+'/'+str(nb_scans)+' - '+this_scan.folder_name)\n",
    "\n",
    "    # Loading data\n",
    "    tic = time.time()\n",
    "    data = File(path_save+case+'/'+this_scan.folder_name+'/b_movingRegisteredToStatic/').readAll()\n",
    "    print('\\tLoading data took: '+str(time.time()-tic))\n",
    "\n",
    "    File(path_save+case+'/probe_sliceX_'+str(ind_slice_X).zfill(4)).saveTiff(data[:,ind_slice_X,:], ind = this_scan.ind)\n",
    "    File(path_save+case+'/probe_sliceY_'+str(ind_slice_Y).zfill(4)).saveTiff(data[:,:,ind_slice_Y], ind = this_scan.ind)"
   ],
   "metadata": {
    "collapsed": false,
    "pycharm": {
     "name": "#%% Export vertical slices\n"
    }
   }
  },
  {
   "cell_type": "code",
   "execution_count": 11,
   "outputs": [
    {
     "name": "stdout",
     "output_type": "stream",
     "text": [
      "1661198128.3086932\n"
     ]
    }
   ],
   "source": [
    "print(time.time())\n"
   ],
   "metadata": {
    "collapsed": false,
    "pycharm": {
     "name": "#%%\n"
    }
   }
  },
  {
   "cell_type": "code",
   "execution_count": 12,
   "outputs": [
    {
     "name": "stdout",
     "output_type": "stream",
     "text": [
      "01\n",
      "02\n",
      "03\n",
      "04\n",
      "05a\n",
      "05b\n",
      "06a\n",
      "06b\n",
      "07a\n",
      "07b\n",
      "08a\n",
      "08b\n",
      "09a\n",
      "09b\n",
      "10a\n",
      "10b\n",
      "11a\n",
      "11b\n",
      "12a\n",
      "12b\n",
      "13a\n",
      "13b\n",
      "14a\n",
      "14b\n",
      "15a\n",
      "15b\n",
      "16a\n",
      "16b\n",
      "17a\n",
      "17b\n",
      "18a\n",
      "18b\n",
      "19a\n",
      "19b\n",
      "20a\n",
      "20b\n",
      "21a\n",
      "21b\n",
      "22\n",
      "23\n",
      "24\n",
      "Done\n",
      "\tUpdating save pickle\n"
     ]
    }
   ],
   "source": [
    "for scan in list_scans:\n",
    "    scan.voxel_size = voxel_size\n",
    "    if hasattr(scan, 'volume_solid_closed_not_cropped'):\n",
    "        scan.volume_solid_not_cropped_closed = scan.volume_solid_closed_not_cropped\n",
    "        scan.volume_solid_not_cropped_closed_m3 = scan.volume_solid_closed_not_cropped_m3\n",
    "\n",
    "    # 2D slice properties\n",
    "    scan.slice_ind_keep = np.concatenate(scan.slice_eq_diameters) > 2\n",
    "    scan.slice_mean_eq_diameter = np.nanmean(np.concatenate(scan.slice_eq_diameters)[scan.slice_ind_keep]) * voxel_size\n",
    "    scan.slice_mean_eccentricity = np.nanmean(np.concatenate(scan.slice_ellipse_eccentricity)[scan.slice_ind_keep])\n",
    "    scan.slice_mean_angle_to_growth = np.nanmean(np.concatenate(scan.slice_angles_to_growth)[scan.slice_ind_keep])\n",
    "\n",
    "    # 3D pore/skeleton properties\n",
    "    scan.mean_eq_diameter = np.nanmean(scan.equivalent_cylinder_diameters)\n",
    "    scan.mean_tortuosity = np.nansum(scan.tortuosity * scan.skeleton_pore_path_length) / np.nansum(~np.isnan(scan.tortuosity) * scan.skeleton_pore_path_length)\n",
    "    scan.mean_tortuosity_perNumber = np.nanmean(scan.tortuosity)\n",
    "\n",
    "    # 3D single particle properties, assuming a cylindrical shape\n",
    "    scan.total_sample_height = scan.ind_bottom+scan.ind_margin - (scan.ind_top-scan.ind_margin)\n",
    "    scan.total_sample_height_microns = scan.total_sample_height * voxel_size\n",
    "    scan.total_sample_eq_diameter = np.sqrt(4.0 / np.pi * scan.volume_solid_not_cropped_closed / scan.total_sample_height)\n",
    "    scan.total_sample_eq_diameter_microns = scan.total_sample_eq_diameter * voxel_size\n",
    "\n",
    "    print(scan.folder_name)\n",
    "print('Done')\n",
    "\n",
    "# Update save of scan data\n",
    "\n",
    "print('\\tUpdating save pickle')\n",
    "with open(path_save+case+'/post_pro_data.pickle', 'wb') as handle:\n",
    "    pickle.dump(list_scans, handle)\n",
    "\n",
    "\n",
    "\n"
   ],
   "metadata": {
    "collapsed": false,
    "pycharm": {
     "name": "#%% Faster post-pro\n"
    }
   }
  },
  {
   "cell_type": "code",
   "execution_count": null,
   "outputs": [],
   "source": [
    "# I = properties[ind_properties_cleaned[ind_pore]].inertia_tensor\n",
    "#\n",
    "# import scipy.linalg\n",
    "# eigen_values, eigen_vectors = scipy.linalg.eig(I)\n",
    "#\n",
    "# print(eigen_values)\n",
    "# print(eigen_vectors)\n",
    "#\n",
    "# ind = 1\n",
    "#\n",
    "# print(I.dot(eigen_vectors[:,ind]) / eigen_values[ind])\n",
    "# print(eigen_vectors.transpose().dot(I).dot(eigen_vectors))\n"
   ],
   "metadata": {
    "collapsed": false,
    "pycharm": {
     "name": "#%% Looking at inertia_tensor\n"
    }
   }
  }
 ],
 "metadata": {
  "kernelspec": {
   "display_name": "Python 3",
   "language": "python",
   "name": "python3"
  },
  "language_info": {
   "codemirror_mode": {
    "name": "ipython",
    "version": 2
   },
   "file_extension": ".py",
   "mimetype": "text/x-python",
   "name": "python",
   "nbconvert_exporter": "python",
   "pygments_lexer": "ipython2",
   "version": "2.7.6"
  }
 },
 "nbformat": 4,
 "nbformat_minor": 0
}